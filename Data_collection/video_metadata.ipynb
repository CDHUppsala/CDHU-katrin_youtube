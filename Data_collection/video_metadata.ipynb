{
 "cells": [
  {
   "cell_type": "code",
   "execution_count": 1,
   "metadata": {},
   "outputs": [],
   "source": [
    "from pytube import YouTube\n",
    "from pytube import Channel\n",
    "from pytube import extract\n",
    "import pandas as pd\n",
    "from collections import defaultdict\n",
    "import os"
   ]
  },
  {
   "cell_type": "code",
   "execution_count": 3,
   "metadata": {},
   "outputs": [],
   "source": [
    "file_test = 'video_urls.csv'\n",
    "df = pd.read_csv(file_test)\n",
    "df = df.drop(columns='Unnamed: 0')"
   ]
  },
  {
   "cell_type": "code",
   "execution_count": 4,
   "metadata": {},
   "outputs": [],
   "source": [
    "df = df[255:265].reset_index(drop= True)"
   ]
  },
  {
   "cell_type": "code",
   "execution_count": 5,
   "metadata": {},
   "outputs": [
    {
     "data": {
      "text/html": [
       "<div>\n",
       "<style scoped>\n",
       "    .dataframe tbody tr th:only-of-type {\n",
       "        vertical-align: middle;\n",
       "    }\n",
       "\n",
       "    .dataframe tbody tr th {\n",
       "        vertical-align: top;\n",
       "    }\n",
       "\n",
       "    .dataframe thead th {\n",
       "        text-align: right;\n",
       "    }\n",
       "</style>\n",
       "<table border=\"1\" class=\"dataframe\">\n",
       "  <thead>\n",
       "    <tr style=\"text-align: right;\">\n",
       "      <th></th>\n",
       "      <th>channel</th>\n",
       "      <th>url</th>\n",
       "    </tr>\n",
       "  </thead>\n",
       "  <tbody>\n",
       "    <tr>\n",
       "      <th>0</th>\n",
       "      <td>UPA_Federal</td>\n",
       "      <td>youtube.com/watch?v=b4vPOoDtttE</td>\n",
       "    </tr>\n",
       "    <tr>\n",
       "      <th>1</th>\n",
       "      <td>UPA_Federal</td>\n",
       "      <td>youtube.com/watch?v=OYS2pt9DVsY</td>\n",
       "    </tr>\n",
       "    <tr>\n",
       "      <th>2</th>\n",
       "      <td>UPA_Federal</td>\n",
       "      <td>youtube.com/watch?v=yq5LTOSht7M</td>\n",
       "    </tr>\n",
       "    <tr>\n",
       "      <th>3</th>\n",
       "      <td>UPA_Federal</td>\n",
       "      <td>youtube.com/watch?v=5Q9yXVlAtXA</td>\n",
       "    </tr>\n",
       "    <tr>\n",
       "      <th>4</th>\n",
       "      <td>UPA_Federal</td>\n",
       "      <td>youtube.com/watch?v=f0QNt-OsmgE</td>\n",
       "    </tr>\n",
       "    <tr>\n",
       "      <th>5</th>\n",
       "      <td>UPA_Federal</td>\n",
       "      <td>youtube.com/watch?v=Tb_pMJIQOTk</td>\n",
       "    </tr>\n",
       "    <tr>\n",
       "      <th>6</th>\n",
       "      <td>CSIFNacional</td>\n",
       "      <td>youtube.com/watch?v=uTiPr5n1daY</td>\n",
       "    </tr>\n",
       "    <tr>\n",
       "      <th>7</th>\n",
       "      <td>CSIFNacional</td>\n",
       "      <td>youtube.com/watch?v=-vehbrcFsFQ</td>\n",
       "    </tr>\n",
       "    <tr>\n",
       "      <th>8</th>\n",
       "      <td>CSIFNacional</td>\n",
       "      <td>youtube.com/watch?v=RjSTUo3UM7M</td>\n",
       "    </tr>\n",
       "    <tr>\n",
       "      <th>9</th>\n",
       "      <td>CSIFNacional</td>\n",
       "      <td>youtube.com/watch?v=SwN9yBezHKg</td>\n",
       "    </tr>\n",
       "  </tbody>\n",
       "</table>\n",
       "</div>"
      ],
      "text/plain": [
       "        channel                              url\n",
       "0   UPA_Federal  youtube.com/watch?v=b4vPOoDtttE\n",
       "1   UPA_Federal  youtube.com/watch?v=OYS2pt9DVsY\n",
       "2   UPA_Federal  youtube.com/watch?v=yq5LTOSht7M\n",
       "3   UPA_Federal  youtube.com/watch?v=5Q9yXVlAtXA\n",
       "4   UPA_Federal  youtube.com/watch?v=f0QNt-OsmgE\n",
       "5   UPA_Federal  youtube.com/watch?v=Tb_pMJIQOTk\n",
       "6  CSIFNacional  youtube.com/watch?v=uTiPr5n1daY\n",
       "7  CSIFNacional  youtube.com/watch?v=-vehbrcFsFQ\n",
       "8  CSIFNacional  youtube.com/watch?v=RjSTUo3UM7M\n",
       "9  CSIFNacional  youtube.com/watch?v=SwN9yBezHKg"
      ]
     },
     "execution_count": 5,
     "metadata": {},
     "output_type": "execute_result"
    }
   ],
   "source": [
    "df"
   ]
  },
  {
   "cell_type": "code",
   "execution_count": 47,
   "metadata": {},
   "outputs": [],
   "source": [
    "def create_file(folder):\n",
    "    try: # if it is possible to create the folder\n",
    "        os.mkdir(folder)\n",
    "    except: # if the folder was not created successfuly, raise a warning\n",
    "        print('There is an error with the folder')\n",
    "\n",
    "def video_download(youtube_video, path, name):\n",
    "    itag = youtube_video.streams.filter(only_video=True).asc().first().itag # get the highest resolution possible \n",
    "    stream = youtube_video.streams.get_by_itag(itag)\n",
    "    stream.download(output_path = path, filename = name)\n",
    "\n",
    "def video_metadata(df): # df must contain a column called url where the urls to the videos are stored\n",
    "    # To store the information\n",
    "    info = defaultdict(list)\n",
    "\n",
    "    for idx in range(0,df.shape[0]):\n",
    "\n",
    "        # Access the video url from data frame\n",
    "        video_url = df['url'].iloc[idx]\n",
    "        print(f'Video_url: {video_url}')\n",
    "        channel_name = df['channel'].iloc[idx]\n",
    "        print(f'Channel: {channel_name}')\n",
    "\n",
    "        # Create a youtube object to use the API\n",
    "        yt = YouTube(video_url)\n",
    "\n",
    "        # ---------- Collect metadata \n",
    "\n",
    "        # Collect information from the video and store\n",
    "        info['video_title'].append(yt.title)\n",
    "        video_id = extract.video_id(video_url)\n",
    "        info['video_id'].append(video_id)\n",
    "        info['videos_length'].append(yt.length)\n",
    "        info['videos_views'].append(yt.views)\n",
    "        info['videos_description'].append(yt.description)\n",
    "        info['videos_keywords'].append(yt.keywords)\n",
    "        info['videos_age_resticted'].append(yt.age_restricted)\n",
    "        info['videos_author'].append(yt.author)\n",
    "        info['videos_pub_date'].append(yt.publish_date)\n",
    "        info['videos_rating'].append(yt.rating)\n",
    "\n",
    "        # ---------- Download videos \n",
    "\n",
    "        # Create a folder for that channel\n",
    "        channel_folder = os.getcwd() + '/Videos/' + channel_name\n",
    "        #print(f'Folder: {channel_folder}')\n",
    "\n",
    "        if os.path.exists(channel_folder):\n",
    "            # Download the video here\n",
    "            try:\n",
    "                video_download(yt, channel_folder, video_id+'.mp4')\n",
    "            except:\n",
    "                print('Video not downloaded')\n",
    "        else:\n",
    "            create_file(channel_folder)\n",
    "            # Then download the viedeo here\n",
    "            try:\n",
    "                video_download(yt, channel_folder, video_id+'.mp4')\n",
    "            except:\n",
    "                print('Video not downloaded')\n",
    "\n",
    "\n",
    "        if idx % 1000 == 0:\n",
    "            print(f'We are in video {idx} in channel {yt.author}')\n",
    "\n",
    "    return info"
   ]
  },
  {
   "cell_type": "code",
   "execution_count": 48,
   "metadata": {},
   "outputs": [
    {
     "name": "stdout",
     "output_type": "stream",
     "text": [
      "Video_url: youtube.com/watch?v=b4vPOoDtttE\n",
      "Channel: UPA_Federal\n",
      "Folder: /Users/pauor506/Documents/CDHU/June2022:Dec2022/Pilots/Youtube_Katrin/Code/Data_collection/Videos/UPA_Federal\n",
      "The folder exists\n",
      "We are in video 0 in channel UPA - Unión de Pequeños Agricultores y Ganaderos\n",
      "Video_url: youtube.com/watch?v=OYS2pt9DVsY\n",
      "Channel: UPA_Federal\n",
      "Folder: /Users/pauor506/Documents/CDHU/June2022:Dec2022/Pilots/Youtube_Katrin/Code/Data_collection/Videos/UPA_Federal\n",
      "The folder exists\n",
      "Video not downloaded\n",
      "Video_url: youtube.com/watch?v=yq5LTOSht7M\n",
      "Channel: UPA_Federal\n",
      "Folder: /Users/pauor506/Documents/CDHU/June2022:Dec2022/Pilots/Youtube_Katrin/Code/Data_collection/Videos/UPA_Federal\n",
      "The folder exists\n",
      "Video not downloaded\n",
      "Video_url: youtube.com/watch?v=5Q9yXVlAtXA\n",
      "Channel: UPA_Federal\n",
      "Folder: /Users/pauor506/Documents/CDHU/June2022:Dec2022/Pilots/Youtube_Katrin/Code/Data_collection/Videos/UPA_Federal\n",
      "The folder exists\n",
      "Video_url: youtube.com/watch?v=f0QNt-OsmgE\n",
      "Channel: UPA_Federal\n",
      "Folder: /Users/pauor506/Documents/CDHU/June2022:Dec2022/Pilots/Youtube_Katrin/Code/Data_collection/Videos/UPA_Federal\n",
      "The folder exists\n",
      "Video not downloaded\n",
      "Video_url: youtube.com/watch?v=Tb_pMJIQOTk\n",
      "Channel: UPA_Federal\n",
      "Folder: /Users/pauor506/Documents/CDHU/June2022:Dec2022/Pilots/Youtube_Katrin/Code/Data_collection/Videos/UPA_Federal\n",
      "The folder exists\n",
      "Video not downloaded\n",
      "Video_url: youtube.com/watch?v=uTiPr5n1daY\n",
      "Channel: CSIFNacional\n",
      "Folder: /Users/pauor506/Documents/CDHU/June2022:Dec2022/Pilots/Youtube_Katrin/Code/Data_collection/Videos/CSIFNacional\n",
      "Video_url: youtube.com/watch?v=-vehbrcFsFQ\n",
      "Channel: CSIFNacional\n",
      "Folder: /Users/pauor506/Documents/CDHU/June2022:Dec2022/Pilots/Youtube_Katrin/Code/Data_collection/Videos/CSIFNacional\n",
      "The folder exists\n",
      "Video_url: youtube.com/watch?v=RjSTUo3UM7M\n",
      "Channel: CSIFNacional\n",
      "Folder: /Users/pauor506/Documents/CDHU/June2022:Dec2022/Pilots/Youtube_Katrin/Code/Data_collection/Videos/CSIFNacional\n",
      "The folder exists\n",
      "Video_url: youtube.com/watch?v=SwN9yBezHKg\n",
      "Channel: CSIFNacional\n",
      "Folder: /Users/pauor506/Documents/CDHU/June2022:Dec2022/Pilots/Youtube_Katrin/Code/Data_collection/Videos/CSIFNacional\n",
      "The folder exists\n"
     ]
    }
   ],
   "source": [
    "# Getting all the metadata \n",
    "info = video_metadata(df)"
   ]
  },
  {
   "cell_type": "code",
   "execution_count": 49,
   "metadata": {},
   "outputs": [
    {
     "data": {
      "text/plain": [
       "defaultdict(list,\n",
       "            {'video_title': ['El sector se une en defensa del aceite de oliva',\n",
       "              'Reunión MARM-OPAs medidas de apoyo a la ganadería',\n",
       "              'FADEMUR - 8 de marzo, día de la mujer trabajadora 2011',\n",
       "              'Reunión en el MARM para analizar la crisis ganadera',\n",
       "              'Fademur Catalunya 2011',\n",
       "              'Dacian Ciolos saluda a la Unión de Pequeños Agricultores y Ganaderos (UPA)',\n",
       "              'El sistema educativo público está desbordado por falta de financiación.',\n",
       "              'CSIF exige más medios para un Sanidad en declive',\n",
       "              'CSIF defiende el acceso a la nueva promoción interna y retener así el talento en la AGE',\n",
       "              'CSIF exige más medios para un Sanidad en declive'],\n",
       "             'video_id': ['b4vPOoDtttE',\n",
       "              'OYS2pt9DVsY',\n",
       "              'yq5LTOSht7M',\n",
       "              '5Q9yXVlAtXA',\n",
       "              'f0QNt-OsmgE',\n",
       "              'Tb_pMJIQOTk',\n",
       "              'uTiPr5n1daY',\n",
       "              '-vehbrcFsFQ',\n",
       "              'RjSTUo3UM7M',\n",
       "              'SwN9yBezHKg'],\n",
       "             'videos_length': [270, 298, 293, 288, 366, 506, 27, 106, 7, 7],\n",
       "             'videos_views': [45, 23, 128, 48, 61, 286, 52, 89, 55, 23],\n",
       "             'videos_description': ['Acciones▾Compartir esto▾Más nuevosMás antiguos\\r\\n\\r\\nLos líderes de las tres organizaciones agrarias representativas a nivel nacional, ASAJA, COAG y UPA y Cooperativas Agro-Alimentarias, han comparecido en rueda de prensa para pedir medidas que permitan resolver la situación de crisis que vive el sector.',\n",
       "              'Lorenzo Ramos ha asistido a la reunión con la ministra de Medio Ambiente, y Medio Rural y Marino, Rosa Aguilar, para asistir a la presentación de un documento con medidas de apoyo a la ganadería.',\n",
       "              '',\n",
       "              'Lorenzo Ramos y Román Santalla, secretario general y secretario de Ganadería de UPA, acuden al Ministerio de Medio Ambiente, y Medio Rural y Marino a una reunión con Rosa Aguilar para analizar la crisis ganadera.',\n",
       "              \"La Federació d'Associacions de Dones Rurals (FADEMUR) mostra la seva força en aquest vídeo-presentació, editat amb motiu de les eleccions a Cambres Agràries a Catalunya al febrer de 2011. Unit als eslògans de l'organització, apareixen els actes organitzats per FADEMUR a tot Espanya els últims anys.\\r\\n \\r\\n_____________________________________________________\\r\\n \\r\\nLa Federación de Asociaciones de Mujeres Rurales (FADEMUR) muestra su fuerza en este vídeo-presentación, editado con motivo de las elecciones a Cámaras Agrarias en Cataluña en febrero de 2011. Unido a los eslóganes de la organización, aparecen los actos organizados por FADEMUR en toda España los últimos años\",\n",
       "              'El Comisario de Agricultura y Desarrollo Rural de la Comisión Europea, Dacian Ciolos, saluda en este vídeo a los asistentes al acto de presentación del Informe de la Agricultura Familiar 2010, celebrado en el CES de Madrid en el mes de julio.',\n",
       "              '',\n",
       "              '',\n",
       "              '',\n",
       "              ''],\n",
       "             'videos_keywords': [['Lorenzo Ramos',\n",
       "               'UPA',\n",
       "               'aceite de oliva',\n",
       "               'almacenamiento privado',\n",
       "               'MARM',\n",
       "               'Bruselas',\n",
       "               'COAG',\n",
       "               'ASAJA',\n",
       "               'Cooperativas Agro-alimentarias'],\n",
       "              ['Lorenzo Ramos', 'Rosa Aguilar', 'ganadería', 'UPA'],\n",
       "              ['FADEMUR', 'mujer rural', 'mujeres'],\n",
       "              ['Lorenzo Ramos', 'MARM', 'ganadería', 'ganaderos', 'crisis'],\n",
       "              ['FADEMUR', 'Catalunya', 'dones rurals', 'pageses'],\n",
       "              ['UPA', 'agricultura', 'ganadería', 'PAC', 'Dacian Ciolos'],\n",
       "              ['Sindicato', 'CSI-F'],\n",
       "              ['Sindicato', 'CSI-F'],\n",
       "              ['Sindicato', 'CSI-F'],\n",
       "              ['Sindicato', 'CSI-F']],\n",
       "             'videos_age_resticted': [False,\n",
       "              False,\n",
       "              False,\n",
       "              False,\n",
       "              False,\n",
       "              False,\n",
       "              False,\n",
       "              False,\n",
       "              False,\n",
       "              False],\n",
       "             'videos_author': ['UPA - Unión de Pequeños Agricultores y Ganaderos',\n",
       "              'UPA - Unión de Pequeños Agricultores y Ganaderos',\n",
       "              'UPA - Unión de Pequeños Agricultores y Ganaderos',\n",
       "              'UPA - Unión de Pequeños Agricultores y Ganaderos',\n",
       "              'UPA - Unión de Pequeños Agricultores y Ganaderos',\n",
       "              'UPA - Unión de Pequeños Agricultores y Ganaderos',\n",
       "              'CSIF Nacional',\n",
       "              'CSIF Nacional',\n",
       "              'CSIF Nacional',\n",
       "              'CSIF Nacional'],\n",
       "             'videos_pub_date': [datetime.datetime(2011, 3, 15, 0, 0),\n",
       "              datetime.datetime(2011, 3, 8, 0, 0),\n",
       "              datetime.datetime(2011, 3, 8, 0, 0),\n",
       "              datetime.datetime(2011, 3, 4, 0, 0),\n",
       "              datetime.datetime(2011, 2, 17, 0, 0),\n",
       "              datetime.datetime(2010, 8, 2, 0, 0),\n",
       "              datetime.datetime(2022, 12, 20, 0, 0),\n",
       "              datetime.datetime(2022, 12, 19, 0, 0),\n",
       "              datetime.datetime(2022, 12, 18, 0, 0),\n",
       "              datetime.datetime(2022, 12, 18, 0, 0)],\n",
       "             'videos_rating': [None,\n",
       "              None,\n",
       "              None,\n",
       "              None,\n",
       "              None,\n",
       "              None,\n",
       "              None,\n",
       "              None,\n",
       "              None,\n",
       "              None]})"
      ]
     },
     "execution_count": 49,
     "metadata": {},
     "output_type": "execute_result"
    }
   ],
   "source": [
    "info"
   ]
  },
  {
   "cell_type": "code",
   "execution_count": 50,
   "metadata": {},
   "outputs": [],
   "source": [
    "ch_name = 'b4vPOoDtttE.mp4'\n",
    "Video_url = 'https://www.youtube.com/watch?v=OYS2pt9DVsY'\n",
    "Folder = '/Users/pauor506/Documents/CDHU/June2022:Dec2022/Pilots/Youtube_Katrin/Code/Data_collection/Videos/UPA_Federal/'\n",
    "\n",
    "yt = YouTube(Video_url)"
   ]
  },
  {
   "cell_type": "code",
   "execution_count": 51,
   "metadata": {},
   "outputs": [],
   "source": [
    "tag = yt.streams.filter(only_video=True).asc().first().itag\n",
    "stream = yt.streams.get_by_itag(tag)"
   ]
  },
  {
   "cell_type": "code",
   "execution_count": 53,
   "metadata": {},
   "outputs": [
    {
     "data": {
      "text/plain": [
       "136"
      ]
     },
     "execution_count": 53,
     "metadata": {},
     "output_type": "execute_result"
    }
   ],
   "source": [
    "tag"
   ]
  },
  {
   "cell_type": "code",
   "execution_count": 52,
   "metadata": {},
   "outputs": [
    {
     "ename": "KeyError",
     "evalue": "'content-length'",
     "output_type": "error",
     "traceback": [
      "\u001b[0;31m---------------------------------------------------------------------------\u001b[0m",
      "\u001b[0;31mKeyError\u001b[0m                                  Traceback (most recent call last)",
      "\u001b[1;32m/Users/pauor506/Documents/CDHU/June2022:Dec2022/Pilots/Youtube_Katrin/Code/Data_collection/video_metadata.ipynb Cell 10\u001b[0m in \u001b[0;36m<cell line: 1>\u001b[0;34m()\u001b[0m\n\u001b[0;32m----> <a href='vscode-notebook-cell:/Users/pauor506/Documents/CDHU/June2022%3ADec2022/Pilots/Youtube_Katrin/Code/Data_collection/video_metadata.ipynb#X41sZmlsZQ%3D%3D?line=0'>1</a>\u001b[0m stream\u001b[39m.\u001b[39;49mdownload()\n",
      "File \u001b[0;32m~/opt/miniconda3/envs/tensorflow_m1/lib/python3.9/site-packages/pytube/streams.py:309\u001b[0m, in \u001b[0;36mStream.download\u001b[0;34m(self, output_path, filename, filename_prefix, skip_existing, timeout, max_retries)\u001b[0m\n\u001b[1;32m    306\u001b[0m     \u001b[39mself\u001b[39m\u001b[39m.\u001b[39mon_complete(file_path)\n\u001b[1;32m    307\u001b[0m     \u001b[39mreturn\u001b[39;00m file_path\n\u001b[0;32m--> 309\u001b[0m bytes_remaining \u001b[39m=\u001b[39m \u001b[39mself\u001b[39;49m\u001b[39m.\u001b[39;49mfilesize\n\u001b[1;32m    310\u001b[0m logger\u001b[39m.\u001b[39mdebug(\u001b[39mf\u001b[39m\u001b[39m'\u001b[39m\u001b[39mdownloading (\u001b[39m\u001b[39m{\u001b[39;00m\u001b[39mself\u001b[39m\u001b[39m.\u001b[39mfilesize\u001b[39m}\u001b[39;00m\u001b[39m total bytes) file to \u001b[39m\u001b[39m{\u001b[39;00mfile_path\u001b[39m}\u001b[39;00m\u001b[39m'\u001b[39m)\n\u001b[1;32m    312\u001b[0m \u001b[39mwith\u001b[39;00m \u001b[39mopen\u001b[39m(file_path, \u001b[39m\"\u001b[39m\u001b[39mwb\u001b[39m\u001b[39m\"\u001b[39m) \u001b[39mas\u001b[39;00m fh:\n",
      "File \u001b[0;32m~/opt/miniconda3/envs/tensorflow_m1/lib/python3.9/site-packages/pytube/streams.py:157\u001b[0m, in \u001b[0;36mStream.filesize\u001b[0;34m(self)\u001b[0m\n\u001b[1;32m    155\u001b[0m \u001b[39mif\u001b[39;00m \u001b[39mself\u001b[39m\u001b[39m.\u001b[39m_filesize \u001b[39m==\u001b[39m \u001b[39m0\u001b[39m:\n\u001b[1;32m    156\u001b[0m     \u001b[39mtry\u001b[39;00m:\n\u001b[0;32m--> 157\u001b[0m         \u001b[39mself\u001b[39m\u001b[39m.\u001b[39m_filesize \u001b[39m=\u001b[39m request\u001b[39m.\u001b[39;49mfilesize(\u001b[39mself\u001b[39;49m\u001b[39m.\u001b[39;49murl)\n\u001b[1;32m    158\u001b[0m     \u001b[39mexcept\u001b[39;00m HTTPError \u001b[39mas\u001b[39;00m e:\n\u001b[1;32m    159\u001b[0m         \u001b[39mif\u001b[39;00m e\u001b[39m.\u001b[39mcode \u001b[39m!=\u001b[39m \u001b[39m404\u001b[39m:\n",
      "File \u001b[0;32m~/opt/miniconda3/envs/tensorflow_m1/lib/python3.9/site-packages/pytube/request.py:200\u001b[0m, in \u001b[0;36mfilesize\u001b[0;34m(url)\u001b[0m\n\u001b[1;32m    193\u001b[0m \u001b[39m@lru_cache\u001b[39m()\n\u001b[1;32m    194\u001b[0m \u001b[39mdef\u001b[39;00m \u001b[39mfilesize\u001b[39m(url):\n\u001b[1;32m    195\u001b[0m     \u001b[39m\"\"\"Fetch size in bytes of file at given URL\u001b[39;00m\n\u001b[1;32m    196\u001b[0m \n\u001b[1;32m    197\u001b[0m \u001b[39m    :param str url: The URL to get the size of\u001b[39;00m\n\u001b[1;32m    198\u001b[0m \u001b[39m    :returns: int: size in bytes of remote file\u001b[39;00m\n\u001b[1;32m    199\u001b[0m \u001b[39m    \"\"\"\u001b[39;00m\n\u001b[0;32m--> 200\u001b[0m     \u001b[39mreturn\u001b[39;00m \u001b[39mint\u001b[39m(head(url)[\u001b[39m\"\u001b[39;49m\u001b[39mcontent-length\u001b[39;49m\u001b[39m\"\u001b[39;49m])\n",
      "\u001b[0;31mKeyError\u001b[0m: 'content-length'"
     ]
    }
   ],
   "source": [
    "stream.download()"
   ]
  },
  {
   "cell_type": "code",
   "execution_count": null,
   "metadata": {},
   "outputs": [],
   "source": []
  },
  {
   "cell_type": "code",
   "execution_count": null,
   "metadata": {},
   "outputs": [],
   "source": []
  },
  {
   "cell_type": "code",
   "execution_count": null,
   "metadata": {},
   "outputs": [],
   "source": []
  }
 ],
 "metadata": {
  "kernelspec": {
   "display_name": "tensorflow_m1",
   "language": "python",
   "name": "python3"
  },
  "language_info": {
   "codemirror_mode": {
    "name": "ipython",
    "version": 3
   },
   "file_extension": ".py",
   "mimetype": "text/x-python",
   "name": "python",
   "nbconvert_exporter": "python",
   "pygments_lexer": "ipython3",
   "version": "3.9.13"
  },
  "orig_nbformat": 4,
  "vscode": {
   "interpreter": {
    "hash": "e8fd7f81d704f7e8486f20ea3bbff14b5db78c7b6c53c5bab1d61bc90f011f82"
   }
  }
 },
 "nbformat": 4,
 "nbformat_minor": 2
}
