{
 "cells": [
  {
   "cell_type": "code",
   "execution_count": 1,
   "metadata": {},
   "outputs": [],
   "source": [
    "from pytube import YouTube\n",
    "from pytube import Channel\n",
    "import pandas as pd"
   ]
  },
  {
   "cell_type": "code",
   "execution_count": 8,
   "metadata": {},
   "outputs": [],
   "source": [
    "file = '/Users/pauor506/Documents/CDHU/June2022:Dec2022/Pilots/Youtube_Katrin/youtube_adresser_KU.xlsx'\n",
    "#df = pd.read_csv(file)\n",
    "df = pd.read_excel(file)"
   ]
  },
  {
   "cell_type": "code",
   "execution_count": 10,
   "metadata": {},
   "outputs": [],
   "source": [
    "url_test = 'https://www.youtube.com/watch?v=grTRnHWDFeU'\n",
    "df['videos_url'] = url_test\n"
   ]
  },
  {
   "cell_type": "code",
   "execution_count": 11,
   "metadata": {},
   "outputs": [
    {
     "data": {
      "text/html": [
       "<div>\n",
       "<style scoped>\n",
       "    .dataframe tbody tr th:only-of-type {\n",
       "        vertical-align: middle;\n",
       "    }\n",
       "\n",
       "    .dataframe tbody tr th {\n",
       "        vertical-align: top;\n",
       "    }\n",
       "\n",
       "    .dataframe thead th {\n",
       "        text-align: right;\n",
       "    }\n",
       "</style>\n",
       "<table border=\"1\" class=\"dataframe\">\n",
       "  <thead>\n",
       "    <tr style=\"text-align: right;\">\n",
       "      <th></th>\n",
       "      <th>channel (add @ to all)</th>\n",
       "      <th>unionname</th>\n",
       "      <th>org</th>\n",
       "      <th>name of the channel if differs from unionname</th>\n",
       "      <th>videos_url</th>\n",
       "    </tr>\n",
       "  </thead>\n",
       "  <tbody>\n",
       "    <tr>\n",
       "      <th>0</th>\n",
       "      <td>6Fackforbund</td>\n",
       "      <td>6f fackförbund</td>\n",
       "      <td>LO</td>\n",
       "      <td>NaN</td>\n",
       "      <td>https://www.youtube.com/watch?v=grTRnHWDFeU</td>\n",
       "    </tr>\n",
       "    <tr>\n",
       "      <th>1</th>\n",
       "      <td>akademikerforbundetssr</td>\n",
       "      <td>akademikerförbundet ssr</td>\n",
       "      <td>Saco</td>\n",
       "      <td>NaN</td>\n",
       "      <td>https://www.youtube.com/watch?v=grTRnHWDFeU</td>\n",
       "    </tr>\n",
       "    <tr>\n",
       "      <th>2</th>\n",
       "      <td>Akavia</td>\n",
       "      <td>Akademikernas Fackförbund</td>\n",
       "      <td>Saco</td>\n",
       "      <td>Akavia</td>\n",
       "      <td>https://www.youtube.com/watch?v=grTRnHWDFeU</td>\n",
       "    </tr>\n",
       "    <tr>\n",
       "      <th>3</th>\n",
       "      <td>byggnads</td>\n",
       "      <td>byggnads</td>\n",
       "      <td>LO</td>\n",
       "      <td>NaN</td>\n",
       "      <td>https://www.youtube.com/watch?v=grTRnHWDFeU</td>\n",
       "    </tr>\n",
       "    <tr>\n",
       "      <th>4</th>\n",
       "      <td>byggnadsa-kassa7135</td>\n",
       "      <td>byggnads</td>\n",
       "      <td>LO</td>\n",
       "      <td>Byggnads a-kassa</td>\n",
       "      <td>https://www.youtube.com/watch?v=grTRnHWDFeU</td>\n",
       "    </tr>\n",
       "    <tr>\n",
       "      <th>...</th>\n",
       "      <td>...</td>\n",
       "      <td>...</td>\n",
       "      <td>...</td>\n",
       "      <td>...</td>\n",
       "      <td>...</td>\n",
       "    </tr>\n",
       "    <tr>\n",
       "      <th>88</th>\n",
       "      <td>visionkanalen</td>\n",
       "      <td>vision</td>\n",
       "      <td>TCO</td>\n",
       "      <td>NaN</td>\n",
       "      <td>https://www.youtube.com/watch?v=grTRnHWDFeU</td>\n",
       "    </tr>\n",
       "    <tr>\n",
       "      <th>89</th>\n",
       "      <td>VisionNorrkoping</td>\n",
       "      <td>vision</td>\n",
       "      <td>TCO</td>\n",
       "      <td>visionnorrkoping</td>\n",
       "      <td>https://www.youtube.com/watch?v=grTRnHWDFeU</td>\n",
       "    </tr>\n",
       "    <tr>\n",
       "      <th>90</th>\n",
       "      <td>Visionscenter</td>\n",
       "      <td>vision</td>\n",
       "      <td>TCO</td>\n",
       "      <td>Visionscenter</td>\n",
       "      <td>https://www.youtube.com/watch?v=grTRnHWDFeU</td>\n",
       "    </tr>\n",
       "    <tr>\n",
       "      <th>91</th>\n",
       "      <td>vardforbundet1</td>\n",
       "      <td>vårdförbundet</td>\n",
       "      <td>TCO</td>\n",
       "      <td>NaN</td>\n",
       "      <td>https://www.youtube.com/watch?v=grTRnHWDFeU</td>\n",
       "    </tr>\n",
       "    <tr>\n",
       "      <th>92</th>\n",
       "      <td>Syndikalisterna</td>\n",
       "      <td>SAC Syndikalisterna</td>\n",
       "      <td>SAC</td>\n",
       "      <td>NaN</td>\n",
       "      <td>https://www.youtube.com/watch?v=grTRnHWDFeU</td>\n",
       "    </tr>\n",
       "  </tbody>\n",
       "</table>\n",
       "<p>93 rows × 5 columns</p>\n",
       "</div>"
      ],
      "text/plain": [
       "    channel (add @ to all)                  unionname   org  \\\n",
       "0             6Fackforbund             6f fackförbund    LO   \n",
       "1   akademikerforbundetssr    akademikerförbundet ssr  Saco   \n",
       "2                   Akavia  Akademikernas Fackförbund  Saco   \n",
       "3                 byggnads                   byggnads    LO   \n",
       "4      byggnadsa-kassa7135                   byggnads    LO   \n",
       "..                     ...                        ...   ...   \n",
       "88           visionkanalen                     vision   TCO   \n",
       "89        VisionNorrkoping                     vision   TCO   \n",
       "90           Visionscenter                     vision   TCO   \n",
       "91          vardforbundet1              vårdförbundet   TCO   \n",
       "92         Syndikalisterna        SAC Syndikalisterna   SAC   \n",
       "\n",
       "   name of the channel if differs from unionname  \\\n",
       "0                                            NaN   \n",
       "1                                            NaN   \n",
       "2                                         Akavia   \n",
       "3                                            NaN   \n",
       "4                               Byggnads a-kassa   \n",
       "..                                           ...   \n",
       "88                                           NaN   \n",
       "89                              visionnorrkoping   \n",
       "90                                 Visionscenter   \n",
       "91                                           NaN   \n",
       "92                                           NaN   \n",
       "\n",
       "                                     videos_url  \n",
       "0   https://www.youtube.com/watch?v=grTRnHWDFeU  \n",
       "1   https://www.youtube.com/watch?v=grTRnHWDFeU  \n",
       "2   https://www.youtube.com/watch?v=grTRnHWDFeU  \n",
       "3   https://www.youtube.com/watch?v=grTRnHWDFeU  \n",
       "4   https://www.youtube.com/watch?v=grTRnHWDFeU  \n",
       "..                                          ...  \n",
       "88  https://www.youtube.com/watch?v=grTRnHWDFeU  \n",
       "89  https://www.youtube.com/watch?v=grTRnHWDFeU  \n",
       "90  https://www.youtube.com/watch?v=grTRnHWDFeU  \n",
       "91  https://www.youtube.com/watch?v=grTRnHWDFeU  \n",
       "92  https://www.youtube.com/watch?v=grTRnHWDFeU  \n",
       "\n",
       "[93 rows x 5 columns]"
      ]
     },
     "execution_count": 11,
     "metadata": {},
     "output_type": "execute_result"
    }
   ],
   "source": [
    "df"
   ]
  },
  {
   "cell_type": "code",
   "execution_count": 19,
   "metadata": {},
   "outputs": [
    {
     "name": "stdout",
     "output_type": "stream",
     "text": [
      "https://www.youtube.com/watch?v=grTRnHWDFeU\n",
      "https://www.youtube.com/watch?v=grTRnHWDFeU\n",
      "https://www.youtube.com/watch?v=grTRnHWDFeU\n",
      "https://www.youtube.com/watch?v=grTRnHWDFeU\n"
     ]
    }
   ],
   "source": [
    "# To store the information\n",
    "videos_title = []\n",
    "videos_length = []\n",
    "videos_views = []\n",
    "videos_description = []\n",
    "videos_keywords = []\n",
    "videos_age_resticted = []\n",
    "videos_author = []\n",
    "videos_pub_date = []\n",
    "videos_rating = []\n",
    "\n",
    "for idx in range(0,df.shape[0]):\n",
    "    # Access the video url from data frame\n",
    "    video_url = df['videos_url'].iloc[idx]\n",
    "    # Create a youtube object to use the API\n",
    "    yt = YouTube(video_url)\n",
    "    # Collect information from the video and store\n",
    "    videos_title.append(yt.title)\n",
    "    videos_length.append(yt.length)\n",
    "    videos_views.append(yt.views)\n",
    "    videos_description.append(yt.description)\n",
    "    videos_keywords.append(yt.keywords)\n",
    "    videos_age_resticted.append(yt.age_restricted)\n",
    "    videos_author.append(yt.author)\n",
    "    videos_pub_date.append(yt.publish_date)\n",
    "    videos_rating.append(yt.rating)\n",
    "\n",
    "    if idx > 2:\n",
    "        break\n"
   ]
  },
  {
   "cell_type": "code",
   "execution_count": null,
   "metadata": {},
   "outputs": [],
   "source": [
    "# Adding new columns to the data frame \n",
    "df['videos_title'] \n",
    "df['videos_length']\n",
    "df['videos_views']\n",
    "df['videos_description']\n",
    "df['videos_keywords']\n",
    "df['videos_age_resticted']\n",
    "df['videos_author']\n",
    "df['videos_pub_date']\n",
    "df['videos_rating']"
   ]
  },
  {
   "cell_type": "code",
   "execution_count": null,
   "metadata": {},
   "outputs": [],
   "source": []
  },
  {
   "cell_type": "code",
   "execution_count": null,
   "metadata": {},
   "outputs": [],
   "source": []
  },
  {
   "cell_type": "code",
   "execution_count": null,
   "metadata": {},
   "outputs": [],
   "source": []
  },
  {
   "cell_type": "code",
   "execution_count": 11,
   "metadata": {},
   "outputs": [
    {
     "data": {
      "text/plain": [
       "'PSY - GANGNAM STYLE(강남스타일) M/V'"
      ]
     },
     "execution_count": 11,
     "metadata": {},
     "output_type": "execute_result"
    }
   ],
   "source": [
    "url_test = 'https://www.youtube.com/watch?v=9bZkp7q19f0'\n",
    "\n",
    "yt = YouTube(url_test)"
   ]
  },
  {
   "cell_type": "code",
   "execution_count": 20,
   "metadata": {},
   "outputs": [
    {
     "data": {
      "text/plain": [
       "['Drones en la agricultura: sensores voladores para conocer el estado de nuestras parcelas',\n",
       " 'Drones en la agricultura: sensores voladores para conocer el estado de nuestras parcelas',\n",
       " 'Drones en la agricultura: sensores voladores para conocer el estado de nuestras parcelas',\n",
       " 'Drones en la agricultura: sensores voladores para conocer el estado de nuestras parcelas']"
      ]
     },
     "execution_count": 20,
     "metadata": {},
     "output_type": "execute_result"
    }
   ],
   "source": [
    "videos_title"
   ]
  },
  {
   "cell_type": "code",
   "execution_count": null,
   "metadata": {},
   "outputs": [],
   "source": []
  },
  {
   "cell_type": "code",
   "execution_count": 33,
   "metadata": {},
   "outputs": [],
   "source": [
    "yt.title\n",
    "yt.length\n",
    "yt.views\n",
    "yt.description\n",
    "yt.keywords\n",
    "yt.age_restricted\n",
    "yt.author\n",
    "yt.publish_date\n",
    "yt.rating"
   ]
  },
  {
   "cell_type": "code",
   "execution_count": 57,
   "metadata": {},
   "outputs": [
    {
     "data": {
      "text/plain": [
       "'UPA - Unión de Pequeños Agricultores y Ganaderos'"
      ]
     },
     "execution_count": 57,
     "metadata": {},
     "output_type": "execute_result"
    }
   ],
   "source": [
    "#ch_url = 'https://www.youtube.com/c/officialpsy'\n",
    "ch_url = 'https://www.youtube.com/channel/UCq7J0T3lTjZ41apVOiduJvQ/videos'\n",
    "ch = Channel(ch_url)\n",
    "ch.channel_name"
   ]
  },
  {
   "cell_type": "code",
   "execution_count": 62,
   "metadata": {},
   "outputs": [
    {
     "data": {
      "text/plain": [
       "[]"
      ]
     },
     "execution_count": 62,
     "metadata": {},
     "output_type": "execute_result"
    }
   ],
   "source": [
    "ch.video_urls"
   ]
  }
 ],
 "metadata": {
  "kernelspec": {
   "display_name": "tensorflow_m1",
   "language": "python",
   "name": "python3"
  },
  "language_info": {
   "codemirror_mode": {
    "name": "ipython",
    "version": 3
   },
   "file_extension": ".py",
   "mimetype": "text/x-python",
   "name": "python",
   "nbconvert_exporter": "python",
   "pygments_lexer": "ipython3",
   "version": "3.9.13"
  },
  "orig_nbformat": 4,
  "vscode": {
   "interpreter": {
    "hash": "e8fd7f81d704f7e8486f20ea3bbff14b5db78c7b6c53c5bab1d61bc90f011f82"
   }
  }
 },
 "nbformat": 4,
 "nbformat_minor": 2
}
