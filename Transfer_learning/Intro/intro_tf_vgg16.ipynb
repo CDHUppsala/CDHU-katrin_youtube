{
 "cells": [
  {
   "cell_type": "code",
   "execution_count": 1,
   "metadata": {},
   "outputs": [],
   "source": [
    "#Following the tutorial from https://github.com/python-engineer/tensorflow-course/blob/master/08_09_Star_Wars_Project.ipynb\n",
    "\n",
    "import os\n",
    "import math\n",
    "import random\n",
    "import shutil\n",
    "import cv2\n",
    "\n",
    "import numpy as np\n",
    "import pandas as pd\n",
    "import matplotlib.pyplot as plt\n",
    "import seaborn as sn\n",
    "\n",
    "import tensorflow as tf\n",
    "from tensorflow import keras\n",
    "from tensorflow.keras import layers"
   ]
  },
  {
   "cell_type": "code",
   "execution_count": 2,
   "metadata": {},
   "outputs": [],
   "source": [
    "BASE_DIR = 'lego/star-wars-images/'\n",
    "names = [\"YODA\", \"LUKE SKYWALKER\", \"R2-D2\", \"MACE WINDU\", \"GENERAL GRIEVOUS\"]\n",
    "\n",
    "tf.random.set_seed(1)"
   ]
  },
  {
   "cell_type": "code",
   "execution_count": 3,
   "metadata": {},
   "outputs": [
    {
     "name": "stdout",
     "output_type": "stream",
     "text": [
      "Metal device set to: Apple M1\n",
      "\n",
      "systemMemory: 16.00 GB\n",
      "maxCacheSize: 5.33 GB\n",
      "\n"
     ]
    },
    {
     "name": "stderr",
     "output_type": "stream",
     "text": [
      "2022-10-28 13:40:43.976212: I tensorflow/core/common_runtime/pluggable_device/pluggable_device_factory.cc:306] Could not identify NUMA node of platform GPU ID 0, defaulting to 0. Your kernel may not have been built with NUMA support.\n",
      "2022-10-28 13:40:43.976329: I tensorflow/core/common_runtime/pluggable_device/pluggable_device_factory.cc:272] Created TensorFlow device (/job:localhost/replica:0/task:0/device:GPU:0 with 0 MB memory) -> physical PluggableDevice (device: 0, name: METAL, pci bus id: <undefined>)\n"
     ]
    }
   ],
   "source": [
    "# Load the model from the pretrained ones\n",
    "vgg16_model = tf.keras.applications.vgg16.VGG16()\n",
    "#vgg16_model.summary()\n",
    "\n",
    "#resnet_model = tf.keras.applications.ResNet50()\n",
    "#resnet_model.summary()\n",
    "\n",
    "#incepV3_model = tf.keras.applications.InceptionV3()\n",
    "#incepV3_model.summary()"
   ]
  },
  {
   "cell_type": "code",
   "execution_count": 4,
   "metadata": {},
   "outputs": [
    {
     "name": "stdout",
     "output_type": "stream",
     "text": [
      "Model: \"sequential\"\n",
      "_________________________________________________________________\n",
      " Layer (type)                Output Shape              Param #   \n",
      "=================================================================\n",
      " block1_conv1 (Conv2D)       (None, 224, 224, 64)      1792      \n",
      "                                                                 \n",
      " block1_conv2 (Conv2D)       (None, 224, 224, 64)      36928     \n",
      "                                                                 \n",
      " block1_pool (MaxPooling2D)  (None, 112, 112, 64)      0         \n",
      "                                                                 \n",
      " block2_conv1 (Conv2D)       (None, 112, 112, 128)     73856     \n",
      "                                                                 \n",
      " block2_conv2 (Conv2D)       (None, 112, 112, 128)     147584    \n",
      "                                                                 \n",
      " block2_pool (MaxPooling2D)  (None, 56, 56, 128)       0         \n",
      "                                                                 \n",
      " block3_conv1 (Conv2D)       (None, 56, 56, 256)       295168    \n",
      "                                                                 \n",
      " block3_conv2 (Conv2D)       (None, 56, 56, 256)       590080    \n",
      "                                                                 \n",
      " block3_conv3 (Conv2D)       (None, 56, 56, 256)       590080    \n",
      "                                                                 \n",
      " block3_pool (MaxPooling2D)  (None, 28, 28, 256)       0         \n",
      "                                                                 \n",
      " block4_conv1 (Conv2D)       (None, 28, 28, 512)       1180160   \n",
      "                                                                 \n",
      " block4_conv2 (Conv2D)       (None, 28, 28, 512)       2359808   \n",
      "                                                                 \n",
      " block4_conv3 (Conv2D)       (None, 28, 28, 512)       2359808   \n",
      "                                                                 \n",
      " block4_pool (MaxPooling2D)  (None, 14, 14, 512)       0         \n",
      "                                                                 \n",
      " block5_conv1 (Conv2D)       (None, 14, 14, 512)       2359808   \n",
      "                                                                 \n",
      " block5_conv2 (Conv2D)       (None, 14, 14, 512)       2359808   \n",
      "                                                                 \n",
      " block5_conv3 (Conv2D)       (None, 14, 14, 512)       2359808   \n",
      "                                                                 \n",
      " block5_pool (MaxPooling2D)  (None, 7, 7, 512)         0         \n",
      "                                                                 \n",
      " flatten (Flatten)           (None, 25088)             0         \n",
      "                                                                 \n",
      " fc1 (Dense)                 (None, 4096)              102764544 \n",
      "                                                                 \n",
      " fc2 (Dense)                 (None, 4096)              16781312  \n",
      "                                                                 \n",
      "=================================================================\n",
      "Total params: 134,260,544\n",
      "Trainable params: 134,260,544\n",
      "Non-trainable params: 0\n",
      "_________________________________________________________________\n"
     ]
    }
   ],
   "source": [
    "# Convert to Sequential model, omit the last layer\n",
    "\n",
    "# // This works with VGG16 because the structure is linear, if not, then other techniques have to be applied\n",
    "model_vgg16 = keras.models.Sequential()\n",
    "for layer in vgg16_model.layers[0:-1]:\n",
    "    model_vgg16.add(layer)\n",
    "model_vgg16.summary()\n",
    "\n",
    "# Set trainable=False for all layers\n",
    "# //we don't want to train them again so we freeze them\n",
    "for layer in model_vgg16.layers:\n",
    "    layer.trainable = False\n",
    "# Add a last classification layer for our use case with 5 classes\n",
    "model_vgg16.add(layers.Dense(5))\n"
   ]
  },
  {
   "cell_type": "code",
   "execution_count": 5,
   "metadata": {},
   "outputs": [],
   "source": [
    "# loss and optimizer\n",
    "loss = keras.losses.SparseCategoricalCrossentropy(from_logits=True)\n",
    "optim = keras.optimizers.Adam(learning_rate=0.001)\n",
    "metrics = [\"accuracy\"]\n",
    "\n",
    "# Set up our models\n",
    "model_vgg16.compile(optimizer=optim, loss=loss, metrics=metrics)"
   ]
  },
  {
   "cell_type": "code",
   "execution_count": 6,
   "metadata": {},
   "outputs": [
    {
     "name": "stdout",
     "output_type": "stream",
     "text": [
      "Found 37 images belonging to 5 classes.\n",
      "Found 16 images belonging to 5 classes.\n",
      "Found 10 images belonging to 5 classes.\n"
     ]
    }
   ],
   "source": [
    "# get the preprocessing function of this model // The same funtion works for ResNet\n",
    "preprocess_input = tf.keras.applications.vgg16.preprocess_input\n",
    "\n",
    "# Generate batches of tensor image data with real-time data augmentation.\n",
    "\n",
    "train_gen = keras.preprocessing.image.ImageDataGenerator(preprocessing_function=preprocess_input)\n",
    "valid_gen = keras.preprocessing.image.ImageDataGenerator(preprocessing_function=preprocess_input)\n",
    "test_gen = keras.preprocessing.image.ImageDataGenerator(preprocessing_function=preprocess_input)\n",
    "\n",
    "train_batches = train_gen.flow_from_directory(\n",
    "    'lego/star-wars-images/train',\n",
    "    target_size=(224, 224),\n",
    "    class_mode='sparse',\n",
    "    batch_size=4,\n",
    "    shuffle=True,\n",
    "    color_mode=\"rgb\",\n",
    "    classes=names   \n",
    ")\n",
    "\n",
    "val_batches = valid_gen.flow_from_directory(\n",
    "    'lego/star-wars-images/val',\n",
    "    target_size=(224, 224),\n",
    "    class_mode='sparse',\n",
    "    batch_size=4,\n",
    "    shuffle=True,\n",
    "    color_mode=\"rgb\",\n",
    "    classes=names\n",
    ")\n",
    "\n",
    "test_batches = test_gen.flow_from_directory(\n",
    "    'lego/star-wars-images/test',\n",
    "    target_size=(224, 224),\n",
    "    class_mode='sparse',\n",
    "    batch_size=4,\n",
    "    shuffle=False,\n",
    "    classes=names\n",
    ")"
   ]
  },
  {
   "cell_type": "code",
   "execution_count": 7,
   "metadata": {},
   "outputs": [
    {
     "name": "stdout",
     "output_type": "stream",
     "text": [
      "*************TRAINING THE VGG16 MODEL*************\n",
      "Epoch 1/30\n"
     ]
    },
    {
     "name": "stderr",
     "output_type": "stream",
     "text": [
      "2022-10-28 13:40:46.526018: W tensorflow/core/platform/profile_utils/cpu_utils.cc:128] Failed to get CPU frequency: 0 Hz\n",
      "2022-10-28 13:40:46.842095: I tensorflow/core/grappler/optimizers/custom_graph_optimizer_registry.cc:114] Plugin optimizer for device_type GPU is enabled.\n",
      "2022-10-28 13:40:47.975715: I tensorflow/core/grappler/optimizers/custom_graph_optimizer_registry.cc:114] Plugin optimizer for device_type GPU is enabled.\n"
     ]
    },
    {
     "name": "stdout",
     "output_type": "stream",
     "text": [
      "10/10 - 2s - loss: 1.7269 - accuracy: 0.4054 - val_loss: 0.7193 - val_accuracy: 0.6875 - 2s/epoch - 182ms/step\n",
      "Epoch 2/30\n",
      "10/10 - 1s - loss: 0.1884 - accuracy: 0.9730 - val_loss: 0.5689 - val_accuracy: 0.8750 - 1s/epoch - 110ms/step\n",
      "Epoch 3/30\n",
      "10/10 - 1s - loss: 0.0210 - accuracy: 1.0000 - val_loss: 0.4680 - val_accuracy: 0.8750 - 1s/epoch - 109ms/step\n",
      "Epoch 4/30\n",
      "10/10 - 1s - loss: 0.0076 - accuracy: 1.0000 - val_loss: 0.4310 - val_accuracy: 0.8750 - 1s/epoch - 110ms/step\n",
      "Epoch 5/30\n",
      "10/10 - 1s - loss: 0.0045 - accuracy: 1.0000 - val_loss: 0.3974 - val_accuracy: 0.8750 - 1s/epoch - 108ms/step\n",
      "Epoch 6/30\n",
      "10/10 - 1s - loss: 0.0022 - accuracy: 1.0000 - val_loss: 0.3818 - val_accuracy: 0.8750 - 1s/epoch - 109ms/step\n",
      "Epoch 7/30\n",
      "10/10 - 1s - loss: 0.0015 - accuracy: 1.0000 - val_loss: 0.3739 - val_accuracy: 0.8750 - 1s/epoch - 110ms/step\n",
      "Epoch 8/30\n",
      "10/10 - 1s - loss: 0.0013 - accuracy: 1.0000 - val_loss: 0.3688 - val_accuracy: 0.8750 - 1s/epoch - 109ms/step\n",
      "Epoch 9/30\n",
      "10/10 - 1s - loss: 0.0012 - accuracy: 1.0000 - val_loss: 0.3679 - val_accuracy: 0.8750 - 1s/epoch - 109ms/step\n",
      "Epoch 10/30\n",
      "10/10 - 1s - loss: 0.0011 - accuracy: 1.0000 - val_loss: 0.3669 - val_accuracy: 0.8750 - 1s/epoch - 107ms/step\n",
      "Epoch 11/30\n",
      "10/10 - 1s - loss: 0.0010 - accuracy: 1.0000 - val_loss: 0.3650 - val_accuracy: 0.8750 - 1s/epoch - 108ms/step\n",
      "Epoch 12/30\n",
      "10/10 - 1s - loss: 9.7390e-04 - accuracy: 1.0000 - val_loss: 0.3633 - val_accuracy: 0.8750 - 1s/epoch - 109ms/step\n",
      "Epoch 13/30\n",
      "10/10 - 1s - loss: 9.0187e-04 - accuracy: 1.0000 - val_loss: 0.3628 - val_accuracy: 0.8750 - 1s/epoch - 108ms/step\n",
      "Epoch 14/30\n",
      "10/10 - 1s - loss: 8.5599e-04 - accuracy: 1.0000 - val_loss: 0.3614 - val_accuracy: 0.8750 - 1s/epoch - 108ms/step\n",
      "Epoch 15/30\n",
      "10/10 - 1s - loss: 8.0944e-04 - accuracy: 1.0000 - val_loss: 0.3589 - val_accuracy: 0.8750 - 1s/epoch - 108ms/step\n",
      "Epoch 16/30\n",
      "10/10 - 1s - loss: 7.7025e-04 - accuracy: 1.0000 - val_loss: 0.3566 - val_accuracy: 0.8750 - 1s/epoch - 108ms/step\n",
      "Epoch 17/30\n",
      "10/10 - 1s - loss: 7.2791e-04 - accuracy: 1.0000 - val_loss: 0.3554 - val_accuracy: 0.8750 - 1s/epoch - 108ms/step\n",
      "Epoch 18/30\n",
      "10/10 - 1s - loss: 6.9269e-04 - accuracy: 1.0000 - val_loss: 0.3552 - val_accuracy: 0.8750 - 1s/epoch - 107ms/step\n",
      "Epoch 19/30\n",
      "10/10 - 1s - loss: 6.6446e-04 - accuracy: 1.0000 - val_loss: 0.3543 - val_accuracy: 0.8750 - 1s/epoch - 107ms/step\n",
      "Epoch 20/30\n",
      "10/10 - 1s - loss: 6.4077e-04 - accuracy: 1.0000 - val_loss: 0.3543 - val_accuracy: 0.8750 - 1s/epoch - 107ms/step\n",
      "Epoch 21/30\n",
      "10/10 - 1s - loss: 6.2824e-04 - accuracy: 1.0000 - val_loss: 0.3536 - val_accuracy: 0.8750 - 1s/epoch - 107ms/step\n",
      "Epoch 22/30\n",
      "10/10 - 1s - loss: 5.9611e-04 - accuracy: 1.0000 - val_loss: 0.3541 - val_accuracy: 0.8750 - 1s/epoch - 107ms/step\n",
      "Epoch 23/30\n",
      "10/10 - 1s - loss: 5.8528e-04 - accuracy: 1.0000 - val_loss: 0.3537 - val_accuracy: 0.8750 - 1s/epoch - 108ms/step\n",
      "Epoch 24/30\n",
      "10/10 - 1s - loss: 5.5928e-04 - accuracy: 1.0000 - val_loss: 0.3539 - val_accuracy: 0.8750 - 1s/epoch - 109ms/step\n",
      "Epoch 25/30\n",
      "10/10 - 1s - loss: 5.4534e-04 - accuracy: 1.0000 - val_loss: 0.3533 - val_accuracy: 0.8750 - 1s/epoch - 107ms/step\n",
      "Epoch 26/30\n",
      "10/10 - 1s - loss: 5.2733e-04 - accuracy: 1.0000 - val_loss: 0.3537 - val_accuracy: 0.8750 - 1s/epoch - 107ms/step\n",
      "Epoch 27/30\n",
      "10/10 - 1s - loss: 5.0929e-04 - accuracy: 1.0000 - val_loss: 0.3555 - val_accuracy: 0.8750 - 1s/epoch - 107ms/step\n",
      "Epoch 28/30\n",
      "10/10 - 1s - loss: 4.9429e-04 - accuracy: 1.0000 - val_loss: 0.3561 - val_accuracy: 0.8750 - 1s/epoch - 106ms/step\n",
      "Epoch 29/30\n",
      "10/10 - 1s - loss: 4.8034e-04 - accuracy: 1.0000 - val_loss: 0.3560 - val_accuracy: 0.8750 - 1s/epoch - 107ms/step\n",
      "Epoch 30/30\n",
      "10/10 - 1s - loss: 4.6932e-04 - accuracy: 1.0000 - val_loss: 0.3564 - val_accuracy: 0.8750 - 1s/epoch - 107ms/step\n",
      "Epoch 30: early stopping\n"
     ]
    }
   ],
   "source": [
    "# Fit the model\n",
    "\n",
    "epochs = 30\n",
    "early_stopping = keras.callbacks.EarlyStopping(monitor=\"val_loss\", patience=5,verbose=2)\n",
    "#early_stopping2 = keras.callbacks.EarlyStopping(monitor=\"val_loss\", patience=5,verbose=2)\n",
    "\n",
    "# Train the VGG model\n",
    "print('*************TRAINING THE VGG16 MODEL*************')\n",
    "history_vgg16 = model_vgg16.fit(train_batches, validation_data=val_batches,\n",
    "          callbacks=[early_stopping],\n",
    "          epochs=epochs, verbose=2)"
   ]
  },
  {
   "cell_type": "code",
   "execution_count": 8,
   "metadata": {},
   "outputs": [
    {
     "name": "stdout",
     "output_type": "stream",
     "text": [
      "3/3 - 0s - loss: 0.0148 - accuracy: 1.0000 - 248ms/epoch - 83ms/step\n"
     ]
    },
    {
     "data": {
      "text/plain": [
       "[0.01477306243032217, 1.0]"
      ]
     },
     "execution_count": 8,
     "metadata": {},
     "output_type": "execute_result"
    }
   ],
   "source": [
    "model_vgg16.evaluate(test_batches, verbose=2)"
   ]
  },
  {
   "cell_type": "code",
   "execution_count": 9,
   "metadata": {},
   "outputs": [
    {
     "data": {
      "text/plain": [
       "<matplotlib.legend.Legend at 0x14205da30>"
      ]
     },
     "execution_count": 9,
     "metadata": {},
     "output_type": "execute_result"
    },
    {
     "data": {
      "image/png": "[encoded data removed]",
      "text/plain": [
       "<Figure size 1600x600 with 2 Axes>"
      ]
     },
     "metadata": {},
     "output_type": "display_data"
    }
   ],
   "source": [
    "# Plots for loss and acc\n",
    "from turtle import color\n",
    "\n",
    "\n",
    "plt.figure(figsize=(16, 6))\n",
    "plt.subplot(1, 2, 1)\n",
    "plt.plot(history_vgg16.history['loss'], label='train - VGG16', color = 'purple', linestyle='-',\n",
    "        linewidth=2)\n",
    "plt.plot(history_vgg16.history['val_loss'], label='valid - VGG16', color = 'purple', linestyle='--',\n",
    "        linewidth=2)\n",
    "#plt.plot(history_resnet50.history['loss'], label='train - RN50', color = 'darkturquoise', linestyle='-',\n",
    "#        linewidth=2)\n",
    "#plt.plot(history_resnet50.history['val_loss'], label='valid - RN50', color = 'darkturquoise', linestyle='--',\n",
    "#        linewidth=2)\n",
    "plt.title('Model loss', fontdict={'size': 16})  \n",
    "plt.ylabel('loss')  \n",
    "plt.xlabel('epoch')  \n",
    "plt.grid()\n",
    "plt.legend(fontsize=12)\n",
    "\n",
    "plt.subplot(1, 2, 2)\n",
    "plt.plot(history_vgg16.history['accuracy'], label='train - VGG16', color = 'purple', linestyle='-',\n",
    "        linewidth=2)\n",
    "plt.plot(history_vgg16.history['val_accuracy'], label='valid - VGG16', color = 'purple', linestyle='--',\n",
    "        linewidth=2)\n",
    "#plt.plot(history_resnet50.history['accuracy'], label='train - RN50', color = 'darkturquoise', linestyle='-',\n",
    "#        linewidth=2)\n",
    "#plt.plot(history_resnet50.history['val_accuracy'], label='valid - RN50', color = 'darkturquoise', linestyle='--',\n",
    "#        linewidth=2)\n",
    "plt.title('Model accuracy',fontdict={'size': 16})  \n",
    "plt.ylabel('accuracy')  \n",
    "plt.xlabel('epoch') \n",
    "plt.grid()\n",
    "plt.legend(fontsize=12)"
   ]
  },
  {
   "cell_type": "code",
   "execution_count": null,
   "metadata": {},
   "outputs": [],
   "source": []
  },
  {
   "cell_type": "code",
   "execution_count": null,
   "metadata": {},
   "outputs": [],
   "source": []
  },
  {
   "cell_type": "code",
   "execution_count": null,
   "metadata": {},
   "outputs": [],
   "source": []
  },
  {
   "cell_type": "code",
   "execution_count": null,
   "metadata": {},
   "outputs": [],
   "source": []
  },
  {
   "cell_type": "code",
   "execution_count": 10,
   "metadata": {},
   "outputs": [],
   "source": [
    "def show(batch, pred_labels=None):\n",
    "    plt.figure(figsize=(10,10))\n",
    "    for i in range(4):\n",
    "        plt.subplot(2,2,i+1)\n",
    "        plt.xticks([])\n",
    "        plt.yticks([])\n",
    "        plt.grid(False)\n",
    "        imgBGR = batch[0][i]\n",
    "        imgRGB = cv2.cvtColor(imgBGR, cv2.COLOR_BGR2RGB)\n",
    "        plt.imshow(imgRGB)\n",
    "        #plt.imshow(batch[0][i])#, cmap=plt.cm.binary)\n",
    "        # The CIFAR labels happen to be arrays, \n",
    "        # which is why you need the extra index\n",
    "        lbl = names[int(batch[1][i])]\n",
    "        if pred_labels is not None:\n",
    "            lbl += \"/ Pred:\" + names[int(pred_labels[i])]\n",
    "        plt.xlabel(lbl)\n",
    "    plt.show()"
   ]
  },
  {
   "cell_type": "code",
   "execution_count": 11,
   "metadata": {},
   "outputs": [],
   "source": [
    "def show2(batch, test_directory, pred_labels=None):\n",
    "    for i in range(0,len(batch)):\n",
    "        imgBGR = cv2.imread(test_directory, test_batches.filenames[i])\n",
    "        imgRGB = cv2.cvtColor(imgBGR, cv2.COLOR_BGR2RGB)\n",
    "        plt.imshow(imgRGB)\n",
    "        lbl = names[int(batch[1][i])]\n",
    "        if pred_labels is not None:\n",
    "            lbl += \"/ Pred:\" + names[int(pred_labels[i])]\n",
    "        plt.xlabel(lbl)\n",
    "    plt.show()\n"
   ]
  },
  {
   "cell_type": "code",
   "execution_count": 12,
   "metadata": {},
   "outputs": [
    {
     "name": "stdout",
     "output_type": "stream",
     "text": [
      "1/3 [=========>....................] - ETA: 0s"
     ]
    },
    {
     "name": "stderr",
     "output_type": "stream",
     "text": [
      "2022-10-28 13:41:20.611137: I tensorflow/core/grappler/optimizers/custom_graph_optimizer_registry.cc:114] Plugin optimizer for device_type GPU is enabled.\n"
     ]
    },
    {
     "name": "stdout",
     "output_type": "stream",
     "text": [
      "3/3 [==============================] - 0s 83ms/step\n",
      "Predicted labels: [0. 0. 1. 1.]\n",
      "Real labels: [0 0 1 1]\n"
     ]
    }
   ],
   "source": [
    "# make some predictions\n",
    "predictions = model_vgg16.predict(test_batches)\n",
    "predictions = tf.nn.softmax(predictions)\n",
    "labels = np.argmax(predictions, axis=1)\n",
    "\n",
    "print(f'Predicted labels: {test_batches[0][1]}') #Predicted labels\n",
    "print(f'Real labels: {labels[0:4]}') #Real labels\n",
    "\n",
    "test_direcory = 'lego/star-wars-images/test'\n",
    "batch = test_batches[0]\n",
    "#show(test_batches[0], labels[0:4])\n",
    "#show2(batch, test_direcory, labels[0:4])"
   ]
  },
  {
   "cell_type": "code",
   "execution_count": null,
   "metadata": {},
   "outputs": [],
   "source": []
  },
  {
   "cell_type": "code",
   "execution_count": null,
   "metadata": {},
   "outputs": [],
   "source": []
  }
 ],
 "metadata": {
  "kernelspec": {
   "display_name": "Python 3.9.13 ('tensorflow_m1')",
   "language": "python",
   "name": "python3"
  },
  "language_info": {
   "codemirror_mode": {
    "name": "ipython",
    "version": 3
   },
   "file_extension": ".py",
   "mimetype": "text/x-python",
   "name": "python",
   "nbconvert_exporter": "python",
   "pygments_lexer": "ipython3",
   "version": "3.9.13"
  },
  "orig_nbformat": 4,
  "vscode": {
   "interpreter": {
    "hash": "e8fd7f81d704f7e8486f20ea3bbff14b5db78c7b6c53c5bab1d61bc90f011f82"
   }
  }
 },
 "nbformat": 4,
 "nbformat_minor": 2
}
