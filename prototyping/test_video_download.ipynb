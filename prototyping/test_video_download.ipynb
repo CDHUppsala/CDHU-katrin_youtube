{
 "cells": [
  {
   "cell_type": "code",
   "execution_count": 2,
   "metadata": {},
   "outputs": [],
   "source": [
    "from pytube import YouTube\n",
    "from pytube import Channel\n",
    "import pandas as pd\n",
    "#from __future__ import unicode_literals\n",
    "import youtube_dl\n",
    "import os\n",
    "from pytube import extract"
   ]
  },
  {
   "cell_type": "code",
   "execution_count": 8,
   "metadata": {},
   "outputs": [
    {
     "data": {
      "text/plain": [
       "[<Stream: itag=\"136\" mime_type=\"video/mp4\" res=\"720p\" fps=\"30fps\" vcodec=\"avc1.4d401f\" progressive=\"False\" type=\"video\">, <Stream: itag=\"135\" mime_type=\"video/mp4\" res=\"480p\" fps=\"30fps\" vcodec=\"avc1.4d400c\" progressive=\"False\" type=\"video\">, <Stream: itag=\"134\" mime_type=\"video/mp4\" res=\"360p\" fps=\"30fps\" vcodec=\"avc1.4d401e\" progressive=\"False\" type=\"video\">, <Stream: itag=\"133\" mime_type=\"video/mp4\" res=\"240p\" fps=\"30fps\" vcodec=\"avc1.4d400c\" progressive=\"False\" type=\"video\">, <Stream: itag=\"160\" mime_type=\"video/mp4\" res=\"144p\" fps=\"30fps\" vcodec=\"avc1.4d400b\" progressive=\"False\" type=\"video\">]"
      ]
     },
     "execution_count": 8,
     "metadata": {},
     "output_type": "execute_result"
    }
   ],
   "source": [
    "#vid_url = 'https://www.youtube.com/watch?v=grTRnHWDFeU'\n",
    "vid_url ='https://www.youtube.com/watch?v=b4vPOoDtttE'\n",
    "yt_vid = YouTube(vid_url)\n",
    "yt_vid.streams.filter(only_video=True)\n"
   ]
  },
  {
   "cell_type": "code",
   "execution_count": 7,
   "metadata": {},
   "outputs": [
    {
     "data": {
      "text/plain": [
       "'/Users/pauor506/Documents/CDHU/June2022:Dec2022/Pilots/Youtube_Katrin/Code/Data_collection/test_v.mp4'"
      ]
     },
     "execution_count": 7,
     "metadata": {},
     "output_type": "execute_result"
    }
   ],
   "source": [
    "stream = yt_vid.streams.get_by_itag(137)\n",
    "stream.download(filename='test_v.mp4')"
   ]
  },
  {
   "cell_type": "code",
   "execution_count": null,
   "metadata": {},
   "outputs": [],
   "source": [
    "def video_download(youtube_video, path, name):\n",
    "    stream = youtube_video.streams.get_by_itag(137)\n",
    "    stream.download(output_path = path, filename = name)"
   ]
  },
  {
   "cell_type": "code",
   "execution_count": 3,
   "metadata": {},
   "outputs": [],
   "source": [
    "from __future__ import unicode_literals\n",
    "import youtube_dl"
   ]
  },
  {
   "cell_type": "code",
   "execution_count": 21,
   "metadata": {},
   "outputs": [
    {
     "name": "stdout",
     "output_type": "stream",
     "text": [
      "[youtube] OYS2pt9DVsY: Downloading webpage\n",
      "[youtube] OYS2pt9DVsY: Downloading MPD manifest\n",
      "[dashsegments] Total fragments: 61\n",
      "[download] Destination: OYS2pt9DVsY-136.mp4\n",
      "[download] 100% of 53.54MiB in 00:22.86MiB/s ETA 00:00035\n"
     ]
    }
   ],
   "source": [
    "ydl_opts = {'output':'%(id)s-%(format_id)s.%(ext)s'}\n",
    "with youtube_dl.YoutubeDL({'format':'136', 'outtmpl':'%(id)s-%(format_id)s.%(ext)s'}) as ydl:\n",
    "    ydl.download(['https://www.youtube.com/watch?v=OYS2pt9DVsY'])"
   ]
  },
  {
   "cell_type": "code",
   "execution_count": 22,
   "metadata": {},
   "outputs": [
    {
     "name": "stdout",
     "output_type": "stream",
     "text": [
      "[youtube] OYS2pt9DVsY: Downloading webpage\n",
      "[youtube] OYS2pt9DVsY: Downloading MPD manifest\n",
      "[info] Available formats for OYS2pt9DVsY:\n",
      "format code  extension  resolution note\n",
      "139          m4a        audio only DASH audio   48k , m4a_dash container, mp4a.40.5 (22050Hz), 1.69MiB\n",
      "251          webm       audio only tiny   91k , webm_dash container, opus @ 91k (48000Hz), 3.24MiB\n",
      "140          m4a        audio only tiny  127k , m4a_dash container, mp4a.40.2@127k (44100Hz), 4.51MiB\n",
      "278          webm       256x144    DASH video   95k , webm_dash container, vp9, 30fps, video only\n",
      "160          mp4        256x144    DASH video  108k , mp4_dash container, avc1.4d400b, 30fps, video only\n",
      "242          webm       426x240    DASH video  220k , webm_dash container, vp9, 30fps, video only\n",
      "133          mp4        426x240    DASH video  242k , mp4_dash container, avc1.4d400c, 30fps, video only\n",
      "134          mp4        640x360    360p  322k , mp4_dash container, avc1.4d401e@ 322k, 30fps, video only, 11.44MiB\n",
      "243          webm       640x360    DASH video  405k , webm_dash container, vp9, 30fps, video only\n",
      "244          webm       854x480    DASH video  752k , webm_dash container, vp9, 30fps, video only\n",
      "135          mp4        854x480    DASH video 1155k , mp4_dash container, avc1.4d4014, 30fps, video only\n",
      "247          webm       1280x720   DASH video 1505k , webm_dash container, vp9, 30fps, video only\n",
      "136          mp4        1280x720   DASH video 2310k , mp4_dash container, avc1.4d400c, 30fps, video only\n",
      "18           mp4        640x360    360p  448k , avc1.42001E, 30fps, mp4a.40.2 (44100Hz)\n",
      "22           mp4        1280x720   720p 2238k , avc1.64001F, 30fps, mp4a.40.2 (44100Hz) (best)\n"
     ]
    }
   ],
   "source": [
    "\n",
    "with youtube_dl.YoutubeDL({'listformats':'F'}) as ydl:\n",
    "    ydl.download(['https://www.youtube.com/watch?v=OYS2pt9DVsY'])"
   ]
  },
  {
   "cell_type": "code",
   "execution_count": 18,
   "metadata": {},
   "outputs": [
    {
     "name": "stdout",
     "output_type": "stream",
     "text": [
      "zsh:1: no matches found: https://www.youtube.com/watch?v=OYS2pt9DVsY\n"
     ]
    }
   ],
   "source": [
    "!youtube-dl --output \"%(id)s%(format_id)s.%(ext)s\" https://www.youtube.com/watch?v=OYS2pt9DVsY"
   ]
  },
  {
   "cell_type": "markdown",
   "metadata": {},
   "source": []
  },
  {
   "cell_type": "code",
   "execution_count": 6,
   "metadata": {},
   "outputs": [
    {
     "name": "stdout",
     "output_type": "stream",
     "text": [
      "[youtube] b4vPOoDtttE: Downloading webpage\n",
      "[youtube] b4vPOoDtttE: Downloading MPD manifest\n",
      "[download] Destination: El sector se une en defensa del aceite de oliva-b4vPOoDtttE.mp4\n",
      "[download] 100% of 47.33MiB in 17:1003KiB/s ETA 00:001\n"
     ]
    }
   ],
   "source": [
    "with youtube_dl.YoutubeDL(ydl_opts) as ydl:\n",
    "    ydl.download(['https://www.youtube.com/watch?v=b4vPOoDtttE'])"
   ]
  },
  {
   "cell_type": "code",
   "execution_count": null,
   "metadata": {},
   "outputs": [],
   "source": []
  },
  {
   "cell_type": "code",
   "execution_count": 5,
   "metadata": {},
   "outputs": [],
   "source": [
    "file_test = 'video_urls_FULL.csv'\n",
    "df = pd.read_csv(file_test)\n",
    "df = df.drop(columns='Unnamed: 0')\n",
    "df = df[255:265].reset_index(drop= True)"
   ]
  },
  {
   "cell_type": "code",
   "execution_count": 14,
   "metadata": {},
   "outputs": [
    {
     "data": {
      "text/html": [
       "<div>\n",
       "<style scoped>\n",
       "    .dataframe tbody tr th:only-of-type {\n",
       "        vertical-align: middle;\n",
       "    }\n",
       "\n",
       "    .dataframe tbody tr th {\n",
       "        vertical-align: top;\n",
       "    }\n",
       "\n",
       "    .dataframe thead th {\n",
       "        text-align: right;\n",
       "    }\n",
       "</style>\n",
       "<table border=\"1\" class=\"dataframe\">\n",
       "  <thead>\n",
       "    <tr style=\"text-align: right;\">\n",
       "      <th></th>\n",
       "      <th>channel</th>\n",
       "      <th>url</th>\n",
       "    </tr>\n",
       "  </thead>\n",
       "  <tbody>\n",
       "    <tr>\n",
       "      <th>0</th>\n",
       "      <td>UPA_Federal</td>\n",
       "      <td>youtube.com/watch?v=b4vPOoDtttE</td>\n",
       "    </tr>\n",
       "    <tr>\n",
       "      <th>1</th>\n",
       "      <td>UPA_Federal</td>\n",
       "      <td>youtube.com/watch?v=OYS2pt9DVsY</td>\n",
       "    </tr>\n",
       "    <tr>\n",
       "      <th>2</th>\n",
       "      <td>UPA_Federal</td>\n",
       "      <td>youtube.com/watch?v=yq5LTOSht7M</td>\n",
       "    </tr>\n",
       "    <tr>\n",
       "      <th>3</th>\n",
       "      <td>UPA_Federal</td>\n",
       "      <td>youtube.com/watch?v=5Q9yXVlAtXA</td>\n",
       "    </tr>\n",
       "    <tr>\n",
       "      <th>4</th>\n",
       "      <td>UPA_Federal</td>\n",
       "      <td>youtube.com/watch?v=f0QNt-OsmgE</td>\n",
       "    </tr>\n",
       "    <tr>\n",
       "      <th>5</th>\n",
       "      <td>UPA_Federal</td>\n",
       "      <td>youtube.com/watch?v=Tb_pMJIQOTk</td>\n",
       "    </tr>\n",
       "    <tr>\n",
       "      <th>6</th>\n",
       "      <td>CSIFNacional</td>\n",
       "      <td>youtube.com/watch?v=uTiPr5n1daY</td>\n",
       "    </tr>\n",
       "    <tr>\n",
       "      <th>7</th>\n",
       "      <td>CSIFNacional</td>\n",
       "      <td>youtube.com/watch?v=-vehbrcFsFQ</td>\n",
       "    </tr>\n",
       "    <tr>\n",
       "      <th>8</th>\n",
       "      <td>CSIFNacional</td>\n",
       "      <td>youtube.com/watch?v=RjSTUo3UM7M</td>\n",
       "    </tr>\n",
       "    <tr>\n",
       "      <th>9</th>\n",
       "      <td>CSIFNacional</td>\n",
       "      <td>youtube.com/watch?v=SwN9yBezHKg</td>\n",
       "    </tr>\n",
       "  </tbody>\n",
       "</table>\n",
       "</div>"
      ],
      "text/plain": [
       "        channel                              url\n",
       "0   UPA_Federal  youtube.com/watch?v=b4vPOoDtttE\n",
       "1   UPA_Federal  youtube.com/watch?v=OYS2pt9DVsY\n",
       "2   UPA_Federal  youtube.com/watch?v=yq5LTOSht7M\n",
       "3   UPA_Federal  youtube.com/watch?v=5Q9yXVlAtXA\n",
       "4   UPA_Federal  youtube.com/watch?v=f0QNt-OsmgE\n",
       "5   UPA_Federal  youtube.com/watch?v=Tb_pMJIQOTk\n",
       "6  CSIFNacional  youtube.com/watch?v=uTiPr5n1daY\n",
       "7  CSIFNacional  youtube.com/watch?v=-vehbrcFsFQ\n",
       "8  CSIFNacional  youtube.com/watch?v=RjSTUo3UM7M\n",
       "9  CSIFNacional  youtube.com/watch?v=SwN9yBezHKg"
      ]
     },
     "execution_count": 14,
     "metadata": {},
     "output_type": "execute_result"
    }
   ],
   "source": [
    "df"
   ]
  },
  {
   "cell_type": "code",
   "execution_count": 15,
   "metadata": {},
   "outputs": [],
   "source": [
    "def video_download_tube(url, path):\n",
    "    # Create a youtube object to use the API\n",
    "    youtube_video = YouTube(url)\n",
    "    video_id = extract.video_id(url)\n",
    "    itag = youtube_video.streams.filter(only_video=True).asc().first().itag # get the highest resolution possible \n",
    "    stream = youtube_video.streams.get_by_itag(itag)\n",
    "    # Download video\n",
    "    stream.download(output_path = path, filename = video_id+'.mp4')\n",
    "\n",
    "def video_download_dl(url, path):\n",
    "    ydl_opts = {'outtmpl': path + '%(id)s-%(format_id)s.%(ext)s'}\n",
    "    with youtube_dl.YoutubeDL(ydl_opts) as ydl:\n",
    "        ydl.download(['https://www.'+ url]) # Downloads the best format by default \n",
    "    \n",
    "def create_file(folder):\n",
    "    try: # if it is possible to create the folder\n",
    "        os.mkdir(folder)\n",
    "    except: # if the folder was not created successfuly, raise a warning\n",
    "        print('There is an error with the folder')\n",
    "\n",
    "def video_metadata(df): # df must contain a column called url where the urls to the videos are stored\n",
    "    # To store the information\n",
    "\n",
    "    for idx in range(0,df.shape[0]):\n",
    "        \n",
    "        # Access the video url from data frame\n",
    "        video_url = df['url'].iloc[idx]\n",
    "        print(f'Video_url: {video_url}')\n",
    "        channel_name = df['channel'].iloc[idx]\n",
    "\n",
    "        # Create a folder for that channel\n",
    "        channel_folder = os.getcwd() + '/Videos/' + channel_name + '/'\n",
    "        #print(f'Folder: {channel_folder}')\n",
    "        if os.path.exists(channel_folder):\n",
    "            # Download the video here\n",
    "            try:\n",
    "                video_download_tube(video_url, channel_folder)\n",
    "            except:\n",
    "                video_download_dl(video_url, channel_folder)\n",
    "                #print('Video not downloaded')\n",
    "        else:\n",
    "            create_file(channel_folder)\n",
    "            # Then download the viedeo here\n",
    "            try:\n",
    "                video_download_tube(video_url, channel_folder)\n",
    "            except:\n",
    "                video_download_dl(video_url, channel_folder)\n",
    "                #print('Video not downloaded')\n",
    "\n",
    "\n",
    "        if idx % 1000 == 0:\n",
    "            print(f'We are in video {idx} in channel {channel_name}')\n"
   ]
  },
  {
   "cell_type": "code",
   "execution_count": 16,
   "metadata": {},
   "outputs": [
    {
     "name": "stdout",
     "output_type": "stream",
     "text": [
      "Video_url: youtube.com/watch?v=b4vPOoDtttE\n",
      "We are in video 0 in channel UPA_Federal\n",
      "Video_url: youtube.com/watch?v=OYS2pt9DVsY\n",
      "[youtube] OYS2pt9DVsY: Downloading webpage\n",
      "[youtube] OYS2pt9DVsY: Downloading MPD manifest\n",
      "[download] Destination: /Users/pauor506/Documents/CDHU/June2022:Dec2022/Pilots/Youtube_Katrin/Code/prototyping/Videos/UPA_Federal/OYS2pt9DVsY-22.mp4\n",
      "[download] 100% of 79.37MiB in 26:0786KiB/s ETA 00:007\n",
      "Video_url: youtube.com/watch?v=yq5LTOSht7M\n",
      "[youtube] yq5LTOSht7M: Downloading webpage\n",
      "[youtube] yq5LTOSht7M: Downloading player 21149d65\n",
      "[youtube] yq5LTOSht7M: Downloading MPD manifest\n",
      "[download] Destination: /Users/pauor506/Documents/CDHU/June2022:Dec2022/Pilots/Youtube_Katrin/Code/prototyping/Videos/UPA_Federal/yq5LTOSht7M-18.mp4\n",
      "[download] 100% of 20.46MiB in 04:1097KiB/s ETA 00:008\n",
      "Video_url: youtube.com/watch?v=5Q9yXVlAtXA\n",
      "Video_url: youtube.com/watch?v=f0QNt-OsmgE\n",
      "[youtube] f0QNt-OsmgE: Downloading webpage\n",
      "[youtube] f0QNt-OsmgE: Downloading MPD manifest\n",
      "[download] Destination: /Users/pauor506/Documents/CDHU/June2022:Dec2022/Pilots/Youtube_Katrin/Code/prototyping/Videos/UPA_Federal/f0QNt-OsmgE-18.mp4\n",
      "[download] 100% of 24.50MiB in 06:2351KiB/s ETA 00:000\n",
      "Video_url: youtube.com/watch?v=Tb_pMJIQOTk\n",
      "[youtube] Tb_pMJIQOTk: Downloading webpage\n",
      "[youtube] Tb_pMJIQOTk: Downloading MPD manifest\n",
      "[download] Destination: /Users/pauor506/Documents/CDHU/June2022:Dec2022/Pilots/Youtube_Katrin/Code/prototyping/Videos/UPA_Federal/Tb_pMJIQOTk-18.mp4\n",
      "[download] 100% of 33.41MiB in 09:2464KiB/s ETA 00:00746\n",
      "Video_url: youtube.com/watch?v=uTiPr5n1daY\n",
      "Video_url: youtube.com/watch?v=-vehbrcFsFQ\n",
      "Video_url: youtube.com/watch?v=RjSTUo3UM7M\n",
      "Video_url: youtube.com/watch?v=SwN9yBezHKg\n"
     ]
    }
   ],
   "source": [
    "video_metadata(df)"
   ]
  },
  {
   "cell_type": "code",
   "execution_count": null,
   "metadata": {},
   "outputs": [],
   "source": []
  }
 ],
 "metadata": {
  "kernelspec": {
   "display_name": "Python 3.9 (tensorflow)",
   "language": "python",
   "name": "tensorflow_m1"
  },
  "language_info": {
   "codemirror_mode": {
    "name": "ipython",
    "version": 3
   },
   "file_extension": ".py",
   "mimetype": "text/x-python",
   "name": "python",
   "nbconvert_exporter": "python",
   "pygments_lexer": "ipython3",
   "version": "3.9.13 | packaged by conda-forge | (main, May 27 2022, 17:00:33) \n[Clang 13.0.1 ]"
  },
  "orig_nbformat": 4,
  "vscode": {
   "interpreter": {
    "hash": "e8fd7f81d704f7e8486f20ea3bbff14b5db78c7b6c53c5bab1d61bc90f011f82"
   }
  }
 },
 "nbformat": 4,
 "nbformat_minor": 2
}
