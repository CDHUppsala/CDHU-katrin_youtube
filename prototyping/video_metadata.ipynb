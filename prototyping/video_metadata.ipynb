{
 "cells": [
  {
   "cell_type": "code",
   "execution_count": 1,
   "metadata": {},
   "outputs": [],
   "source": [
    "from pytube import YouTube\n",
    "from pytube import Channel\n",
    "from pytube import extract\n",
    "import pandas as pd\n",
    "from collections import defaultdict\n",
    "import os"
   ]
  },
  {
   "cell_type": "code",
   "execution_count": 2,
   "metadata": {},
   "outputs": [],
   "source": [
    "import logging\n",
    "\n",
    "logging.basicConfig(level=logging.INFO, filename='video_metadata.log', \n",
    "                    format='%(asctime)s : %(levelname)s : %(message)s',\n",
    "                    datefmt='%d-%b-%y %H:%M:%S')"
   ]
  },
  {
   "cell_type": "code",
   "execution_count": 3,
   "metadata": {},
   "outputs": [],
   "source": [
    "file_test = 'video_urls_FULL.csv'\n",
    "df = pd.read_csv(file_test)\n",
    "df = df.sample(n= 1000, random_state=495).drop(columns='Unnamed: 0')"
   ]
  },
  {
   "cell_type": "code",
   "execution_count": null,
   "metadata": {},
   "outputs": [],
   "source": [
    "#df = df[255:265].reset_index(drop= True)"
   ]
  },
  {
   "cell_type": "code",
   "execution_count": null,
   "metadata": {},
   "outputs": [],
   "source": [
    "df.shape"
   ]
  },
  {
   "cell_type": "code",
   "execution_count": 4,
   "metadata": {},
   "outputs": [],
   "source": [
    "def itags(youtube_video, url, file):\n",
    "\n",
    "    try: \n",
    "        itag_lst = youtube_video.streams.filter(only_video=True).asc() # get the highest resolution possible\n",
    "\n",
    "        if len(itag_lst) >= 2:\n",
    "            bests = [int(itag_lst[i].itag) for i in range(0,2)]\n",
    "        elif len(itag_lst) == 1:\n",
    "            bests = [int(itag_lst.itag), None]\n",
    "        else:\n",
    "            logging.info(f'The lenght of itag_list is zero for video {url}')\n",
    "            bests = [None]*2\n",
    "            file.write(f'Url with no itags: {url} \\n')\n",
    "    except:\n",
    "        logging.info(f'Itags not retrieved. Video: {url}')\n",
    "        file.write(f'Itags not retrieved. Video: {url} \\n')\n",
    "        bests = bests = [None]*2\n",
    "        \n",
    "\n",
    "    return bests"
   ]
  },
  {
   "cell_type": "code",
   "execution_count": 5,
   "metadata": {},
   "outputs": [],
   "source": [
    "def video_metadata_v2(df):\n",
    "    keys = ['channel', 'url', 'id', 'title', 'author', 'description', 'keywords', 'length_in_secs', \n",
    "            'nbr_views', 'age_resticted', 'publication_date', 'rating','best_itag','sec_itag']\n",
    "\n",
    "    metadata = defaultdict(list)\n",
    "    #destino = '../Data_collection/data/'\n",
    "    catched_url = open('catched_urls.txt', 'w')\n",
    "\n",
    "    for idx in range(0,df.shape[0]):\n",
    "\n",
    "        # Access the video url from data frame\n",
    "        video_url = df['url'].iloc[idx]\n",
    "        channel_name = df['channel'].iloc[idx]\n",
    "\n",
    "        # Create a youtube object to use the API\n",
    "        yt = YouTube(video_url)\n",
    "\n",
    "        # Get itags\n",
    "        itag_lst = itags(yt,video_url,catched_url)\n",
    "        \n",
    "        # Extract metadata\n",
    "        info = [channel_name, video_url, extract.video_id(video_url), yt.title, yt.author, yt.description,\n",
    "        yt.keywords, yt.length, yt.views, yt.age_restricted, yt.publish_date, yt.rating, itag_lst[0],itag_lst[1]]\n",
    "\n",
    "        # Store in dictionary \n",
    "        for k, v in zip(keys,info):\n",
    "            metadata[k].append(v)\n",
    "                    \n",
    "        # Track \n",
    "        if idx % 100 == 0:\n",
    "            print(f'We are in video {idx} in channel {yt.author}')\n",
    "\n",
    "    return metadata\n"
   ]
  },
  {
   "cell_type": "code",
   "execution_count": 6,
   "metadata": {},
   "outputs": [
    {
     "name": "stdout",
     "output_type": "stream",
     "text": [
      "We are in video 0 in channel UGT FICA\n",
      "We are in video 100 in channel Lärarförbundet\n",
      "We are in video 200 in channel CISL - Confederazione Italiana Sindacati Lavoratori\n",
      "We are in video 300 in channel FNP CISL Nazionale\n",
      "We are in video 400 in channel Sindacato CISL Veneto\n",
      "We are in video 500 in channel Uilca Nazionale\n",
      "We are in video 600 in channel Fim Cisl Stampa\n",
      "We are in video 700 in channel Norsk Sykepleierforbund\n",
      "We are in video 800 in channel Landsorganisasjonen i Norge\n",
      "We are in video 900 in channel LAB Sindikatua\n"
     ]
    }
   ],
   "source": [
    "# Getting all the metadata \n",
    "info = video_metadata_v2(df)"
   ]
  },
  {
   "cell_type": "code",
   "execution_count": 7,
   "metadata": {},
   "outputs": [
    {
     "data": {
      "text/html": [
       "<div>\n",
       "<style scoped>\n",
       "    .dataframe tbody tr th:only-of-type {\n",
       "        vertical-align: middle;\n",
       "    }\n",
       "\n",
       "    .dataframe tbody tr th {\n",
       "        vertical-align: top;\n",
       "    }\n",
       "\n",
       "    .dataframe thead th {\n",
       "        text-align: right;\n",
       "    }\n",
       "</style>\n",
       "<table border=\"1\" class=\"dataframe\">\n",
       "  <thead>\n",
       "    <tr style=\"text-align: right;\">\n",
       "      <th></th>\n",
       "      <th>channel</th>\n",
       "      <th>url</th>\n",
       "      <th>id</th>\n",
       "      <th>title</th>\n",
       "      <th>author</th>\n",
       "      <th>description</th>\n",
       "      <th>keywords</th>\n",
       "      <th>length_in_secs</th>\n",
       "      <th>nbr_views</th>\n",
       "      <th>age_resticted</th>\n",
       "      <th>publication_date</th>\n",
       "      <th>rating</th>\n",
       "      <th>best_itag</th>\n",
       "      <th>sec_itag</th>\n",
       "    </tr>\n",
       "  </thead>\n",
       "  <tbody>\n",
       "    <tr>\n",
       "      <th>0</th>\n",
       "      <td>FITAGVIDEOS</td>\n",
       "      <td>youtube.com/watch?v=0_Ac64tilJ0</td>\n",
       "      <td>0_Ac64tilJ0</td>\n",
       "      <td>UGT FICA participa en el Foro debate Empresari...</td>\n",
       "      <td>UGT FICA</td>\n",
       "      <td>Pedro Hojas invita a la Mesa Negociadora del X...</td>\n",
       "      <td>[ugt, fica ugt]</td>\n",
       "      <td>185</td>\n",
       "      <td>142</td>\n",
       "      <td>False</td>\n",
       "      <td>2017-12-14</td>\n",
       "      <td>None</td>\n",
       "      <td>137.0</td>\n",
       "      <td>136.0</td>\n",
       "    </tr>\n",
       "    <tr>\n",
       "      <th>1</th>\n",
       "      <td>Industrifacketmetall</td>\n",
       "      <td>youtube.com/watch?v=50mIptKUbOU</td>\n",
       "      <td>50mIptKUbOU</td>\n",
       "      <td>Anders Ferbe, IF Metalls förbundsordförande</td>\n",
       "      <td>IF Metall</td>\n",
       "      <td></td>\n",
       "      <td>[Kongress, 2014, IF Metall, kongress14, Facket]</td>\n",
       "      <td>233</td>\n",
       "      <td>97</td>\n",
       "      <td>False</td>\n",
       "      <td>2014-05-17</td>\n",
       "      <td>None</td>\n",
       "      <td>137.0</td>\n",
       "      <td>136.0</td>\n",
       "    </tr>\n",
       "    <tr>\n",
       "      <th>2</th>\n",
       "      <td>fagforbundet3762</td>\n",
       "      <td>youtube.com/watch?v=s-odsdJKCpA</td>\n",
       "      <td>s-odsdJKCpA</td>\n",
       "      <td>FF1715 1900</td>\n",
       "      <td>Fagforbundet</td>\n",
       "      <td>Mandag 1700 1900</td>\n",
       "      <td>[]</td>\n",
       "      <td>6481</td>\n",
       "      <td>134</td>\n",
       "      <td>False</td>\n",
       "      <td>2013-11-11</td>\n",
       "      <td>None</td>\n",
       "      <td>137.0</td>\n",
       "      <td>136.0</td>\n",
       "    </tr>\n",
       "    <tr>\n",
       "      <th>3</th>\n",
       "      <td>fspugt</td>\n",
       "      <td>youtube.com/watch?v=by34p_4oTI8</td>\n",
       "      <td>by34p_4oTI8</td>\n",
       "      <td>Empleadas y Empleados Públicos Esenciales: Mas...</td>\n",
       "      <td>Servicios Públicos UGT</td>\n",
       "      <td>Homenaje, desde La Conferencia de La Mujer de ...</td>\n",
       "      <td>[]</td>\n",
       "      <td>477</td>\n",
       "      <td>1133</td>\n",
       "      <td>False</td>\n",
       "      <td>2022-03-17</td>\n",
       "      <td>None</td>\n",
       "      <td>136.0</td>\n",
       "      <td>247.0</td>\n",
       "    </tr>\n",
       "    <tr>\n",
       "      <th>4</th>\n",
       "      <td>uniopagesoscatalunya</td>\n",
       "      <td>youtube.com/watch?v=QfqfoKfEYyk</td>\n",
       "      <td>QfqfoKfEYyk</td>\n",
       "      <td>Joves d'Unió de Pagesos - un futur amb pagesia...</td>\n",
       "      <td>Unió de Pagesos de Catalunya</td>\n",
       "      <td>Diferents membres de Joves d'Unió de Pagesos e...</td>\n",
       "      <td>[]</td>\n",
       "      <td>174</td>\n",
       "      <td>373</td>\n",
       "      <td>False</td>\n",
       "      <td>2021-03-08</td>\n",
       "      <td>None</td>\n",
       "      <td>137.0</td>\n",
       "      <td>136.0</td>\n",
       "    </tr>\n",
       "    <tr>\n",
       "      <th>...</th>\n",
       "      <td>...</td>\n",
       "      <td>...</td>\n",
       "      <td>...</td>\n",
       "      <td>...</td>\n",
       "      <td>...</td>\n",
       "      <td>...</td>\n",
       "      <td>...</td>\n",
       "      <td>...</td>\n",
       "      <td>...</td>\n",
       "      <td>...</td>\n",
       "      <td>...</td>\n",
       "      <td>...</td>\n",
       "      <td>...</td>\n",
       "      <td>...</td>\n",
       "    </tr>\n",
       "    <tr>\n",
       "      <th>995</th>\n",
       "      <td>Skolvarlden</td>\n",
       "      <td>youtube.com/watch?v=gkd8B2ykZ_k</td>\n",
       "      <td>gkd8B2ykZ_k</td>\n",
       "      <td>Flydde kriget - med grammatikboken</td>\n",
       "      <td>Skolvarlden</td>\n",
       "      <td>Läraren Indira Stefanovic berättar sin histori...</td>\n",
       "      <td>[youtube]</td>\n",
       "      <td>254</td>\n",
       "      <td>520</td>\n",
       "      <td>False</td>\n",
       "      <td>2013-03-19</td>\n",
       "      <td>None</td>\n",
       "      <td>136.0</td>\n",
       "      <td>135.0</td>\n",
       "    </tr>\n",
       "    <tr>\n",
       "      <th>996</th>\n",
       "      <td>Lararforbundet</td>\n",
       "      <td>youtube.com/watch?v=e6JyeYU8-dA</td>\n",
       "      <td>e6JyeYU8-dA</td>\n",
       "      <td>Min trygghet</td>\n",
       "      <td>Lärarförbundet</td>\n",
       "      <td></td>\n",
       "      <td>[]</td>\n",
       "      <td>127</td>\n",
       "      <td>239</td>\n",
       "      <td>False</td>\n",
       "      <td>2020-02-05</td>\n",
       "      <td>None</td>\n",
       "      <td>137.0</td>\n",
       "      <td>248.0</td>\n",
       "    </tr>\n",
       "    <tr>\n",
       "      <th>997</th>\n",
       "      <td>ccoocyl</td>\n",
       "      <td>youtube.com/watch?v=ZEhk2qF1sXU</td>\n",
       "      <td>ZEhk2qF1sXU</td>\n",
       "      <td>Jornada - Presente y futuro del procedimiento ...</td>\n",
       "      <td>ccoocyl</td>\n",
       "      <td>2ª Parte. Análisis sindical</td>\n",
       "      <td>[]</td>\n",
       "      <td>4130</td>\n",
       "      <td>31</td>\n",
       "      <td>False</td>\n",
       "      <td>2021-11-03</td>\n",
       "      <td>None</td>\n",
       "      <td>137.0</td>\n",
       "      <td>136.0</td>\n",
       "    </tr>\n",
       "    <tr>\n",
       "      <th>998</th>\n",
       "      <td>Industrifacketmetall</td>\n",
       "      <td>youtube.com/watch?v=i54ysWc4SoM</td>\n",
       "      <td>i54ysWc4SoM</td>\n",
       "      <td>IF Metalls kongress 2014 - Vår arbetsplats</td>\n",
       "      <td>IF Metall</td>\n",
       "      <td>IF Metalls kongressen behandlar under lördagen...</td>\n",
       "      <td>[IF Metall, Kongress, ifmetall14, Facket, Arbe...</td>\n",
       "      <td>349</td>\n",
       "      <td>293</td>\n",
       "      <td>False</td>\n",
       "      <td>2014-05-17</td>\n",
       "      <td>None</td>\n",
       "      <td>136.0</td>\n",
       "      <td>135.0</td>\n",
       "    </tr>\n",
       "    <tr>\n",
       "      <th>999</th>\n",
       "      <td>akademikerforbundetssr</td>\n",
       "      <td>youtube.com/watch?v=YDPs4RiyYO8</td>\n",
       "      <td>YDPs4RiyYO8</td>\n",
       "      <td>Attraktiva kollektivavtal?</td>\n",
       "      <td>Akademikerförbundet SSR</td>\n",
       "      <td>Arbetsmarknadsekonomiska rådet vill att kollek...</td>\n",
       "      <td>[]</td>\n",
       "      <td>128</td>\n",
       "      <td>88</td>\n",
       "      <td>False</td>\n",
       "      <td>2018-02-20</td>\n",
       "      <td>None</td>\n",
       "      <td>136.0</td>\n",
       "      <td>135.0</td>\n",
       "    </tr>\n",
       "  </tbody>\n",
       "</table>\n",
       "<p>1000 rows × 14 columns</p>\n",
       "</div>"
      ],
      "text/plain": [
       "                    channel                              url           id  \\\n",
       "0               FITAGVIDEOS  youtube.com/watch?v=0_Ac64tilJ0  0_Ac64tilJ0   \n",
       "1      Industrifacketmetall  youtube.com/watch?v=50mIptKUbOU  50mIptKUbOU   \n",
       "2          fagforbundet3762  youtube.com/watch?v=s-odsdJKCpA  s-odsdJKCpA   \n",
       "3                    fspugt  youtube.com/watch?v=by34p_4oTI8  by34p_4oTI8   \n",
       "4      uniopagesoscatalunya  youtube.com/watch?v=QfqfoKfEYyk  QfqfoKfEYyk   \n",
       "..                      ...                              ...          ...   \n",
       "995             Skolvarlden  youtube.com/watch?v=gkd8B2ykZ_k  gkd8B2ykZ_k   \n",
       "996          Lararforbundet  youtube.com/watch?v=e6JyeYU8-dA  e6JyeYU8-dA   \n",
       "997                 ccoocyl  youtube.com/watch?v=ZEhk2qF1sXU  ZEhk2qF1sXU   \n",
       "998    Industrifacketmetall  youtube.com/watch?v=i54ysWc4SoM  i54ysWc4SoM   \n",
       "999  akademikerforbundetssr  youtube.com/watch?v=YDPs4RiyYO8  YDPs4RiyYO8   \n",
       "\n",
       "                                                 title  \\\n",
       "0    UGT FICA participa en el Foro debate Empresari...   \n",
       "1          Anders Ferbe, IF Metalls förbundsordförande   \n",
       "2                                          FF1715 1900   \n",
       "3    Empleadas y Empleados Públicos Esenciales: Mas...   \n",
       "4    Joves d'Unió de Pagesos - un futur amb pagesia...   \n",
       "..                                                 ...   \n",
       "995                 Flydde kriget - med grammatikboken   \n",
       "996                                       Min trygghet   \n",
       "997  Jornada - Presente y futuro del procedimiento ...   \n",
       "998         IF Metalls kongress 2014 - Vår arbetsplats   \n",
       "999                         Attraktiva kollektivavtal?   \n",
       "\n",
       "                           author  \\\n",
       "0                        UGT FICA   \n",
       "1                       IF Metall   \n",
       "2                    Fagforbundet   \n",
       "3          Servicios Públicos UGT   \n",
       "4    Unió de Pagesos de Catalunya   \n",
       "..                            ...   \n",
       "995                   Skolvarlden   \n",
       "996                Lärarförbundet   \n",
       "997                       ccoocyl   \n",
       "998                     IF Metall   \n",
       "999       Akademikerförbundet SSR   \n",
       "\n",
       "                                           description  \\\n",
       "0    Pedro Hojas invita a la Mesa Negociadora del X...   \n",
       "1                                                        \n",
       "2                                     Mandag 1700 1900   \n",
       "3    Homenaje, desde La Conferencia de La Mujer de ...   \n",
       "4    Diferents membres de Joves d'Unió de Pagesos e...   \n",
       "..                                                 ...   \n",
       "995  Läraren Indira Stefanovic berättar sin histori...   \n",
       "996                                                      \n",
       "997                        2ª Parte. Análisis sindical   \n",
       "998  IF Metalls kongressen behandlar under lördagen...   \n",
       "999  Arbetsmarknadsekonomiska rådet vill att kollek...   \n",
       "\n",
       "                                              keywords  length_in_secs  \\\n",
       "0                                      [ugt, fica ugt]             185   \n",
       "1      [Kongress, 2014, IF Metall, kongress14, Facket]             233   \n",
       "2                                                   []            6481   \n",
       "3                                                   []             477   \n",
       "4                                                   []             174   \n",
       "..                                                 ...             ...   \n",
       "995                                          [youtube]             254   \n",
       "996                                                 []             127   \n",
       "997                                                 []            4130   \n",
       "998  [IF Metall, Kongress, ifmetall14, Facket, Arbe...             349   \n",
       "999                                                 []             128   \n",
       "\n",
       "     nbr_views  age_resticted publication_date rating  best_itag  sec_itag  \n",
       "0          142          False       2017-12-14   None      137.0     136.0  \n",
       "1           97          False       2014-05-17   None      137.0     136.0  \n",
       "2          134          False       2013-11-11   None      137.0     136.0  \n",
       "3         1133          False       2022-03-17   None      136.0     247.0  \n",
       "4          373          False       2021-03-08   None      137.0     136.0  \n",
       "..         ...            ...              ...    ...        ...       ...  \n",
       "995        520          False       2013-03-19   None      136.0     135.0  \n",
       "996        239          False       2020-02-05   None      137.0     248.0  \n",
       "997         31          False       2021-11-03   None      137.0     136.0  \n",
       "998        293          False       2014-05-17   None      136.0     135.0  \n",
       "999         88          False       2018-02-20   None      136.0     135.0  \n",
       "\n",
       "[1000 rows x 14 columns]"
      ]
     },
     "execution_count": 7,
     "metadata": {},
     "output_type": "execute_result"
    }
   ],
   "source": [
    "df_meta = pd.DataFrame.from_dict(info)\n",
    "df_meta"
   ]
  },
  {
   "cell_type": "code",
   "execution_count": 8,
   "metadata": {},
   "outputs": [
    {
     "name": "stderr",
     "output_type": "stream",
     "text": [
      "/var/folders/3m/rx3d7q5d0nbdsfzq7tmpgznw0000gn/T/ipykernel_1906/2451658842.py:2: SettingWithCopyWarning: \n",
      "A value is trying to be set on a copy of a slice from a DataFrame.\n",
      "Try using .loc[row_indexer,col_indexer] = value instead\n",
      "\n",
      "See the caveats in the documentation: https://pandas.pydata.org/pandas-docs/stable/user_guide/indexing.html#returning-a-view-versus-a-copy\n",
      "  itags['best_itag'] = itags['best_itag'].fillna(400).astype(int)\n",
      "/var/folders/3m/rx3d7q5d0nbdsfzq7tmpgznw0000gn/T/ipykernel_1906/2451658842.py:3: SettingWithCopyWarning: \n",
      "A value is trying to be set on a copy of a slice from a DataFrame.\n",
      "Try using .loc[row_indexer,col_indexer] = value instead\n",
      "\n",
      "See the caveats in the documentation: https://pandas.pydata.org/pandas-docs/stable/user_guide/indexing.html#returning-a-view-versus-a-copy\n",
      "  itags['sec_itag']=itags['sec_itag'].fillna(400).astype(int)\n"
     ]
    }
   ],
   "source": [
    "itags = df_meta[['best_itag', 'sec_itag']]\n",
    "itags['best_itag'] = itags['best_itag'].fillna(400).astype(int)\n",
    "itags['sec_itag']=itags['sec_itag'].fillna(400).astype(int)"
   ]
  },
  {
   "cell_type": "code",
   "execution_count": 9,
   "metadata": {},
   "outputs": [
    {
     "data": {
      "text/plain": [
       "[133, 134, 135, 136, 137, 298, 299, 271, 400, 248, 313]"
      ]
     },
     "execution_count": 9,
     "metadata": {},
     "output_type": "execute_result"
    }
   ],
   "source": [
    "list(set(itags['best_itag'].to_list()))"
   ]
  },
  {
   "cell_type": "code",
   "execution_count": 10,
   "metadata": {},
   "outputs": [
    {
     "data": {
      "text/plain": [
       "<AxesSubplot:>"
      ]
     },
     "execution_count": 10,
     "metadata": {},
     "output_type": "execute_result"
    },
    {
     "data": {
      "image/png": "[encoded data removed]",
      "text/plain": [
       "<Figure size 1500x700 with 1 Axes>"
      ]
     },
     "metadata": {},
     "output_type": "display_data"
    }
   ],
   "source": [
    "itags['best_itag'].hist(bins=1000,figsize=(15,7))"
   ]
  },
  {
   "cell_type": "code",
   "execution_count": 11,
   "metadata": {},
   "outputs": [
    {
     "data": {
      "text/plain": [
       "<AxesSubplot:>"
      ]
     },
     "execution_count": 11,
     "metadata": {},
     "output_type": "execute_result"
    },
    {
     "data": {
      "image/png": "[encoded data removed]",
      "text/plain": [
       "<Figure size 1500x700 with 1 Axes>"
      ]
     },
     "metadata": {},
     "output_type": "display_data"
    }
   ],
   "source": [
    "itags['sec_itag'].hist(bins=1000,figsize=(15,7))"
   ]
  },
  {
   "cell_type": "code",
   "execution_count": null,
   "metadata": {},
   "outputs": [],
   "source": []
  }
 ],
 "metadata": {
  "kernelspec": {
   "display_name": "tensorflow_m1",
   "language": "python",
   "name": "python3"
  },
  "language_info": {
   "codemirror_mode": {
    "name": "ipython",
    "version": 3
   },
   "file_extension": ".py",
   "mimetype": "text/x-python",
   "name": "python",
   "nbconvert_exporter": "python",
   "pygments_lexer": "ipython3",
   "version": "3.9.13"
  },
  "orig_nbformat": 4,
  "vscode": {
   "interpreter": {
    "hash": "e8fd7f81d704f7e8486f20ea3bbff14b5db78c7b6c53c5bab1d61bc90f011f82"
   }
  }
 },
 "nbformat": 4,
 "nbformat_minor": 2
}
