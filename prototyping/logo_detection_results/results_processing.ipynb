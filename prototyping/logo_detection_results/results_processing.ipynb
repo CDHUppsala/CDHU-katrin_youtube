{
 "cells": [
  {
   "cell_type": "markdown",
   "id": "a0e63a0c",
   "metadata": {},
   "source": [
    "#### Notes\n",
    "\n",
    "This code takes a main folder with subsubsolders where the labels per frame are stored. The folder tree looks, for example, like:\n",
    "\n",
    "Sweden:\\\n",
    "-Channel_1\\\n",
    "--Video_1\\\n",
    "---labels\\\n",
    "----label_1.txt\\\n",
    "----label_2.txt\\\n",
    "----...\\\n",
    "--Video_2\\\n",
    "---labels\\\n",
    "----label_1.txt\\\n",
    "...\n",
    "\n",
    "* Some of the labels directories are empty "
   ]
  },
  {
   "cell_type": "code",
   "execution_count": null,
   "id": "f155dbdf",
   "metadata": {},
   "outputs": [],
   "source": [
    "import os\n",
    "import pandas as pd\n",
    "import parquet \n",
    "from collections import defaultdict\n",
    "import os.path\n",
    "from fastparquet import write"
   ]
  },
  {
   "cell_type": "code",
   "execution_count": 1,
   "id": "dcacad6e",
   "metadata": {},
   "outputs": [
    {
     "ename": "SyntaxError",
     "evalue": "invalid syntax (3576460810.py, line 26)",
     "output_type": "error",
     "traceback": [
      "\u001b[0;36m  Cell \u001b[0;32mIn[1], line 26\u001b[0;36m\u001b[0m\n\u001b[0;31m    'class_label':,\u001b[0m\n\u001b[0m                  ^\u001b[0m\n\u001b[0;31mSyntaxError\u001b[0m\u001b[0;31m:\u001b[0m invalid syntax\n"
     ]
    }
   ],
   "source": [
    "main_folder = 'path/to/main'\n",
    "\n",
    "def result_processing(path_to_results:str):\n",
    "    ### This will return a parque file \n",
    "    \n",
    "    file_path = 'detection_results.parquet'\n",
    "    \n",
    "    # Channel names \n",
    "    channel_dirs = [filename for filename in os.listdir(main_folder) if not filename.startswith('.')]\n",
    "    for channel_d in channel_dirs:\n",
    "        sub_folder_path = os.path.join(main_folder,channel_d)\n",
    "        # Access the video's frames folder \n",
    "        videos_dir = [filename for filename in os.listdir(sub_folder_path) if not filename.startswith('.')]\n",
    "        for video_d in videos_dir:\n",
    "            video_path = os.path.join(sub_folder_path,video_d)\n",
    "            labels_dir_path =  os.path.join(video_path,'/labels/')\n",
    "            \n",
    "            if os.listdir(labels_dir_path): # Labels dir is not empty:\n",
    "                \n",
    "                # Access labels information. This are txt files\n",
    "                labels_files = [filename for filename in os.listdir(labels_dir_path) if not filename.startswith('.')]\n",
    "                for label_f in labels_files:\n",
    "                    \n",
    "                    with open(f'{label_f}.txt', 'r') as f:\n",
    "                        lines = f.readlines()\n",
    "                        \n",
    "                        df = pd.DataFrame([l.split() for l in lines],columns=['Channel','Video_id','class_label',\n",
    "                                'x_center','y_center','width','height'])\n",
    "       \n",
    "                        # If the file does not exists, create it\n",
    "                        if not os.path.isfile(file_path): ### WORK ON THIS\n",
    "                            write(file_path, pd.DataFrame(info))\n",
    "                        else: # Otherwise, write on it\n",
    "                            write(file_path, pd.DataFrame(info), append=True)\n",
    "            else: \n",
    "                pass\n",
    "\n",
    "def transf_parque(parque_file):\n",
    "    ####"
   ]
  },
  {
   "cell_type": "code",
   "execution_count": null,
   "id": "2f3ddff7",
   "metadata": {},
   "outputs": [],
   "source": []
  }
 ],
 "metadata": {
  "kernelspec": {
   "display_name": "yolo5_transf_learn_env",
   "language": "python",
   "name": "yolo5_transf_learn_env"
  },
  "language_info": {
   "codemirror_mode": {
    "name": "ipython",
    "version": 3
   },
   "file_extension": ".py",
   "mimetype": "text/x-python",
   "name": "python",
   "nbconvert_exporter": "python",
   "pygments_lexer": "ipython3",
   "version": "3.9.16"
  }
 },
 "nbformat": 4,
 "nbformat_minor": 5
}
