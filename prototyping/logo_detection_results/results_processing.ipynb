{
 "cells": [
  {
   "cell_type": "markdown",
   "id": "083e278a",
   "metadata": {},
   "source": [
    "#### Notes\n",
    "\n",
    "This code takes a main folder with subsubsolders where the labels per frame are stored. The folder tree looks, for example, like:\n",
    "\n",
    "Sweden:\\\n",
    "-Channel_1\\\n",
    "--Video_1\\\n",
    "---labels\\\n",
    "----label_1.txt\\\n",
    "----label_2.txt\\\n",
    "----...\\\n",
    "--Video_2\\\n",
    "---labels\\\n",
    "----label_1.txt\\\n",
    "...\n",
    "\n",
    "* Some of the labels directories are empty "
   ]
  },
  {
   "cell_type": "code",
   "execution_count": null,
   "id": "97d3fbb8",
   "metadata": {},
   "outputs": [],
   "source": [
    "import os\n",
    "import pandas as pd\n",
    "import parquet \n",
    "from collections import defaultdict\n",
    "import os.path\n",
    "from fastparquet import write"
   ]
  },
  {
   "cell_type": "code",
   "execution_count": null,
   "id": "03d07884",
   "metadata": {},
   "outputs": [],
   "source": [
    "main_folder = 'path/to/main'\n",
    "\n",
    "def result_processing(path_to_results:str):\n",
    "    ### This will return a parque file \n",
    "    \n",
    "    file_path = 'detection_results.parquet'\n",
    "    \n",
    "    # Channel names \n",
    "    channel_dirs = [filename for filename in os.listdir(main_folder) if not filename.startswith('.')]\n",
    "    for channel_d in channel_dirs:\n",
    "        sub_folder_path = os.path.join(main_folder,channel_d)\n",
    "        # Access the video's frames folder \n",
    "        videos_dir = [filename for filename in os.listdir(sub_folder_path) if not filename.startswith('.')]\n",
    "        for video_d in videos_dir:\n",
    "            video_path = os.path.join(sub_folder_path,video_d)\n",
    "            labels_dir_path =  os.path.join(video_path,'/labels/')\n",
    "            \n",
    "            if os.listdir():#Labels dir is not empty:\n",
    "                \n",
    "                # Access labels information\n",
    "            \n",
    "                # Save detection information in parque file \n",
    "                info = {'Channel':[channel_d],\n",
    "                        'Video_id':[video_d], \n",
    "                        'class_label':,\n",
    "                        'x_center':,\n",
    "                        'y_center':,\n",
    "                        'width':,\n",
    "                        'height':,\n",
    "                       } \n",
    "                # If the file does not exists, create it\n",
    "                if not os.path.isfile(file_path):\n",
    "                    write(file_path, pd.DataFrame(info))\n",
    "                else: # Otherwise, write on it\n",
    "                    write(file_path, pd.DataFrame(info), append=True)\n",
    "            else: \n",
    "                pass\n",
    "\n",
    "def transf_parque(parque_file):\n",
    "    ####"
   ]
  }
 ],
 "metadata": {
  "kernelspec": {
   "display_name": "yolo5_transf_learn_env",
   "language": "python",
   "name": "yolo5_transf_learn_env"
  },
  "language_info": {
   "codemirror_mode": {
    "name": "ipython",
    "version": 3
   },
   "file_extension": ".py",
   "mimetype": "text/x-python",
   "name": "python",
   "nbconvert_exporter": "python",
   "pygments_lexer": "ipython3",
   "version": "3.9.16"
  }
 },
 "nbformat": 4,
 "nbformat_minor": 5
}
