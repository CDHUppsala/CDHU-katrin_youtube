{
 "cells": [
  {
   "cell_type": "code",
   "execution_count": 1,
   "metadata": {},
   "outputs": [],
   "source": [
    "from pytube import YouTube\n",
    "from pytube import Channel\n",
    "from pytube import extract\n",
    "import pandas as pd\n",
    "from collections import defaultdict\n",
    "import os"
   ]
  },
  {
   "cell_type": "code",
   "execution_count": 2,
   "metadata": {},
   "outputs": [],
   "source": [
    "import logging\n",
    "\n",
    "logging.basicConfig(level=logging.DEBUG, filename='video_metadata_2.log', \n",
    "                    format='%(asctime)s : %(levelname)s : %(message)s',\n",
    "                    datefmt='%d-%b-%y %H:%M:%S')"
   ]
  },
  {
   "cell_type": "code",
   "execution_count": 5,
   "metadata": {},
   "outputs": [],
   "source": [
    "file_test = 'video_urls_FULL.csv'\n",
    "df = pd.read_csv(file_test)\n",
    "df = df.sample(frac = 0.2, random_state=495).drop(columns='Unnamed: 0')"
   ]
  },
  {
   "cell_type": "code",
   "execution_count": 4,
   "metadata": {},
   "outputs": [
    {
     "name": "stdout",
     "output_type": "stream",
     "text": [
      "Object `df.sample` not found.\n"
     ]
    }
   ],
   "source": []
  },
  {
   "cell_type": "code",
   "execution_count": null,
   "metadata": {},
   "outputs": [],
   "source": [
    "#df = df[255:265].reset_index(drop= True)"
   ]
  },
  {
   "cell_type": "code",
   "execution_count": 6,
   "metadata": {},
   "outputs": [
    {
     "data": {
      "text/plain": [
       "(9306, 2)"
      ]
     },
     "execution_count": 6,
     "metadata": {},
     "output_type": "execute_result"
    }
   ],
   "source": [
    "df.shape"
   ]
  },
  {
   "cell_type": "code",
   "execution_count": 7,
   "metadata": {},
   "outputs": [],
   "source": [
    "def itags(youtube_video, url):\n",
    "    # Create a youtube object to use the API\n",
    "    try: \n",
    "        itag_lst = youtube_video.streams.filter(only_video=True).asc()#.first().itag # get the highest resolution possible\n",
    "\n",
    "        if len(itag_lst) >= 2:\n",
    "            bests = [itag_lst[i].itag for i in range(0,2)]\n",
    "        elif len(itag_lst) == 1:\n",
    "            bests = [itag_lst.itag, None]\n",
    "        else:\n",
    "            logging.info(f'The lenght of itag_list is zero for video {url}')\n",
    "            bests = [None]*2\n",
    "    except:\n",
    "        logging.info(f'Itags not retrieved. Video: {url}')\n",
    "        bests = bests = [None]*2\n",
    "        \n",
    "\n",
    "    return bests"
   ]
  },
  {
   "cell_type": "code",
   "execution_count": null,
   "metadata": {},
   "outputs": [],
   "source": [
    "YouTube('youtube.com/watch?v=wXuGxwY6h54').streams#.filter(only_video=True).asc()"
   ]
  },
  {
   "cell_type": "code",
   "execution_count": 8,
   "metadata": {},
   "outputs": [],
   "source": [
    "def video_metadata_v2(df):\n",
    "    keys = ['channel', 'url', 'id', 'title', 'author', 'description', 'keywords', 'length_in_secs', \n",
    "            'nbr_views', 'age_resticted', 'publication_date', 'rating','best_itag','sec_itag']\n",
    "\n",
    "    metadata = defaultdict(list)\n",
    "\n",
    "    for idx in range(0,df.shape[0]):\n",
    "\n",
    "        # Access the video url from data frame\n",
    "        video_url = df['url'].iloc[idx]\n",
    "        #print(f'Video_url: {video_url}')\n",
    "        channel_name = df['channel'].iloc[idx]\n",
    "        #print(f'Channel: {channel_name}')\n",
    "\n",
    "        # Create a youtube object to use the API\n",
    "        yt = YouTube(video_url)\n",
    "\n",
    "        # Get itags\n",
    "        itag_lst = itags(yt,video_url)\n",
    "        \n",
    "        # Extract metadata\n",
    "        info = [channel_name, video_url, extract.video_id(video_url), yt.title, yt.author, yt.description,\n",
    "        yt.keywords, yt.length, yt.views, yt.age_restricted, yt.publish_date, yt.rating, itag_lst[0],itag_lst[1]]\n",
    "\n",
    "        # Store in dictionary \n",
    "        for k, v in zip(keys,info):\n",
    "            metadata[k].append(v)\n",
    "                    \n",
    "        # Track \n",
    "        if idx % 100 == 0:\n",
    "            print(f'We are in video {idx} in channel {yt.author}')\n",
    "\n",
    "    return metadata\n"
   ]
  },
  {
   "cell_type": "code",
   "execution_count": 9,
   "metadata": {},
   "outputs": [
    {
     "name": "stdout",
     "output_type": "stream",
     "text": [
      "We are in video 0 in channel UGT FICA\n",
      "We are in video 100 in channel Lärarförbundet\n",
      "We are in video 200 in channel CISL - Confederazione Italiana Sindacati Lavoratori\n",
      "We are in video 300 in channel FNP CISL Nazionale\n",
      "We are in video 400 in channel Sindacato CISL Veneto\n",
      "We are in video 500 in channel Uilca Nazionale\n",
      "We are in video 600 in channel Fim Cisl Stampa\n",
      "We are in video 700 in channel Norsk Sykepleierforbund\n",
      "We are in video 800 in channel Landsorganisasjonen i Norge\n",
      "We are in video 900 in channel LAB Sindikatua\n",
      "We are in video 1000 in channel CSIF Nacional\n",
      "We are in video 1100 in channel UGTPV\n",
      "We are in video 1200 in channel CISL - Confederazione Italiana Sindacati Lavoratori\n",
      "We are in video 1300 in channel FSS-CCOO\n",
      "We are in video 1400 in channel UGT - Unión General de Trabajadoras y Trabajadores\n",
      "We are in video 1500 in channel Musikerförbundet\n",
      "We are in video 1600 in channel FeSMC UGT\n",
      "We are in video 1700 in channel Unión Sindical Obrera Confederal\n",
      "We are in video 1800 in channel Skolvarlden\n",
      "We are in video 1900 in channel Cisl Scuola\n",
      "We are in video 2000 in channel Finansforbundet\n",
      "We are in video 2100 in channel Fackförbundet ST\n",
      "We are in video 2200 in channel CISL - Confederazione Italiana Sindacati Lavoratori\n",
      "We are in video 2300 in channel CCOOCatalunya\n",
      "We are in video 2400 in channel FilleaCgil\n",
      "We are in video 2500 in channel CCOO Andalucía\n",
      "We are in video 2600 in channel CISL - Confederazione Italiana Sindacati Lavoratori\n",
      "We are in video 2700 in channel IF Metall\n",
      "We are in video 2800 in channel Federazione Lavoratori della Conoscenza Cgil\n",
      "We are in video 2900 in channel CISL - Confederazione Italiana Sindacati Lavoratori\n",
      "We are in video 3000 in channel Unga Elektriker\n",
      "We are in video 3100 in channel AUGC GUARDIA CIVIL\n",
      "We are in video 3200 in channel HK i Norge\n",
      "We are in video 3300 in channel LAB Sindikatua\n",
      "We are in video 3400 in channel Plugga vidare\n",
      "We are in video 3500 in channel CSIF Nacional\n",
      "We are in video 3600 in channel Yrkestrafikkforbundet YTF\n",
      "We are in video 3700 in channel Lärarförbundet\n",
      "We are in video 3800 in channel Collettiva\n",
      "We are in video 3900 in channel CCOOCatalunya\n",
      "We are in video 4000 in channel UGT FICA\n",
      "We are in video 4100 in channel Akademikerförbundet SSR\n",
      "We are in video 4200 in channel TCO Sverige\n",
      "We are in video 4300 in channel SECB CaixaBank\n",
      "We are in video 4400 in channel CISL - Confederazione Italiana Sindacati Lavoratori\n",
      "We are in video 4500 in channel UGT - Unión General de Trabajadoras y Trabajadores\n",
      "We are in video 4600 in channel Canal confederal de CCOO\n",
      "We are in video 4700 in channel CSIF Nacional\n",
      "We are in video 4800 in channel UGT - Unión General de Trabajadoras y Trabajadores\n",
      "We are in video 4900 in channel CCOO CANARIAS\n",
      "We are in video 5000 in channel CCOO Aragón\n",
      "We are in video 5100 in channel CISL - Confederazione Italiana Sindacati Lavoratori\n",
      "We are in video 5200 in channel Fisac Cgil\n",
      "We are in video 5300 in channel CCOO Andalucía\n",
      "We are in video 5400 in channel ccoocyl\n",
      "We are in video 5500 in channel Unión Sindical Obrera Confederal\n",
      "We are in video 5600 in channel FilleaCgil\n",
      "We are in video 5700 in channel CISL - Confederazione Italiana Sindacati Lavoratori\n",
      "We are in video 5800 in channel Fagforbundet\n",
      "We are in video 5900 in channel Vårdförbundet\n",
      "We are in video 6000 in channel Norsk psykologforening\n",
      "We are in video 6100 in channel UGT - Unión General de Trabajadoras y Trabajadores\n",
      "We are in video 6200 in channel CCOO Andalucía\n",
      "We are in video 6300 in channel Collettiva\n",
      "We are in video 6400 in channel UGT - Unión General de Trabajadoras y Trabajadores\n",
      "We are in video 6500 in channel Handelsfacket (Handels på Youtube)\n",
      "We are in video 6600 in channel CGIL Roma Lazio\n",
      "We are in video 6700 in channel snccoo\n",
      "We are in video 6800 in channel Livsmedelsarbetareförbundet Sverige\n",
      "We are in video 6900 in channel Fisac Cgil\n",
      "We are in video 7000 in channel CCOO CANARIAS\n",
      "We are in video 7100 in channel Canal confederal de CCOO\n",
      "We are in video 7200 in channel CCOOCatalunya\n",
      "We are in video 7300 in channel CSIF Nacional\n",
      "We are in video 7400 in channel ELA sindikatua\n",
      "We are in video 7500 in channel Unió de Pagesos de Catalunya\n",
      "We are in video 7600 in channel Lärarförbundet\n",
      "We are in video 7700 in channel Sveriges läkarförbund\n",
      "We are in video 7800 in channel TCO Sverige\n",
      "We are in video 7900 in channel Uilm Nazionale\n",
      "We are in video 8000 in channel UGT FICA\n",
      "We are in video 8100 in channel Uiltec Nazionale\n",
      "We are in video 8200 in channel Sveriges Ingenjörer / Engineers of Sweden\n",
      "We are in video 8300 in channel CCOO Madrid\n",
      "We are in video 8400 in channel Parat - fagforeningen for alle\n",
      "We are in video 8500 in channel FSS-CCOO\n",
      "We are in video 8600 in channel UPA - Unión de Pequeños Agricultores y Ganaderos\n",
      "We are in video 8700 in channel avantarvideos\n",
      "We are in video 8800 in channel CCOO TV BALEARS\n",
      "We are in video 8900 in channel Norsk Sykepleierforbund\n",
      "We are in video 9000 in channel CCOOCatalunya\n",
      "We are in video 9100 in channel Unión Sindical Obrera Confederal\n",
      "We are in video 9200 in channel UGTPV\n",
      "We are in video 9300 in channel UGT - Unión General de Trabajadoras y Trabajadores\n"
     ]
    }
   ],
   "source": [
    "# Getting all the metadata \n",
    "info = video_metadata_v2(df)"
   ]
  },
  {
   "cell_type": "code",
   "execution_count": 4,
   "metadata": {},
   "outputs": [
    {
     "ename": "NameError",
     "evalue": "name 'info' is not defined",
     "output_type": "error",
     "traceback": [
      "\u001b[0;31m---------------------------------------------------------------------------\u001b[0m",
      "\u001b[0;31mNameError\u001b[0m                                 Traceback (most recent call last)",
      "\u001b[1;32m/Users/pauor506/Documents/CDHU/June2022:Dec2022/Pilots/Youtube_Katrin/Code/prototyping/video_metadata_copy.ipynb Cell 11\u001b[0m in \u001b[0;36m<cell line: 1>\u001b[0;34m()\u001b[0m\n\u001b[0;32m----> <a href='vscode-notebook-cell:/Users/pauor506/Documents/CDHU/June2022%3ADec2022/Pilots/Youtube_Katrin/Code/prototyping/video_metadata_copy.ipynb#X23sZmlsZQ%3D%3D?line=0'>1</a>\u001b[0m info\n",
      "\u001b[0;31mNameError\u001b[0m: name 'info' is not defined"
     ]
    }
   ],
   "source": [
    "info"
   ]
  },
  {
   "cell_type": "code",
   "execution_count": 3,
   "metadata": {},
   "outputs": [
    {
     "ename": "NameError",
     "evalue": "name 'pd' is not defined",
     "output_type": "error",
     "traceback": [
      "\u001b[0;31m---------------------------------------------------------------------------\u001b[0m",
      "\u001b[0;31mNameError\u001b[0m                                 Traceback (most recent call last)",
      "\u001b[1;32m/Users/pauor506/Documents/CDHU/June2022:Dec2022/Pilots/Youtube_Katrin/Code/prototyping/video_metadata_copy.ipynb Cell 11\u001b[0m in \u001b[0;36m<cell line: 1>\u001b[0;34m()\u001b[0m\n\u001b[0;32m----> <a href='vscode-notebook-cell:/Users/pauor506/Documents/CDHU/June2022%3ADec2022/Pilots/Youtube_Katrin/Code/prototyping/video_metadata_copy.ipynb#X13sZmlsZQ%3D%3D?line=0'>1</a>\u001b[0m df_meta \u001b[39m=\u001b[39m pd\u001b[39m.\u001b[39mDataFrame\u001b[39m.\u001b[39mfrom_dict(info)\n\u001b[1;32m      <a href='vscode-notebook-cell:/Users/pauor506/Documents/CDHU/June2022%3ADec2022/Pilots/Youtube_Katrin/Code/prototyping/video_metadata_copy.ipynb#X13sZmlsZQ%3D%3D?line=1'>2</a>\u001b[0m df_meta\n",
      "\u001b[0;31mNameError\u001b[0m: name 'pd' is not defined"
     ]
    }
   ],
   "source": [
    "df_meta = pd.DataFrame.from_dict(info)\n",
    "df_meta"
   ]
  },
  {
   "cell_type": "code",
   "execution_count": 2,
   "metadata": {},
   "outputs": [
    {
     "ename": "NameError",
     "evalue": "name 'df_meta' is not defined",
     "output_type": "error",
     "traceback": [
      "\u001b[0;31m---------------------------------------------------------------------------\u001b[0m",
      "\u001b[0;31mNameError\u001b[0m                                 Traceback (most recent call last)",
      "\u001b[1;32m/Users/pauor506/Documents/CDHU/June2022:Dec2022/Pilots/Youtube_Katrin/Code/prototyping/video_metadata_copy.ipynb Cell 12\u001b[0m in \u001b[0;36m<cell line: 1>\u001b[0;34m()\u001b[0m\n\u001b[0;32m----> <a href='vscode-notebook-cell:/Users/pauor506/Documents/CDHU/June2022%3ADec2022/Pilots/Youtube_Katrin/Code/prototyping/video_metadata_copy.ipynb#X14sZmlsZQ%3D%3D?line=0'>1</a>\u001b[0m itags \u001b[39m=\u001b[39m df_meta[[\u001b[39m'\u001b[39m\u001b[39mbest_itag\u001b[39m\u001b[39m'\u001b[39m, \u001b[39m'\u001b[39m\u001b[39msec_itag\u001b[39m\u001b[39m'\u001b[39m]]\n",
      "\u001b[0;31mNameError\u001b[0m: name 'df_meta' is not defined"
     ]
    }
   ],
   "source": [
    "itags = df_meta[['best_itag', 'sec_itag']]"
   ]
  },
  {
   "cell_type": "code",
   "execution_count": 13,
   "metadata": {},
   "outputs": [
    {
     "name": "stderr",
     "output_type": "stream",
     "text": [
      "/var/folders/3m/rx3d7q5d0nbdsfzq7tmpgznw0000gn/T/ipykernel_99558/3333790595.py:1: SettingWithCopyWarning: \n",
      "A value is trying to be set on a copy of a slice from a DataFrame.\n",
      "Try using .loc[row_indexer,col_indexer] = value instead\n",
      "\n",
      "See the caveats in the documentation: https://pandas.pydata.org/pandas-docs/stable/user_guide/indexing.html#returning-a-view-versus-a-copy\n",
      "  itags['best_itag'] = itags['best_itag'].fillna(400).astype(int)\n",
      "/var/folders/3m/rx3d7q5d0nbdsfzq7tmpgznw0000gn/T/ipykernel_99558/3333790595.py:2: SettingWithCopyWarning: \n",
      "A value is trying to be set on a copy of a slice from a DataFrame.\n",
      "Try using .loc[row_indexer,col_indexer] = value instead\n",
      "\n",
      "See the caveats in the documentation: https://pandas.pydata.org/pandas-docs/stable/user_guide/indexing.html#returning-a-view-versus-a-copy\n",
      "  itags['sec_itag']=itags['sec_itag'].fillna(400).astype(int)\n"
     ]
    }
   ],
   "source": [
    "itags['best_itag'] = itags['best_itag'].fillna(400).astype(int)\n",
    "itags['sec_itag']=itags['sec_itag'].fillna(400).astype(int)"
   ]
  },
  {
   "cell_type": "code",
   "execution_count": 14,
   "metadata": {},
   "outputs": [
    {
     "data": {
      "text/plain": [
       "<AxesSubplot:>"
      ]
     },
     "execution_count": 14,
     "metadata": {},
     "output_type": "execute_result"
    },
    {
     "data": {
      "image/png": "[encoded data removed]",
      "text/plain": [
       "<Figure size 1500x700 with 1 Axes>"
      ]
     },
     "metadata": {},
     "output_type": "display_data"
    }
   ],
   "source": [
    "itags['best_itag'].hist(bins=1000,figsize=(15,7))"
   ]
  },
  {
   "cell_type": "code",
   "execution_count": 1,
   "metadata": {},
   "outputs": [
    {
     "ename": "NameError",
     "evalue": "name 'df_meta' is not defined",
     "output_type": "error",
     "traceback": [
      "\u001b[0;31m---------------------------------------------------------------------------\u001b[0m",
      "\u001b[0;31mNameError\u001b[0m                                 Traceback (most recent call last)",
      "\u001b[1;32m/Users/pauor506/Documents/CDHU/June2022:Dec2022/Pilots/Youtube_Katrin/Code/prototyping/video_metadata_copy.ipynb Cell 15\u001b[0m in \u001b[0;36m<cell line: 2>\u001b[0;34m()\u001b[0m\n\u001b[1;32m      <a href='vscode-notebook-cell:/Users/pauor506/Documents/CDHU/June2022%3ADec2022/Pilots/Youtube_Katrin/Code/prototyping/video_metadata_copy.ipynb#X22sZmlsZQ%3D%3D?line=0'>1</a>\u001b[0m file_test \u001b[39m=\u001b[39m \u001b[39m'\u001b[39m\u001b[39mtest_videos_metadata.csv\u001b[39m\u001b[39m'\u001b[39m\n\u001b[0;32m----> <a href='vscode-notebook-cell:/Users/pauor506/Documents/CDHU/June2022%3ADec2022/Pilots/Youtube_Katrin/Code/prototyping/video_metadata_copy.ipynb#X22sZmlsZQ%3D%3D?line=1'>2</a>\u001b[0m df_meta\u001b[39m.\u001b[39mto_csv(file_test)\n",
      "\u001b[0;31mNameError\u001b[0m: name 'df_meta' is not defined"
     ]
    }
   ],
   "source": [
    "\n",
    "file_test = 'test_videos_metadata.csv'\n",
    "df_meta.to_csv(file_test)#df = pd.read_csv(file_test)"
   ]
  },
  {
   "cell_type": "code",
   "execution_count": null,
   "metadata": {},
   "outputs": [],
   "source": []
  }
 ],
 "metadata": {
  "kernelspec": {
   "display_name": "Python 3.9 (tensorflow)",
   "language": "python",
   "name": "tensorflow_m1"
  },
  "language_info": {
   "codemirror_mode": {
    "name": "ipython",
    "version": 3
   },
   "file_extension": ".py",
   "mimetype": "text/x-python",
   "name": "python",
   "nbconvert_exporter": "python",
   "pygments_lexer": "ipython3",
   "version": "3.9.13 | packaged by conda-forge | (main, May 27 2022, 17:00:33) \n[Clang 13.0.1 ]"
  },
  "orig_nbformat": 4,
  "vscode": {
   "interpreter": {
    "hash": "e8fd7f81d704f7e8486f20ea3bbff14b5db78c7b6c53c5bab1d61bc90f011f82"
   }
  }
 },
 "nbformat": 4,
 "nbformat_minor": 2
}
