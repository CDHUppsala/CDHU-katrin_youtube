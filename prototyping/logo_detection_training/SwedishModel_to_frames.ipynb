{
 "cells": [
  {
   "cell_type": "code",
   "execution_count": null,
   "id": "7538ec60",
   "metadata": {},
   "outputs": [],
   "source": [
    "%cd /zpool/beast-mirror/labour-movements-mobilisation-via-visual-means/CDHU-katrin_youtube_dalia/yolov5 \n",
    "\n",
    "import torch\n",
    "import utils\n",
    "from IPython import display\n",
    "from IPython.display import clear_output\n",
    "from pathlib import Path\n",
    "import matplotlib.pyplot as plt\n",
    "import matplotlib.image as mpimg\n",
    "import pandas as pd\n",
    "import yaml\n",
    "import os\n",
    "import glob as glob\n",
    "import requests\n",
    "import cv2\n",
    "\n",
    "%matplotlib inline"
   ]
  },
  {
   "cell_type": "markdown",
   "id": "da0e0216",
   "metadata": {},
   "source": [
    "#### Model"
   ]
  },
  {
   "cell_type": "code",
   "execution_count": null,
   "id": "f56f2452",
   "metadata": {},
   "outputs": [],
   "source": [
    "# Bringing best model from previous experiments\n",
    "swe_model_name = 'lr0.01_b32_e100_f12_V5M6'\n",
    "#results_V5M6 = rename_df_cols(pd.read_csv(f'Sverige/{model_name}/results.csv'))"
   ]
  },
  {
   "cell_type": "code",
   "execution_count": null,
   "id": "014e0c6d",
   "metadata": {},
   "outputs": [],
   "source": [
    "def run_detection(model_path:str, test_data_path:str, project_name:str, test_name:str):\n",
    "    #model_path = f'Sverige/{model_name}/weights/best.pt'\n",
    "    #test_folder_path = f'{model_name}_TEST_{test_name}'\n",
    "    \n",
    "    !python detect.py \\\n",
    "    --weights {model_path} \\\n",
    "    --source {test_data_path} \\\n",
    "    --project {project_name} \\\n",
    "    --name {test_name} \\\n",
    "    --save-txt \\\n",
    "    --save-conf \\\n",
    "    --nosave\n",
    "    \n"
   ]
  },
  {
   "cell_type": "markdown",
   "id": "85c4bf4d",
   "metadata": {},
   "source": [
    "#### Test on video's frames"
   ]
  },
  {
   "cell_type": "code",
   "execution_count": null,
   "id": "0c9ddf7d",
   "metadata": {},
   "outputs": [],
   "source": [
    "test_swe_path = '/zpool/beast-mirror/labour-movements-mobilisation-via-visual-means/swedish_test_data/sweden/DIKforbundet/AAHMZ3uhgQg/'\n",
    "run_detection(swe_model_name, test_swe_path, 'AAHMZ3uhgQg')"
   ]
  },
  {
   "cell_type": "code",
   "execution_count": null,
   "id": "7e2e6bd1",
   "metadata": {},
   "outputs": [],
   "source": [
    "#test_swe_path = '/zpool/beast-mirror/labour-movements-mobilisation-via-visual-means/XXXXX/sweden/'\n",
    "\n",
    "def run_detection_directory(model_path:str, test_data_dir:str):\n",
    "    # Access the channel folder \n",
    "    channel_dirs = [filename for filename in os.listdir(test_data_dir) if not filename.startswith('.')]\n",
    "    for channel_d in channel_dirs:\n",
    "        sub_folder_path = os.path.join(test_data_dir,channel_d)\n",
    "        # Access the video's frames folder \n",
    "        videos_dir = [filename for filename in os.listdir(sub_folder_path) if not filename.startswith('.')]\n",
    "        for video_d in videos_dir:\n",
    "            video_path = os.path.join(sub_folder_path,video_d)\n",
    "            \n",
    "            # Apply the model to each video's frame\n",
    "            name = channel_d + '/' + video_d\n",
    "            run_detection(model_path, video_path, 'Sweden_analysis', name)"
   ]
  },
  {
   "cell_type": "code",
   "execution_count": null,
   "id": "f301fbd6",
   "metadata": {},
   "outputs": [],
   "source": [
    "test_swe_path = '/zpool/beast-mirror/labour-movements-mobilisation-via-visual-means/swedish_test_data/sweden/'\n",
    "swe_model_path = 'Sverige/lr0.01_b32_e100_f12_V5M6/weights/best.pt'\n",
    "\n",
    "# Run detection \n",
    "run_detection_directory(swe_model_path, test_swe_path)"
   ]
  },
  {
   "cell_type": "code",
   "execution_count": null,
   "id": "f7d373d1",
   "metadata": {},
   "outputs": [],
   "source": []
  }
 ],
 "metadata": {
  "kernelspec": {
   "display_name": "yolo5_transf_learn_env",
   "language": "python",
   "name": "yolo5_transf_learn_env"
  },
  "language_info": {
   "codemirror_mode": {
    "name": "ipython",
    "version": 3
   },
   "file_extension": ".py",
   "mimetype": "text/x-python",
   "name": "python",
   "nbconvert_exporter": "python",
   "pygments_lexer": "ipython3",
   "version": "3.9.16"
  }
 },
 "nbformat": 4,
 "nbformat_minor": 5
}
