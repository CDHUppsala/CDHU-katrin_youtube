{
 "cells": [
  {
   "cell_type": "code",
   "execution_count": 2,
   "metadata": {},
   "outputs": [],
   "source": [
    "import pandas as pd\n",
    "import youtube_dl\n",
    "import os\n",
    "from pytube import extract\n",
    "from yt_dlp import YoutubeDL"
   ]
  },
  {
   "cell_type": "code",
   "execution_count": 3,
   "metadata": {},
   "outputs": [],
   "source": [
    "info_download = pd.read_parquet('downloads_status.parquet')\n",
    "videos_mtdta = pd.read_parquet('../Data_collection/data/videos_metadata.parquet')"
   ]
  },
  {
   "cell_type": "code",
   "execution_count": 4,
   "metadata": {},
   "outputs": [
    {
     "data": {
      "text/html": [
       "<div>\n",
       "<style scoped>\n",
       "    .dataframe tbody tr th:only-of-type {\n",
       "        vertical-align: middle;\n",
       "    }\n",
       "\n",
       "    .dataframe tbody tr th {\n",
       "        vertical-align: top;\n",
       "    }\n",
       "\n",
       "    .dataframe thead th {\n",
       "        text-align: right;\n",
       "    }\n",
       "</style>\n",
       "<table border=\"1\" class=\"dataframe\">\n",
       "  <thead>\n",
       "    <tr style=\"text-align: right;\">\n",
       "      <th></th>\n",
       "      <th>Channel</th>\n",
       "      <th>Video_url</th>\n",
       "    </tr>\n",
       "    <tr>\n",
       "      <th>Status</th>\n",
       "      <th></th>\n",
       "      <th></th>\n",
       "    </tr>\n",
       "  </thead>\n",
       "  <tbody>\n",
       "    <tr>\n",
       "      <th>Downloaded</th>\n",
       "      <td>36086</td>\n",
       "      <td>36086</td>\n",
       "    </tr>\n",
       "    <tr>\n",
       "      <th>Error</th>\n",
       "      <td>990</td>\n",
       "      <td>990</td>\n",
       "    </tr>\n",
       "    <tr>\n",
       "      <th>Exceed length</th>\n",
       "      <td>8495</td>\n",
       "      <td>8495</td>\n",
       "    </tr>\n",
       "  </tbody>\n",
       "</table>\n",
       "</div>"
      ],
      "text/plain": [
       "               Channel  Video_url\n",
       "Status                           \n",
       "Downloaded       36086      36086\n",
       "Error              990        990\n",
       "Exceed length     8495       8495"
      ]
     },
     "execution_count": 4,
     "metadata": {},
     "output_type": "execute_result"
    }
   ],
   "source": [
    "info_download.groupby(by = ['Status'], dropna=True).count()"
   ]
  },
  {
   "cell_type": "code",
   "execution_count": 5,
   "metadata": {},
   "outputs": [
    {
     "data": {
      "text/html": [
       "<div>\n",
       "<style scoped>\n",
       "    .dataframe tbody tr th:only-of-type {\n",
       "        vertical-align: middle;\n",
       "    }\n",
       "\n",
       "    .dataframe tbody tr th {\n",
       "        vertical-align: top;\n",
       "    }\n",
       "\n",
       "    .dataframe thead th {\n",
       "        text-align: right;\n",
       "    }\n",
       "</style>\n",
       "<table border=\"1\" class=\"dataframe\">\n",
       "  <thead>\n",
       "    <tr style=\"text-align: right;\">\n",
       "      <th></th>\n",
       "      <th>title</th>\n",
       "      <th>id</th>\n",
       "      <th>length</th>\n",
       "      <th>views</th>\n",
       "      <th>description</th>\n",
       "      <th>keywords</th>\n",
       "      <th>age_restricted</th>\n",
       "      <th>author</th>\n",
       "      <th>pub_date</th>\n",
       "      <th>raiting</th>\n",
       "      <th>channel</th>\n",
       "      <th>url</th>\n",
       "    </tr>\n",
       "  </thead>\n",
       "  <tbody>\n",
       "    <tr>\n",
       "      <th>0</th>\n",
       "      <td>Drones en la agricultura: sensores voladores p...</td>\n",
       "      <td>grTRnHWDFeU</td>\n",
       "      <td>88</td>\n",
       "      <td>108</td>\n",
       "      <td>Los drones son sensores remotos muy útiles en ...</td>\n",
       "      <td>b'[]'</td>\n",
       "      <td>False</td>\n",
       "      <td>UPA - Unión de Pequeños Agricultores y Ganaderos</td>\n",
       "      <td>2022-10-24</td>\n",
       "      <td>None</td>\n",
       "      <td>UPA_Federal</td>\n",
       "      <td>youtube.com/watch?v=grTRnHWDFeU</td>\n",
       "    </tr>\n",
       "    <tr>\n",
       "      <th>1</th>\n",
       "      <td>Conocemos cómo funciona una miniturbina que pr...</td>\n",
       "      <td>cyhdsw2kkiA</td>\n",
       "      <td>176</td>\n",
       "      <td>133</td>\n",
       "      <td>Gracias al programa de formación en digitaliza...</td>\n",
       "      <td>b'[]'</td>\n",
       "      <td>False</td>\n",
       "      <td>UPA - Unión de Pequeños Agricultores y Ganaderos</td>\n",
       "      <td>2022-10-24</td>\n",
       "      <td>None</td>\n",
       "      <td>UPA_Federal</td>\n",
       "      <td>youtube.com/watch?v=cyhdsw2kkiA</td>\n",
       "    </tr>\n",
       "    <tr>\n",
       "      <th>2</th>\n",
       "      <td>Analizamos un pivot de riego inteligente que o...</td>\n",
       "      <td>Gfe2IIHOe3g</td>\n",
       "      <td>148</td>\n",
       "      <td>130</td>\n",
       "      <td>Sensores de humedad, cámaras que analizan el e...</td>\n",
       "      <td>b'[]'</td>\n",
       "      <td>False</td>\n",
       "      <td>UPA - Unión de Pequeños Agricultores y Ganaderos</td>\n",
       "      <td>2022-10-24</td>\n",
       "      <td>None</td>\n",
       "      <td>UPA_Federal</td>\n",
       "      <td>youtube.com/watch?v=Gfe2IIHOe3g</td>\n",
       "    </tr>\n",
       "    <tr>\n",
       "      <th>3</th>\n",
       "      <td>Conocemos en Córdoba las últimas tecnologías d...</td>\n",
       "      <td>hOR8S5ZnhTM</td>\n",
       "      <td>370</td>\n",
       "      <td>177</td>\n",
       "      <td>Desde seleccionadores automáticos para aceitun...</td>\n",
       "      <td>b'[]'</td>\n",
       "      <td>False</td>\n",
       "      <td>UPA - Unión de Pequeños Agricultores y Ganaderos</td>\n",
       "      <td>2022-10-24</td>\n",
       "      <td>None</td>\n",
       "      <td>UPA_Federal</td>\n",
       "      <td>youtube.com/watch?v=hOR8S5ZnhTM</td>\n",
       "    </tr>\n",
       "    <tr>\n",
       "      <th>4</th>\n",
       "      <td>Así funciona CalculaPAC: la herramienta de UPA...</td>\n",
       "      <td>gAnD56tcIOQ</td>\n",
       "      <td>2134</td>\n",
       "      <td>13159</td>\n",
       "      <td>CalculaPAC 2023 es una aplicación a modo de he...</td>\n",
       "      <td>b'[]'</td>\n",
       "      <td>False</td>\n",
       "      <td>UPA - Unión de Pequeños Agricultores y Ganaderos</td>\n",
       "      <td>2022-10-07</td>\n",
       "      <td>None</td>\n",
       "      <td>UPA_Federal</td>\n",
       "      <td>youtube.com/watch?v=gAnD56tcIOQ</td>\n",
       "    </tr>\n",
       "  </tbody>\n",
       "</table>\n",
       "</div>"
      ],
      "text/plain": [
       "                                               title           id  length  \\\n",
       "0  Drones en la agricultura: sensores voladores p...  grTRnHWDFeU      88   \n",
       "1  Conocemos cómo funciona una miniturbina que pr...  cyhdsw2kkiA     176   \n",
       "2  Analizamos un pivot de riego inteligente que o...  Gfe2IIHOe3g     148   \n",
       "3  Conocemos en Córdoba las últimas tecnologías d...  hOR8S5ZnhTM     370   \n",
       "4  Así funciona CalculaPAC: la herramienta de UPA...  gAnD56tcIOQ    2134   \n",
       "\n",
       "   views                                        description keywords  \\\n",
       "0    108  Los drones son sensores remotos muy útiles en ...    b'[]'   \n",
       "1    133  Gracias al programa de formación en digitaliza...    b'[]'   \n",
       "2    130  Sensores de humedad, cámaras que analizan el e...    b'[]'   \n",
       "3    177  Desde seleccionadores automáticos para aceitun...    b'[]'   \n",
       "4  13159  CalculaPAC 2023 es una aplicación a modo de he...    b'[]'   \n",
       "\n",
       "   age_restricted                                            author  \\\n",
       "0           False  UPA - Unión de Pequeños Agricultores y Ganaderos   \n",
       "1           False  UPA - Unión de Pequeños Agricultores y Ganaderos   \n",
       "2           False  UPA - Unión de Pequeños Agricultores y Ganaderos   \n",
       "3           False  UPA - Unión de Pequeños Agricultores y Ganaderos   \n",
       "4           False  UPA - Unión de Pequeños Agricultores y Ganaderos   \n",
       "\n",
       "    pub_date raiting      channel                              url  \n",
       "0 2022-10-24    None  UPA_Federal  youtube.com/watch?v=grTRnHWDFeU  \n",
       "1 2022-10-24    None  UPA_Federal  youtube.com/watch?v=cyhdsw2kkiA  \n",
       "2 2022-10-24    None  UPA_Federal  youtube.com/watch?v=Gfe2IIHOe3g  \n",
       "3 2022-10-24    None  UPA_Federal  youtube.com/watch?v=hOR8S5ZnhTM  \n",
       "4 2022-10-07    None  UPA_Federal  youtube.com/watch?v=gAnD56tcIOQ  "
      ]
     },
     "execution_count": 5,
     "metadata": {},
     "output_type": "execute_result"
    }
   ],
   "source": [
    "videos_mtdta.head(5)"
   ]
  },
  {
   "cell_type": "code",
   "execution_count": 6,
   "metadata": {},
   "outputs": [
    {
     "name": "stdout",
     "output_type": "stream",
     "text": [
      "---Max video length in minutes: 719.5833333333334\n",
      "in channel          uiltrasportinazionale5767\n",
      "url        youtube.com/watch?v=_Z8CEU21CHc\n",
      "Name: 44190, dtype: object\n",
      "---Min video length in minutes: 0.016666666666666666\n",
      "in channel                      CCOO_Canarias\n",
      "url        youtube.com/watch?v=rbLTm4voFP0\n",
      "Name: 13048, dtype: object\n"
     ]
    }
   ],
   "source": [
    "print(f'---Max video length in minutes: {videos_mtdta.length.max()/60}')\n",
    "max_ = videos_mtdta[['channel','url']].iloc[videos_mtdta.length.idxmax()]\n",
    "print(f'in {max_}')\n",
    "print(f'---Min video length in minutes: {videos_mtdta.length.min()/60}')\n",
    "min_ = videos_mtdta[['channel','url']].iloc[videos_mtdta.length.idxmin()]\n",
    "print(f'in {min_}')\n",
    "\n",
    "\n"
   ]
  },
  {
   "cell_type": "code",
   "execution_count": 7,
   "metadata": {},
   "outputs": [
    {
     "data": {
      "image/png": "[encoded data removed]",
      "text/plain": [
       "<Figure size 640x480 with 1 Axes>"
      ]
     },
     "metadata": {},
     "output_type": "display_data"
    }
   ],
   "source": [
    "import matplotlib.pyplot as plt\n",
    "\n",
    "#create histogram for points variable\n",
    "figure=plt.figure(1)\n",
    "plt.hist(videos_mtdta['length'], edgecolor='black',range=[0,600])\n",
    "plt.xlabel('Length in seconds')\n",
    "plt.ylabel('Frequency')\n",
    "plt.title('Length Distribution Histogram for videos bellow 10mnts')\n",
    "plt.show()"
   ]
  },
  {
   "cell_type": "code",
   "execution_count": 8,
   "metadata": {},
   "outputs": [
    {
     "name": "stdout",
     "output_type": "stream",
     "text": [
      "There are 37076 total videos which length is less that 10 min\n",
      "We collected only 36086\n",
      "Missing 990\n"
     ]
    }
   ],
   "source": [
    "## Count how many videos there are with less than 10 mintus of length \n",
    "print('There are {} total videos which length is less that 10 min'.format((videos_mtdta['length']<= 600).sum()))\n",
    "print('We collected only {}'.format((info_download['Status']=='Downloaded').sum()))\n",
    "print('Missing {}'.format((info_download['Status']=='Error').sum()))"
   ]
  },
  {
   "cell_type": "code",
   "execution_count": 23,
   "metadata": {},
   "outputs": [
    {
     "name": "stderr",
     "output_type": "stream",
     "text": [
      "/var/folders/3m/rx3d7q5d0nbdsfzq7tmpgznw0000gn/T/ipykernel_18563/2490791930.py:2: FutureWarning: The default value of regex will change from True to False in a future version.\n",
      "  error_videos['Video_url'] = error_videos['Video_url'].str.replace('https://www.', '')\n",
      "/var/folders/3m/rx3d7q5d0nbdsfzq7tmpgznw0000gn/T/ipykernel_18563/2490791930.py:2: SettingWithCopyWarning: \n",
      "A value is trying to be set on a copy of a slice from a DataFrame.\n",
      "Try using .loc[row_indexer,col_indexer] = value instead\n",
      "\n",
      "See the caveats in the documentation: https://pandas.pydata.org/pandas-docs/stable/user_guide/indexing.html#returning-a-view-versus-a-copy\n",
      "  error_videos['Video_url'] = error_videos['Video_url'].str.replace('https://www.', '')\n"
     ]
    }
   ],
   "source": [
    "error_videos = info_download[info_download['Status']=='Error']\n",
    "error_videos['Video_url'] = error_videos['Video_url'].str.replace('https://www.', '')\n"
   ]
  },
  {
   "cell_type": "code",
   "execution_count": 30,
   "metadata": {},
   "outputs": [],
   "source": [
    "error_videos.to_parquet('error_videos.parquet')"
   ]
  },
  {
   "cell_type": "code",
   "execution_count": 33,
   "metadata": {},
   "outputs": [
    {
     "data": {
      "text/html": [
       "<div>\n",
       "<style scoped>\n",
       "    .dataframe tbody tr th:only-of-type {\n",
       "        vertical-align: middle;\n",
       "    }\n",
       "\n",
       "    .dataframe tbody tr th {\n",
       "        vertical-align: top;\n",
       "    }\n",
       "\n",
       "    .dataframe thead th {\n",
       "        text-align: right;\n",
       "    }\n",
       "</style>\n",
       "<table border=\"1\" class=\"dataframe\">\n",
       "  <thead>\n",
       "    <tr style=\"text-align: right;\">\n",
       "      <th></th>\n",
       "      <th>Channel</th>\n",
       "      <th>Video_url</th>\n",
       "      <th>Status</th>\n",
       "    </tr>\n",
       "  </thead>\n",
       "  <tbody>\n",
       "    <tr>\n",
       "      <th>3990</th>\n",
       "      <td>avantarvideos</td>\n",
       "      <td>youtube.com/watch?v=bvCTTZeflxI</td>\n",
       "      <td>Error</td>\n",
       "    </tr>\n",
       "    <tr>\n",
       "      <th>3993</th>\n",
       "      <td>avantarvideos</td>\n",
       "      <td>youtube.com/watch?v=28wztaJVvrg</td>\n",
       "      <td>Error</td>\n",
       "    </tr>\n",
       "    <tr>\n",
       "      <th>9479</th>\n",
       "      <td>ccoo</td>\n",
       "      <td>youtube.com/watch?v=fki27FRuUvg</td>\n",
       "      <td>Error</td>\n",
       "    </tr>\n",
       "    <tr>\n",
       "      <th>12006</th>\n",
       "      <td>ccoocyl</td>\n",
       "      <td>youtube.com/watch?v=vQQ19Gtnxx0</td>\n",
       "      <td>Error</td>\n",
       "    </tr>\n",
       "    <tr>\n",
       "      <th>12129</th>\n",
       "      <td>ccoocyl</td>\n",
       "      <td>youtube.com/watch?v=RAS6Qmrfo-k</td>\n",
       "      <td>Error</td>\n",
       "    </tr>\n",
       "    <tr>\n",
       "      <th>...</th>\n",
       "      <td>...</td>\n",
       "      <td>...</td>\n",
       "      <td>...</td>\n",
       "    </tr>\n",
       "    <tr>\n",
       "      <th>28986</th>\n",
       "      <td>UnionenTV</td>\n",
       "      <td>youtube.com/watch?v=J2m0rXO3wPE</td>\n",
       "      <td>Error</td>\n",
       "    </tr>\n",
       "    <tr>\n",
       "      <th>29664</th>\n",
       "      <td>Legeforeningen</td>\n",
       "      <td>youtube.com/watch?v=N4i9uh_66z8</td>\n",
       "      <td>Error</td>\n",
       "    </tr>\n",
       "    <tr>\n",
       "      <th>30747</th>\n",
       "      <td>industriEnergi</td>\n",
       "      <td>youtube.com/watch?v=MqpbL-S_J-U</td>\n",
       "      <td>Error</td>\n",
       "    </tr>\n",
       "    <tr>\n",
       "      <th>36785</th>\n",
       "      <td>cgilprato5615</td>\n",
       "      <td>youtube.com/watch?v=gi-G4j4HPAY</td>\n",
       "      <td>Error</td>\n",
       "    </tr>\n",
       "    <tr>\n",
       "      <th>37316</th>\n",
       "      <td>CislItalia</td>\n",
       "      <td>youtube.com/watch?v=2zMm94uBfbQ</td>\n",
       "      <td>Error</td>\n",
       "    </tr>\n",
       "  </tbody>\n",
       "</table>\n",
       "<p>990 rows × 3 columns</p>\n",
       "</div>"
      ],
      "text/plain": [
       "              Channel                        Video_url Status\n",
       "3990    avantarvideos  youtube.com/watch?v=bvCTTZeflxI  Error\n",
       "3993    avantarvideos  youtube.com/watch?v=28wztaJVvrg  Error\n",
       "9479             ccoo  youtube.com/watch?v=fki27FRuUvg  Error\n",
       "12006         ccoocyl  youtube.com/watch?v=vQQ19Gtnxx0  Error\n",
       "12129         ccoocyl  youtube.com/watch?v=RAS6Qmrfo-k  Error\n",
       "...               ...                              ...    ...\n",
       "28986       UnionenTV  youtube.com/watch?v=J2m0rXO3wPE  Error\n",
       "29664  Legeforeningen  youtube.com/watch?v=N4i9uh_66z8  Error\n",
       "30747  industriEnergi  youtube.com/watch?v=MqpbL-S_J-U  Error\n",
       "36785   cgilprato5615  youtube.com/watch?v=gi-G4j4HPAY  Error\n",
       "37316      CislItalia  youtube.com/watch?v=2zMm94uBfbQ  Error\n",
       "\n",
       "[990 rows x 3 columns]"
      ]
     },
     "execution_count": 33,
     "metadata": {},
     "output_type": "execute_result"
    }
   ],
   "source": [
    "error_videos"
   ]
  },
  {
   "cell_type": "code",
   "execution_count": 34,
   "metadata": {},
   "outputs": [
    {
     "data": {
      "text/html": [
       "<div>\n",
       "<style scoped>\n",
       "    .dataframe tbody tr th:only-of-type {\n",
       "        vertical-align: middle;\n",
       "    }\n",
       "\n",
       "    .dataframe tbody tr th {\n",
       "        vertical-align: top;\n",
       "    }\n",
       "\n",
       "    .dataframe thead th {\n",
       "        text-align: right;\n",
       "    }\n",
       "</style>\n",
       "<table border=\"1\" class=\"dataframe\">\n",
       "  <thead>\n",
       "    <tr style=\"text-align: right;\">\n",
       "      <th></th>\n",
       "      <th>Channel</th>\n",
       "      <th>Video_url</th>\n",
       "      <th>Status_2</th>\n",
       "    </tr>\n",
       "  </thead>\n",
       "  <tbody>\n",
       "    <tr>\n",
       "      <th>0</th>\n",
       "      <td>avantarvideos</td>\n",
       "      <td>youtube.com/watch?v=bvCTTZeflxI</td>\n",
       "      <td>Downloaded</td>\n",
       "    </tr>\n",
       "    <tr>\n",
       "      <th>1</th>\n",
       "      <td>avantarvideos</td>\n",
       "      <td>youtube.com/watch?v=28wztaJVvrg</td>\n",
       "      <td>Downloaded</td>\n",
       "    </tr>\n",
       "  </tbody>\n",
       "</table>\n",
       "</div>"
      ],
      "text/plain": [
       "         Channel                        Video_url    Status_2\n",
       "0  avantarvideos  youtube.com/watch?v=bvCTTZeflxI  Downloaded\n",
       "1  avantarvideos  youtube.com/watch?v=28wztaJVvrg  Downloaded"
      ]
     },
     "execution_count": 34,
     "metadata": {},
     "output_type": "execute_result"
    }
   ],
   "source": [
    "pd.read_parquet('downloads_status_re-try.parquet')"
   ]
  },
  {
   "cell_type": "code",
   "execution_count": null,
   "metadata": {},
   "outputs": [],
   "source": []
  }
 ],
 "metadata": {
  "kernelspec": {
   "display_name": "tensorflow_m1",
   "language": "python",
   "name": "python3"
  },
  "language_info": {
   "codemirror_mode": {
    "name": "ipython",
    "version": 3
   },
   "file_extension": ".py",
   "mimetype": "text/x-python",
   "name": "python",
   "nbconvert_exporter": "python",
   "pygments_lexer": "ipython3",
   "version": "3.9.13"
  },
  "orig_nbformat": 4,
  "vscode": {
   "interpreter": {
    "hash": "e8fd7f81d704f7e8486f20ea3bbff14b5db78c7b6c53c5bab1d61bc90f011f82"
   }
  }
 },
 "nbformat": 4,
 "nbformat_minor": 2
}
