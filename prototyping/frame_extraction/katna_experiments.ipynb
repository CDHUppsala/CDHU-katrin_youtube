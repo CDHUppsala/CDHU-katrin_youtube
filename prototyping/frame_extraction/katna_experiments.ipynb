{
 "cells": [
  {
   "cell_type": "code",
   "execution_count": 1,
   "metadata": {},
   "outputs": [],
   "source": [
    "from Katna.video import Video"
   ]
  },
  {
   "cell_type": "code",
   "execution_count": 3,
   "metadata": {},
   "outputs": [
    {
     "ename": "RuntimeError",
     "evalue": "No ffmpeg exe could be found. Install ffmpeg on your system, or set the IMAGEIO_FFMPEG_EXE environment variable.",
     "output_type": "error",
     "traceback": [
      "\u001b[0;31m---------------------------------------------------------------------------\u001b[0m",
      "\u001b[0;31mRuntimeError\u001b[0m                              Traceback (most recent call last)",
      "\u001b[1;32m/Users/pauor506/Documents/CDHU/June2022:Dec2022/Pilots/Youtube_Katrin/Code/prototyping/frame_extraction/katna_experiments.ipynb Cell 2\u001b[0m in \u001b[0;36m<cell line: 2>\u001b[0;34m()\u001b[0m\n\u001b[1;32m      <a href='vscode-notebook-cell:/Users/pauor506/Documents/CDHU/June2022%3ADec2022/Pilots/Youtube_Katrin/Code/prototyping/frame_extraction/katna_experiments.ipynb#W3sZmlsZQ%3D%3D?line=0'>1</a>\u001b[0m \u001b[39m# Initiate the video class \u001b[39;00m\n\u001b[1;32m      <a href='vscode-notebook-cell:/Users/pauor506/Documents/CDHU/June2022%3ADec2022/Pilots/Youtube_Katrin/Code/prototyping/frame_extraction/katna_experiments.ipynb#W3sZmlsZQ%3D%3D?line=1'>2</a>\u001b[0m \u001b[39mif\u001b[39;00m \u001b[39m__name__\u001b[39m \u001b[39m==\u001b[39m \u001b[39m\"\u001b[39m\u001b[39m__main__\u001b[39m\u001b[39m\"\u001b[39m:\n\u001b[0;32m----> <a href='vscode-notebook-cell:/Users/pauor506/Documents/CDHU/June2022%3ADec2022/Pilots/Youtube_Katrin/Code/prototyping/frame_extraction/katna_experiments.ipynb#W3sZmlsZQ%3D%3D?line=2'>3</a>\u001b[0m      vd \u001b[39m=\u001b[39m Video()\n",
      "File \u001b[0;32m~/opt/miniconda3/envs/tensorflow_m1/lib/python3.9/site-packages/Katna/video.py:44\u001b[0m, in \u001b[0;36mVideo.__init__\u001b[0;34m(self, autoflip_build_path, autoflip_model_path)\u001b[0m\n\u001b[1;32m     42\u001b[0m \u001b[39mdef\u001b[39;00m \u001b[39m__init__\u001b[39m(\u001b[39mself\u001b[39m, autoflip_build_path\u001b[39m=\u001b[39m\u001b[39mNone\u001b[39;00m, autoflip_model_path\u001b[39m=\u001b[39m\u001b[39mNone\u001b[39;00m):\n\u001b[1;32m     43\u001b[0m     \u001b[39m# Find out location of ffmpeg binary on system\u001b[39;00m\n\u001b[0;32m---> 44\u001b[0m     helper\u001b[39m.\u001b[39;49m_set_ffmpeg_binary_path()\n\u001b[1;32m     45\u001b[0m     \u001b[39m# If the duration of the clipped video is less than **min_video_duration**\u001b[39;00m\n\u001b[1;32m     46\u001b[0m     \u001b[39m# then, the clip will be added with the previous clipped\u001b[39;00m\n\u001b[1;32m     47\u001b[0m     \u001b[39mself\u001b[39m\u001b[39m.\u001b[39m_min_video_duration \u001b[39m=\u001b[39m config\u001b[39m.\u001b[39mVideo\u001b[39m.\u001b[39mmin_video_duration\n",
      "File \u001b[0;32m~/opt/miniconda3/envs/tensorflow_m1/lib/python3.9/site-packages/Katna/helper_functions.py:151\u001b[0m, in \u001b[0;36m_set_ffmpeg_binary_path\u001b[0;34m()\u001b[0m\n\u001b[1;32m    148\u001b[0m FFMPEG_BINARY \u001b[39m=\u001b[39m os\u001b[39m.\u001b[39mgetenv(\u001b[39m\"\u001b[39m\u001b[39mFFMPEG_BINARY\u001b[39m\u001b[39m\"\u001b[39m, \u001b[39m\"\u001b[39m\u001b[39mffmpeg-imageio\u001b[39m\u001b[39m\"\u001b[39m)\n\u001b[1;32m    150\u001b[0m \u001b[39mif\u001b[39;00m FFMPEG_BINARY \u001b[39m==\u001b[39m \u001b[39m\"\u001b[39m\u001b[39mffmpeg-imageio\u001b[39m\u001b[39m\"\u001b[39m:\n\u001b[0;32m--> 151\u001b[0m     FFMPEG_BINARY \u001b[39m=\u001b[39m get_ffmpeg_exe()\n\u001b[1;32m    152\u001b[0m \u001b[39melse\u001b[39;00m:\n\u001b[1;32m    153\u001b[0m     success, err \u001b[39m=\u001b[39m _try_cmd([FFMPEG_BINARY])\n",
      "File \u001b[0;32m~/opt/miniconda3/envs/tensorflow_m1/lib/python3.9/site-packages/imageio_ffmpeg/_utils.py:33\u001b[0m, in \u001b[0;36mget_ffmpeg_exe\u001b[0;34m()\u001b[0m\n\u001b[1;32m     30\u001b[0m     \u001b[39mreturn\u001b[39;00m exe\n\u001b[1;32m     32\u001b[0m \u001b[39m# Nothing was found\u001b[39;00m\n\u001b[0;32m---> 33\u001b[0m \u001b[39mraise\u001b[39;00m \u001b[39mRuntimeError\u001b[39;00m(\n\u001b[1;32m     34\u001b[0m     \u001b[39m\"\u001b[39m\u001b[39mNo ffmpeg exe could be found. Install ffmpeg on your system, \u001b[39m\u001b[39m\"\u001b[39m\n\u001b[1;32m     35\u001b[0m     \u001b[39m\"\u001b[39m\u001b[39mor set the IMAGEIO_FFMPEG_EXE environment variable.\u001b[39m\u001b[39m\"\u001b[39m\n\u001b[1;32m     36\u001b[0m )\n",
      "\u001b[0;31mRuntimeError\u001b[0m: No ffmpeg exe could be found. Install ffmpeg on your system, or set the IMAGEIO_FFMPEG_EXE environment variable."
     ]
    }
   ],
   "source": [
    "# Initiate the video class \n",
    "if __name__ == \"__main__\":\n",
    "     vd = Video()"
   ]
  },
  {
   "cell_type": "code",
   "execution_count": null,
   "metadata": {},
   "outputs": [],
   "source": []
  }
 ],
 "metadata": {
  "kernelspec": {
   "display_name": "tensorflow_m1",
   "language": "python",
   "name": "python3"
  },
  "language_info": {
   "codemirror_mode": {
    "name": "ipython",
    "version": 3
   },
   "file_extension": ".py",
   "mimetype": "text/x-python",
   "name": "python",
   "nbconvert_exporter": "python",
   "pygments_lexer": "ipython3",
   "version": "3.9.13"
  },
  "orig_nbformat": 4,
  "vscode": {
   "interpreter": {
    "hash": "e8fd7f81d704f7e8486f20ea3bbff14b5db78c7b6c53c5bab1d61bc90f011f82"
   }
  }
 },
 "nbformat": 4,
 "nbformat_minor": 2
}
