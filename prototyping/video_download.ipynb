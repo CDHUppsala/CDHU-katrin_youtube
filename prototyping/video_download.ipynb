{
 "cells": [
  {
   "cell_type": "code",
   "execution_count": 2,
   "metadata": {},
   "outputs": [],
   "source": [
    "from pytube import YouTube\n",
    "from pytube import Channel\n",
    "import pandas as pd\n",
    "import youtube_dl\n",
    "import os\n",
    "from pytube import extract\n",
    "from yt_dlp import YoutubeDL\n"
   ]
  },
  {
   "cell_type": "code",
   "execution_count": 4,
   "metadata": {},
   "outputs": [],
   "source": [
    "file_test = '../Data_collection/data/videos_metadata.csv'\n",
    "df = pd.read_csv(file_test,lineterminator='\\n')\n",
    "df = df.sample(n=5, random_state=495)"
   ]
  },
  {
   "cell_type": "code",
   "execution_count": 5,
   "metadata": {},
   "outputs": [
    {
     "data": {
      "text/plain": [
       "(5, 12)"
      ]
     },
     "execution_count": 5,
     "metadata": {},
     "output_type": "execute_result"
    }
   ],
   "source": [
    "df.shape"
   ]
  },
  {
   "cell_type": "code",
   "execution_count": 8,
   "metadata": {},
   "outputs": [],
   "source": [
    "import logging\n",
    "from http.client import IncompleteRead\n",
    "from youtube_dl.utils import ExtractorError \n",
    "\n",
    "logging.basicConfig(level=logging.DEBUG, filename='video_download.log', \n",
    "                    format='%(asctime)s : %(levelname)s : %(message)s',\n",
    "                    datefmt='%d-%b-%y %H:%M:%S')\n",
    "\n",
    "def create_folder(folder):\n",
    "    try: # if it is possible to create the folder\n",
    "        os.mkdir(folder)\n",
    "    except: # if the folder was not created successfuly, raise a warning\n",
    "        logging.info('There is an error with the folder')\n",
    "\n",
    "def video_download(url:str, target_path:str):\n",
    "    ydl_opts = {'outtmpl': 'Videos/' + '%(id)s-%(format_id)s.%(ext)s','format': 'mp4',\n",
    "    'concurrent-fragments':8}\n",
    "    with YoutubeDL(ydl_opts) as ydl:\n",
    "        ydl.download([str(url)]) # Downloads the best format by default \n",
    "\n",
    "\n",
    "def video_download(df, root_folder:str): \n",
    "    # df: metadata. df must contain a column called url where the urls to the videos are stored\n",
    "    # root_folder: folder where videos are stored\n",
    "\n",
    "    for idx in range(0,df.shape[0]):\n",
    "\n",
    "        # Access the video url from data frame\n",
    "        video_url = 'https://www.' + df['url'].iloc[idx]\n",
    "        channel_name = df['channel'].iloc[idx].replace(\" \", \"_\")\n",
    "        len = df['length'].iloc[idx]\n",
    "\n",
    "        # Create a folder for that channel\n",
    "        channel_folder = 'Videos/' + channel_name + '/'\n",
    "        \n",
    "        # Create a new folder for the channel\n",
    "        if not os.path.exists(channel_folder):\n",
    "            create_folder(channel_folder)\n",
    "\n",
    "        ydl_opts = {'outtmpl': channel_folder + '%(id)s-%(format_id)s.%(ext)s',\n",
    "                    'format': 'mp4',\n",
    "                    'concurrent-fragments':8}\n",
    "        #'format': 'bestvideo[ext=mp4]',\n",
    "        if len <= 600:\n",
    "            try:\n",
    "                with YoutubeDL(ydl_opts) as ydl:\n",
    "                    ydl.download([video_url]) # Downloads the best format by default \n",
    "            except:\n",
    "                logging.info(f'Error when downloading video {video_url}')\n",
    "        else:\n",
    "            logging.info(f'The video {video_url} exceeded the time constrain. Length {len} seconds.')\n",
    "    \n"
   ]
  },
  {
   "cell_type": "code",
   "execution_count": 9,
   "metadata": {},
   "outputs": [
    {
     "name": "stdout",
     "output_type": "stream",
     "text": [
      "[youtube] Extracting URL: https://www.youtube.com/watch?v=v9yxfkxq94I\n",
      "[youtube] v9yxfkxq94I: Downloading webpage\n",
      "[youtube] v9yxfkxq94I: Downloading android player API JSON\n",
      "[youtube] v9yxfkxq94I: Downloading MPD manifest\n",
      "[youtube] v9yxfkxq94I: Downloading MPD manifest\n",
      "[info] v9yxfkxq94I: Downloading 1 format(s): 18\n",
      "[download] Destination: Videos/CCOOMadrid/v9yxfkxq94I-18.mp4\n",
      "[download] 100% of    5.13MiB in 00:00:00 at 19.50MiB/s  \n",
      "[youtube] Extracting URL: https://www.youtube.com/watch?v=L1JKqZacq9Y\n",
      "[youtube] L1JKqZacq9Y: Downloading webpage\n",
      "[youtube] L1JKqZacq9Y: Downloading android player API JSON\n",
      "[youtube] L1JKqZacq9Y: Downloading MPD manifest\n",
      "[youtube] L1JKqZacq9Y: Downloading MPD manifest\n",
      "[info] L1JKqZacq9Y: Downloading 1 format(s): 22\n",
      "[download] Destination: Videos/FILCTEMCGIL/L1JKqZacq9Y-22.mp4\n",
      "[download] 100% of  124.27MiB in 00:00:03 at 31.42MiB/s    \n",
      "[youtube] Extracting URL: https://www.youtube.com/watch?v=nwKMWIwokGY\n",
      "[youtube] nwKMWIwokGY: Downloading webpage\n",
      "[youtube] nwKMWIwokGY: Downloading android player API JSON\n",
      "[youtube] nwKMWIwokGY: Downloading MPD manifest\n",
      "[youtube] nwKMWIwokGY: Downloading MPD manifest\n",
      "[info] nwKMWIwokGY: Downloading 1 format(s): 22\n",
      "[download] Destination: Videos/Legeforeningen/nwKMWIwokGY-22.mp4\n",
      "[download] 100% of   22.14MiB in 00:00:00 at 42.48MiB/s  \n",
      "[youtube] Extracting URL: https://www.youtube.com/watch?v=98tInE5hiT8\n",
      "[youtube] 98tInE5hiT8: Downloading webpage\n",
      "[youtube] 98tInE5hiT8: Downloading android player API JSON\n",
      "[youtube] 98tInE5hiT8: Downloading MPD manifest\n",
      "[youtube] 98tInE5hiT8: Downloading MPD manifest\n",
      "[info] 98tInE5hiT8: Downloading 1 format(s): 22\n",
      "[download] Destination: Videos/1UGT/98tInE5hiT8-22.mp4\n",
      "[download] 100% of    9.85MiB in 00:00:00 at 44.44MiB/s    \n",
      "[youtube] Extracting URL: https://www.youtube.com/watch?v=gYzW9-O0FO8\n",
      "[youtube] gYzW9-O0FO8: Downloading webpage\n",
      "[youtube] gYzW9-O0FO8: Downloading android player API JSON\n",
      "[info] gYzW9-O0FO8: Downloading 1 format(s): 22\n",
      "[download] Destination: Videos/TidningenArbetet/gYzW9-O0FO8-22.mp4\n",
      "[download] 100% of   16.50MiB in 00:00:00 at 35.01MiB/s    \n"
     ]
    }
   ],
   "source": [
    "video_download(df, 'Videos/') "
   ]
  },
  {
   "cell_type": "code",
   "execution_count": 7,
   "metadata": {},
   "outputs": [
    {
     "name": "stdout",
     "output_type": "stream",
     "text": [
      "[youtube] Extracting URL: https://www.youtube.com/watch?v=v9yxfkxq94I\n",
      "[youtube] v9yxfkxq94I: Downloading webpage\n",
      "[youtube] v9yxfkxq94I: Downloading android player API JSON\n",
      "[youtube] v9yxfkxq94I: Downloading MPD manifest\n",
      "[youtube] v9yxfkxq94I: Downloading MPD manifest\n",
      "[info] v9yxfkxq94I: Downloading 1 format(s): 135\n",
      "[dashsegments] Total fragments: 14\n",
      "[download] Destination: Videos/CCOOMadrid/v9yxfkxq94I-135.mp4\n",
      "[download] 100% of   10.42MiB in 00:00:04 at 2.20MiB/s                 \n",
      "[youtube] Extracting URL: https://www.youtube.com/watch?v=L1JKqZacq9Y\n",
      "[youtube] L1JKqZacq9Y: Downloading webpage\n",
      "[youtube] L1JKqZacq9Y: Downloading android player API JSON\n",
      "[youtube] L1JKqZacq9Y: Downloading MPD manifest\n",
      "[youtube] L1JKqZacq9Y: Downloading MPD manifest\n",
      "[info] L1JKqZacq9Y: Downloading 1 format(s): 136\n",
      "[dashsegments] Total fragments: 99\n",
      "[download] Destination: Videos/FILCTEMCGIL/L1JKqZacq9Y-136.mp4\n",
      "[download] 100% of   98.54MiB in 00:01:25 at 1.15MiB/s                 \n",
      "[youtube] Extracting URL: https://www.youtube.com/watch?v=nwKMWIwokGY\n",
      "[youtube] nwKMWIwokGY: Downloading webpage\n",
      "[youtube] nwKMWIwokGY: Downloading android player API JSON\n",
      "[youtube] nwKMWIwokGY: Downloading MPD manifest\n",
      "[youtube] nwKMWIwokGY: Downloading MPD manifest\n",
      "[info] nwKMWIwokGY: Downloading 1 format(s): 299\n",
      "[download] Destination: Videos/Legeforeningen/nwKMWIwokGY-299.mp4\n",
      "[download] 100% of   46.19MiB in 00:00:02 at 17.97MiB/s    \n",
      "[youtube] Extracting URL: https://www.youtube.com/watch?v=98tInE5hiT8\n",
      "[youtube] 98tInE5hiT8: Downloading webpage\n",
      "[youtube] 98tInE5hiT8: Downloading android player API JSON\n",
      "[youtube] 98tInE5hiT8: Downloading MPD manifest\n",
      "[youtube] 98tInE5hiT8: Downloading MPD manifest\n",
      "[info] 98tInE5hiT8: Downloading 1 format(s): 137\n",
      "[download] Destination: Videos/1UGT/98tInE5hiT8-137.mp4\n",
      "[download] 100% of   13.94MiB in 00:00:01 at 9.20MiB/s     \n",
      "[youtube] Extracting URL: https://www.youtube.com/watch?v=gYzW9-O0FO8\n",
      "[youtube] gYzW9-O0FO8: Downloading webpage\n",
      "[youtube] gYzW9-O0FO8: Downloading android player API JSON\n",
      "[info] gYzW9-O0FO8: Downloading 1 format(s): 136\n",
      "[download] Destination: Videos/TidningenArbetet/gYzW9-O0FO8-136.mp4\n",
      "[download] 100% of   15.34MiB in 00:00:01 at 11.65MiB/s  \n"
     ]
    }
   ],
   "source": [
    "video_download(df, 'Videos/') "
   ]
  },
  {
   "cell_type": "code",
   "execution_count": 12,
   "metadata": {},
   "outputs": [
    {
     "name": "stdout",
     "output_type": "stream",
     "text": [
      "[generic] Extracting URL: youtube.com/watch?v=v9yxfkxq94I\n"
     ]
    },
    {
     "name": "stderr",
     "output_type": "stream",
     "text": [
      "WARNING: [generic] The url doesn't specify the protocol, trying with http\n"
     ]
    },
    {
     "name": "stdout",
     "output_type": "stream",
     "text": [
      "[youtube] Extracting URL: http://youtube.com/watch?v=v9yxfkxq94I\n",
      "[youtube] v9yxfkxq94I: Downloading webpage\n",
      "[youtube] v9yxfkxq94I: Downloading android player API JSON\n",
      "[youtube] v9yxfkxq94I: Downloading MPD manifest\n",
      "[youtube] v9yxfkxq94I: Downloading MPD manifest\n",
      "[info] v9yxfkxq94I: Downloading 1 format(s): 18\n",
      "[download] Destination: Videos/CCOOMadrid/v9yxfkxq94I-18.mp4\n",
      "[download] 100% of    5.13MiB in 00:00:00 at 14.96MiB/s    \n",
      "[generic] Extracting URL: youtube.com/watch?v=L1JKqZacq9Y\n"
     ]
    },
    {
     "name": "stderr",
     "output_type": "stream",
     "text": [
      "WARNING: [generic] The url doesn't specify the protocol, trying with http\n"
     ]
    },
    {
     "name": "stdout",
     "output_type": "stream",
     "text": [
      "[youtube] Extracting URL: http://youtube.com/watch?v=L1JKqZacq9Y\n",
      "[youtube] L1JKqZacq9Y: Downloading webpage\n",
      "[youtube] L1JKqZacq9Y: Downloading android player API JSON\n",
      "[youtube] L1JKqZacq9Y: Downloading MPD manifest\n",
      "[youtube] L1JKqZacq9Y: Downloading MPD manifest\n",
      "[info] L1JKqZacq9Y: Downloading 1 format(s): 22\n",
      "[download] Destination: Videos/FILCTEMCGIL/L1JKqZacq9Y-22.mp4\n",
      "[download] 100% of  124.27MiB in 00:00:04 at 27.76MiB/s  \n",
      "[generic] Extracting URL: youtube.com/watch?v=nwKMWIwokGY\n"
     ]
    },
    {
     "name": "stderr",
     "output_type": "stream",
     "text": [
      "WARNING: [generic] The url doesn't specify the protocol, trying with http\n"
     ]
    },
    {
     "name": "stdout",
     "output_type": "stream",
     "text": [
      "[youtube] Extracting URL: http://youtube.com/watch?v=nwKMWIwokGY\n",
      "[youtube] nwKMWIwokGY: Downloading webpage\n",
      "[youtube] nwKMWIwokGY: Downloading android player API JSON\n",
      "[youtube] nwKMWIwokGY: Downloading MPD manifest\n",
      "[youtube] nwKMWIwokGY: Downloading MPD manifest\n",
      "[info] nwKMWIwokGY: Downloading 1 format(s): 22\n",
      "[download] Destination: Videos/Legeforeningen/nwKMWIwokGY-22.mp4\n",
      "[download] 100% of   22.14MiB in 00:00:00 at 25.47MiB/s    \n",
      "[generic] Extracting URL: youtube.com/watch?v=98tInE5hiT8\n"
     ]
    },
    {
     "name": "stderr",
     "output_type": "stream",
     "text": [
      "WARNING: [generic] The url doesn't specify the protocol, trying with http\n"
     ]
    },
    {
     "name": "stdout",
     "output_type": "stream",
     "text": [
      "[youtube] Extracting URL: http://youtube.com/watch?v=98tInE5hiT8\n",
      "[youtube] 98tInE5hiT8: Downloading webpage\n",
      "[youtube] 98tInE5hiT8: Downloading android player API JSON\n",
      "[youtube] 98tInE5hiT8: Downloading MPD manifest\n",
      "[youtube] 98tInE5hiT8: Downloading MPD manifest\n",
      "[info] 98tInE5hiT8: Downloading 1 format(s): 22\n",
      "[download] Destination: Videos/1UGT/98tInE5hiT8-22.mp4\n",
      "[download] 100% of    9.85MiB in 00:00:00 at 26.06MiB/s    \n",
      "[generic] Extracting URL: youtube.com/watch?v=gYzW9-O0FO8\n"
     ]
    },
    {
     "name": "stderr",
     "output_type": "stream",
     "text": [
      "WARNING: [generic] The url doesn't specify the protocol, trying with http\n"
     ]
    },
    {
     "name": "stdout",
     "output_type": "stream",
     "text": [
      "[youtube] Extracting URL: http://youtube.com/watch?v=gYzW9-O0FO8\n",
      "[youtube] gYzW9-O0FO8: Downloading webpage\n",
      "[youtube] gYzW9-O0FO8: Downloading android player API JSON\n",
      "[info] gYzW9-O0FO8: Downloading 1 format(s): 22\n",
      "[download] Destination: Videos/TidningenArbetet/gYzW9-O0FO8-22.mp4\n",
      "[download] 100% of   16.50MiB in 00:00:00 at 25.96MiB/s    \n",
      "[generic] Extracting URL: youtube.com/watch?v=s-EgBmRApik\n"
     ]
    },
    {
     "name": "stderr",
     "output_type": "stream",
     "text": [
      "WARNING: [generic] The url doesn't specify the protocol, trying with http\n"
     ]
    },
    {
     "name": "stdout",
     "output_type": "stream",
     "text": [
      "[youtube] Extracting URL: http://youtube.com/watch?v=s-EgBmRApik\n",
      "[youtube] s-EgBmRApik: Downloading webpage\n",
      "[youtube] s-EgBmRApik: Downloading android player API JSON\n",
      "[info] s-EgBmRApik: Downloading 1 format(s): 22\n",
      "[download] Destination: Videos/norskpsykologforening6994/s-EgBmRApik-22.mp4\n",
      "[download] 100% of   31.69MiB in 00:00:01 at 27.54MiB/s    \n",
      "[generic] Extracting URL: youtube.com/watch?v=ar0iK2KZXhc\n"
     ]
    },
    {
     "name": "stderr",
     "output_type": "stream",
     "text": [
      "WARNING: [generic] The url doesn't specify the protocol, trying with http\n"
     ]
    },
    {
     "name": "stdout",
     "output_type": "stream",
     "text": [
      "[youtube] Extracting URL: http://youtube.com/watch?v=ar0iK2KZXhc\n",
      "[youtube] ar0iK2KZXhc: Downloading webpage\n",
      "[youtube] ar0iK2KZXhc: Downloading android player API JSON\n",
      "[youtube] ar0iK2KZXhc: Downloading MPD manifest\n",
      "[youtube] ar0iK2KZXhc: Downloading MPD manifest\n",
      "[info] ar0iK2KZXhc: Downloading 1 format(s): 18\n",
      "[download] Destination: Videos/ccoocyl/ar0iK2KZXhc-18.mp4\n",
      "[download] 100% of   36.20MiB in 00:00:01 at 22.37MiB/s  \n",
      "[generic] Extracting URL: youtube.com/watch?v=OaAaohBkbfI\n"
     ]
    },
    {
     "name": "stderr",
     "output_type": "stream",
     "text": [
      "WARNING: [generic] The url doesn't specify the protocol, trying with http\n"
     ]
    },
    {
     "name": "stdout",
     "output_type": "stream",
     "text": [
      "[youtube] Extracting URL: http://youtube.com/watch?v=OaAaohBkbfI\n",
      "[youtube] OaAaohBkbfI: Downloading webpage\n",
      "[youtube] OaAaohBkbfI: Downloading android player API JSON\n",
      "[youtube] OaAaohBkbfI: Downloading MPD manifest\n",
      "[youtube] OaAaohBkbfI: Downloading MPD manifest\n",
      "[info] OaAaohBkbfI: Downloading 1 format(s): 22\n",
      "[download] Destination: Videos/comisionesobrerasar/OaAaohBkbfI-22.mp4\n",
      "[download] 100% of   21.90MiB in 00:00:00 at 26.61MiB/s  \n",
      "[generic] Extracting URL: youtube.com/watch?v=FwtCoAEjQ7Q\n"
     ]
    },
    {
     "name": "stderr",
     "output_type": "stream",
     "text": [
      "WARNING: [generic] The url doesn't specify the protocol, trying with http\n"
     ]
    },
    {
     "name": "stdout",
     "output_type": "stream",
     "text": [
      "[youtube] Extracting URL: http://youtube.com/watch?v=FwtCoAEjQ7Q\n",
      "[youtube] FwtCoAEjQ7Q: Downloading webpage\n",
      "[youtube] FwtCoAEjQ7Q: Downloading android player API JSON\n",
      "[youtube] FwtCoAEjQ7Q: Downloading MPD manifest\n",
      "[youtube] FwtCoAEjQ7Q: Downloading MPD manifest\n",
      "[info] FwtCoAEjQ7Q: Downloading 1 format(s): 18\n",
      "[download] Destination: Videos/SacoPlay/FwtCoAEjQ7Q-18.mp4\n",
      "[download] 100% of   11.61MiB in 00:00:00 at 24.40MiB/s    \n",
      "[generic] Extracting URL: youtube.com/watch?v=loMxbEYrK7o\n"
     ]
    },
    {
     "name": "stderr",
     "output_type": "stream",
     "text": [
      "WARNING: [generic] The url doesn't specify the protocol, trying with http\n"
     ]
    },
    {
     "name": "stdout",
     "output_type": "stream",
     "text": [
      "[youtube] Extracting URL: http://youtube.com/watch?v=loMxbEYrK7o\n",
      "[youtube] loMxbEYrK7o: Downloading webpage\n",
      "[youtube] loMxbEYrK7o: Downloading android player API JSON\n",
      "[youtube] loMxbEYrK7o: Downloading MPD manifest\n",
      "[youtube] loMxbEYrK7o: Downloading MPD manifest\n",
      "[info] loMxbEYrK7o: Downloading 1 format(s): 22\n",
      "[download] Destination: Videos/CCOODELHABITAT/loMxbEYrK7o-22.mp4\n",
      "[download] 100% of    9.37MiB in 00:00:00 at 23.86MiB/s  \n",
      "[generic] Extracting URL: youtube.com/watch?v=WB0g0UDZB9k\n"
     ]
    },
    {
     "name": "stderr",
     "output_type": "stream",
     "text": [
      "WARNING: [generic] The url doesn't specify the protocol, trying with http\n"
     ]
    },
    {
     "name": "stdout",
     "output_type": "stream",
     "text": [
      "[youtube] Extracting URL: http://youtube.com/watch?v=WB0g0UDZB9k\n",
      "[youtube] WB0g0UDZB9k: Downloading webpage\n",
      "[youtube] WB0g0UDZB9k: Downloading android player API JSON\n",
      "[youtube] WB0g0UDZB9k: Downloading MPD manifest\n",
      "[youtube] WB0g0UDZB9k: Downloading MPD manifest\n",
      "[info] WB0g0UDZB9k: Downloading 1 format(s): 22\n",
      "[download] Destination: Videos/EconaTV/WB0g0UDZB9k-22.mp4\n",
      "[download] 100% of    6.38MiB in 00:00:00 at 18.97MiB/s  \n",
      "[generic] Extracting URL: youtube.com/watch?v=k-pCf5ajcQw\n"
     ]
    },
    {
     "name": "stderr",
     "output_type": "stream",
     "text": [
      "WARNING: [generic] The url doesn't specify the protocol, trying with http\n"
     ]
    },
    {
     "name": "stdout",
     "output_type": "stream",
     "text": [
      "[youtube] Extracting URL: http://youtube.com/watch?v=k-pCf5ajcQw\n",
      "[youtube] k-pCf5ajcQw: Downloading webpage\n",
      "[youtube] k-pCf5ajcQw: Downloading android player API JSON\n",
      "[youtube] k-pCf5ajcQw: Downloading MPD manifest\n",
      "[youtube] k-pCf5ajcQw: Downloading MPD manifest\n",
      "[info] k-pCf5ajcQw: Downloading 1 format(s): 22\n",
      "[download] Destination: Videos/UGTPV/k-pCf5ajcQw-22.mp4\n",
      "[download] 100% of   27.83MiB in 00:00:01 at 22.69MiB/s    \n",
      "[generic] Extracting URL: youtube.com/watch?v=VOk3laawytI\n"
     ]
    },
    {
     "name": "stderr",
     "output_type": "stream",
     "text": [
      "WARNING: [generic] The url doesn't specify the protocol, trying with http\n"
     ]
    },
    {
     "name": "stdout",
     "output_type": "stream",
     "text": [
      "[youtube] Extracting URL: http://youtube.com/watch?v=VOk3laawytI\n",
      "[youtube] VOk3laawytI: Downloading webpage\n",
      "[youtube] VOk3laawytI: Downloading android player API JSON\n",
      "[youtube] VOk3laawytI: Downloading MPD manifest\n",
      "[youtube] VOk3laawytI: Downloading MPD manifest\n",
      "[info] VOk3laawytI: Downloading 1 format(s): 18\n",
      "[download] Destination: Videos/Uilcanetwork/VOk3laawytI-18.mp4\n",
      "[download] 100% of   12.99MiB in 00:00:02 at 6.02MiB/s   \n",
      "[generic] Extracting URL: youtube.com/watch?v=DCOjtrvbptQ\n"
     ]
    },
    {
     "name": "stderr",
     "output_type": "stream",
     "text": [
      "WARNING: [generic] The url doesn't specify the protocol, trying with http\n"
     ]
    },
    {
     "name": "stdout",
     "output_type": "stream",
     "text": [
      "[youtube] Extracting URL: http://youtube.com/watch?v=DCOjtrvbptQ\n",
      "[youtube] DCOjtrvbptQ: Downloading webpage\n",
      "[youtube] DCOjtrvbptQ: Downloading android player API JSON\n",
      "[youtube] DCOjtrvbptQ: Downloading MPD manifest\n",
      "[youtube] DCOjtrvbptQ: Downloading MPD manifest\n",
      "[info] DCOjtrvbptQ: Downloading 1 format(s): 22\n",
      "[download] Destination: Videos/ccooandalucia/DCOjtrvbptQ-22.mp4\n",
      "[download] 100% of    4.97MiB in 00:00:01 at 3.87MiB/s   \n",
      "[generic] Extracting URL: youtube.com/watch?v=GPcK3oGW9pY\n"
     ]
    },
    {
     "name": "stderr",
     "output_type": "stream",
     "text": [
      "WARNING: [generic] The url doesn't specify the protocol, trying with http\n"
     ]
    },
    {
     "name": "stdout",
     "output_type": "stream",
     "text": [
      "[youtube] Extracting URL: http://youtube.com/watch?v=GPcK3oGW9pY\n",
      "[youtube] GPcK3oGW9pY: Downloading webpage\n",
      "[youtube] GPcK3oGW9pY: Downloading android player API JSON\n",
      "[youtube] GPcK3oGW9pY: Downloading MPD manifest\n",
      "[youtube] GPcK3oGW9pY: Downloading MPD manifest\n",
      "[info] GPcK3oGW9pY: Downloading 1 format(s): 18\n",
      "[download] Destination: Videos/AUGuardiasCiviles/GPcK3oGW9pY-18.mp4\n",
      "[download] 100% of    2.38MiB in 00:00:00 at 2.85MiB/s   \n",
      "[generic] Extracting URL: youtube.com/watch?v=2yDm1XaLk1I\n"
     ]
    },
    {
     "name": "stderr",
     "output_type": "stream",
     "text": [
      "WARNING: [generic] The url doesn't specify the protocol, trying with http\n"
     ]
    },
    {
     "name": "stdout",
     "output_type": "stream",
     "text": [
      "[youtube] Extracting URL: http://youtube.com/watch?v=2yDm1XaLk1I\n",
      "[youtube] 2yDm1XaLk1I: Downloading webpage\n",
      "[youtube] 2yDm1XaLk1I: Downloading android player API JSON\n",
      "[youtube] 2yDm1XaLk1I: Downloading MPD manifest\n",
      "[youtube] 2yDm1XaLk1I: Downloading MPD manifest\n",
      "[info] 2yDm1XaLk1I: Downloading 1 format(s): 22\n",
      "[download] Destination: Videos/SATSESindicato/2yDm1XaLk1I-22.mp4\n",
      "[download] 100% of   27.82MiB in 00:00:02 at 11.90MiB/s  \n",
      "[generic] Extracting URL: youtube.com/watch?v=s3dpuJVHFsA\n"
     ]
    },
    {
     "name": "stderr",
     "output_type": "stream",
     "text": [
      "WARNING: [generic] The url doesn't specify the protocol, trying with http\n"
     ]
    },
    {
     "name": "stdout",
     "output_type": "stream",
     "text": [
      "[youtube] Extracting URL: http://youtube.com/watch?v=s3dpuJVHFsA\n",
      "[youtube] s3dpuJVHFsA: Downloading webpage\n",
      "[youtube] s3dpuJVHFsA: Downloading android player API JSON\n",
      "[youtube] s3dpuJVHFsA: Downloading MPD manifest\n",
      "[youtube] s3dpuJVHFsA: Downloading MPD manifest\n",
      "[info] s3dpuJVHFsA: Downloading 1 format(s): 18\n",
      "[download] Destination: Videos/FitCislNaz/s3dpuJVHFsA-18.mp4\n",
      "[download] 100% of   10.22MiB in 00:00:01 at 5.30MiB/s   \n",
      "[generic] Extracting URL: youtube.com/watch?v=WAJGe9TJ_i8\n"
     ]
    },
    {
     "name": "stderr",
     "output_type": "stream",
     "text": [
      "WARNING: [generic] The url doesn't specify the protocol, trying with http\n"
     ]
    },
    {
     "name": "stdout",
     "output_type": "stream",
     "text": [
      "[youtube] Extracting URL: http://youtube.com/watch?v=WAJGe9TJ_i8\n",
      "[youtube] WAJGe9TJ_i8: Downloading webpage\n",
      "[youtube] WAJGe9TJ_i8: Downloading android player API JSON\n",
      "[youtube] WAJGe9TJ_i8: Downloading MPD manifest\n",
      "[youtube] WAJGe9TJ_i8: Downloading MPD manifest\n",
      "[info] WAJGe9TJ_i8: Downloading 1 format(s): 18\n",
      "[download] Destination: Videos/anpesedenacional7838/WAJGe9TJ_i8-18.mp4\n",
      "[download] 100% of    1.72MiB in 00:00:00 at 3.67MiB/s   \n",
      "[generic] Extracting URL: youtube.com/watch?v=iGFnjlLXnsw\n"
     ]
    },
    {
     "name": "stderr",
     "output_type": "stream",
     "text": [
      "WARNING: [generic] The url doesn't specify the protocol, trying with http\n"
     ]
    },
    {
     "name": "stdout",
     "output_type": "stream",
     "text": [
      "[youtube] Extracting URL: http://youtube.com/watch?v=iGFnjlLXnsw\n",
      "[youtube] iGFnjlLXnsw: Downloading webpage\n",
      "[youtube] iGFnjlLXnsw: Downloading android player API JSON\n",
      "[youtube] iGFnjlLXnsw: Downloading MPD manifest\n",
      "[youtube] iGFnjlLXnsw: Downloading MPD manifest\n",
      "[info] iGFnjlLXnsw: Downloading 1 format(s): 22\n",
      "[download] Destination: Videos/AUGuardiasCiviles/iGFnjlLXnsw-22.mp4\n",
      "[download] 100% of    8.22MiB in 00:00:01 at 6.07MiB/s   \n",
      "[generic] Extracting URL: youtube.com/watch?v=ZdZ6iMb4WYg\n"
     ]
    },
    {
     "name": "stderr",
     "output_type": "stream",
     "text": [
      "WARNING: [generic] The url doesn't specify the protocol, trying with http\n"
     ]
    },
    {
     "name": "stdout",
     "output_type": "stream",
     "text": [
      "[youtube] Extracting URL: http://youtube.com/watch?v=ZdZ6iMb4WYg\n",
      "[youtube] ZdZ6iMb4WYg: Downloading webpage\n",
      "[youtube] ZdZ6iMb4WYg: Downloading android player API JSON\n",
      "[youtube] ZdZ6iMb4WYg: Downloading MPD manifest\n",
      "[youtube] ZdZ6iMb4WYg: Downloading MPD manifest\n",
      "[info] ZdZ6iMb4WYg: Downloading 1 format(s): 18\n",
      "[download] Destination: Videos/Industrifacketmetall/ZdZ6iMb4WYg-18.mp4\n",
      "[download] 100% of    7.00MiB in 00:00:01 at 4.79MiB/s   \n"
     ]
    }
   ],
   "source": [
    "for idx in range(0,df.shape[0]):\n",
    "\n",
    "    # Access the video url from data frame\n",
    "    video_url = df['url'].iloc[idx]\n",
    "    channel_name = df['channel'].iloc[idx].replace(\" \", \"_\")\n",
    "    len = df['length'].iloc[idx]\n",
    "\n",
    "    # Create a folder for that channel\n",
    "    channel_folder = 'Videos/' + channel_name + '/'\n",
    "    \n",
    "    # Create a new folder for the channel\n",
    "    if not os.path.exists(channel_folder):\n",
    "        create_folder(channel_folder)\n",
    "\n",
    "    ydl_opts = {'outtmpl': channel_folder + '%(id)s-%(format_id)s.%(ext)s','format': 'mp4',\n",
    "                'concurrent-fragments':8}\n",
    "    \n",
    "    if len <= 600:\n",
    "        try:\n",
    "            with YoutubeDL(ydl_opts) as ydl:\n",
    "                ydl.download([video_url]) # Downloads the best format by default \n",
    "        except:\n",
    "            logging.info(f'Error when downloading video {video_url} in channel {channel_name}.')\n",
    "    else:\n",
    "            logging.info(f'The video {video_url} in channel {channel_name} exceeded the time constrain. Length {len} seconds.')\n",
    "       "
   ]
  },
  {
   "cell_type": "code",
   "execution_count": null,
   "metadata": {},
   "outputs": [],
   "source": [
    "video_download(df, 'Videos/') "
   ]
  },
  {
   "cell_type": "code",
   "execution_count": 13,
   "metadata": {},
   "outputs": [
    {
     "name": "stdout",
     "output_type": "stream",
     "text": [
      "[youtube] Extracting URL: https://www.youtube.com/watch?v=L1JKqZacq9Y\n",
      "[youtube] L1JKqZacq9Y: Downloading webpage\n",
      "[youtube] L1JKqZacq9Y: Downloading android player API JSON\n",
      "[youtube] L1JKqZacq9Y: Downloading MPD manifest\n",
      "[youtube] L1JKqZacq9Y: Downloading MPD manifest\n",
      "[info] L1JKqZacq9Y: Downloading 1 format(s): 22\n",
      "[download] Destination: Videos/L1JKqZacq9Y-22.mp4\n",
      "[download] 100% of  124.27MiB in 00:00:02 at 44.36MiB/s    \n"
     ]
    }
   ],
   "source": [
    "url = 'https://www.youtube.com/watch?v=L1JKqZacq9Y'\n",
    "ydl_opts = {'outtmpl': 'Videos/' + '%(id)s-%(format_id)s.%(ext)s','format': 'mp4/bestvideo[ext=mp4]',\n",
    "'concurrent-fragments':8}\n",
    "with YoutubeDL(ydl_opts) as ydl:\n",
    "    ydl.download([url]) # Downloads the best format by default \n"
   ]
  },
  {
   "attachments": {},
   "cell_type": "markdown",
   "metadata": {},
   "source": [
    "### Parquet files"
   ]
  },
  {
   "cell_type": "code",
   "execution_count": 4,
   "metadata": {},
   "outputs": [],
   "source": [
    "videos_mtdta = pd.read_parquet('../Data_collection/data/videos_metadata.parquet')"
   ]
  },
  {
   "cell_type": "code",
   "execution_count": null,
   "metadata": {},
   "outputs": [],
   "source": []
  },
  {
   "cell_type": "code",
   "execution_count": 5,
   "metadata": {},
   "outputs": [
    {
     "data": {
      "text/html": [
       "<div>\n",
       "<style scoped>\n",
       "    .dataframe tbody tr th:only-of-type {\n",
       "        vertical-align: middle;\n",
       "    }\n",
       "\n",
       "    .dataframe tbody tr th {\n",
       "        vertical-align: top;\n",
       "    }\n",
       "\n",
       "    .dataframe thead th {\n",
       "        text-align: right;\n",
       "    }\n",
       "</style>\n",
       "<table border=\"1\" class=\"dataframe\">\n",
       "  <thead>\n",
       "    <tr style=\"text-align: right;\">\n",
       "      <th></th>\n",
       "      <th>title</th>\n",
       "      <th>id</th>\n",
       "      <th>length</th>\n",
       "      <th>views</th>\n",
       "      <th>description</th>\n",
       "      <th>keywords</th>\n",
       "      <th>age_restricted</th>\n",
       "      <th>author</th>\n",
       "      <th>pub_date</th>\n",
       "      <th>raiting</th>\n",
       "      <th>channel</th>\n",
       "      <th>url</th>\n",
       "    </tr>\n",
       "  </thead>\n",
       "  <tbody>\n",
       "    <tr>\n",
       "      <th>0</th>\n",
       "      <td>Drones en la agricultura: sensores voladores p...</td>\n",
       "      <td>grTRnHWDFeU</td>\n",
       "      <td>88</td>\n",
       "      <td>108</td>\n",
       "      <td>Los drones son sensores remotos muy útiles en ...</td>\n",
       "      <td>b'[]'</td>\n",
       "      <td>False</td>\n",
       "      <td>UPA - Unión de Pequeños Agricultores y Ganaderos</td>\n",
       "      <td>2022-10-24</td>\n",
       "      <td>None</td>\n",
       "      <td>UPA_Federal</td>\n",
       "      <td>youtube.com/watch?v=grTRnHWDFeU</td>\n",
       "    </tr>\n",
       "    <tr>\n",
       "      <th>1</th>\n",
       "      <td>Conocemos cómo funciona una miniturbina que pr...</td>\n",
       "      <td>cyhdsw2kkiA</td>\n",
       "      <td>176</td>\n",
       "      <td>133</td>\n",
       "      <td>Gracias al programa de formación en digitaliza...</td>\n",
       "      <td>b'[]'</td>\n",
       "      <td>False</td>\n",
       "      <td>UPA - Unión de Pequeños Agricultores y Ganaderos</td>\n",
       "      <td>2022-10-24</td>\n",
       "      <td>None</td>\n",
       "      <td>UPA_Federal</td>\n",
       "      <td>youtube.com/watch?v=cyhdsw2kkiA</td>\n",
       "    </tr>\n",
       "    <tr>\n",
       "      <th>2</th>\n",
       "      <td>Analizamos un pivot de riego inteligente que o...</td>\n",
       "      <td>Gfe2IIHOe3g</td>\n",
       "      <td>148</td>\n",
       "      <td>130</td>\n",
       "      <td>Sensores de humedad, cámaras que analizan el e...</td>\n",
       "      <td>b'[]'</td>\n",
       "      <td>False</td>\n",
       "      <td>UPA - Unión de Pequeños Agricultores y Ganaderos</td>\n",
       "      <td>2022-10-24</td>\n",
       "      <td>None</td>\n",
       "      <td>UPA_Federal</td>\n",
       "      <td>youtube.com/watch?v=Gfe2IIHOe3g</td>\n",
       "    </tr>\n",
       "    <tr>\n",
       "      <th>3</th>\n",
       "      <td>Conocemos en Córdoba las últimas tecnologías d...</td>\n",
       "      <td>hOR8S5ZnhTM</td>\n",
       "      <td>370</td>\n",
       "      <td>177</td>\n",
       "      <td>Desde seleccionadores automáticos para aceitun...</td>\n",
       "      <td>b'[]'</td>\n",
       "      <td>False</td>\n",
       "      <td>UPA - Unión de Pequeños Agricultores y Ganaderos</td>\n",
       "      <td>2022-10-24</td>\n",
       "      <td>None</td>\n",
       "      <td>UPA_Federal</td>\n",
       "      <td>youtube.com/watch?v=hOR8S5ZnhTM</td>\n",
       "    </tr>\n",
       "    <tr>\n",
       "      <th>4</th>\n",
       "      <td>Así funciona CalculaPAC: la herramienta de UPA...</td>\n",
       "      <td>gAnD56tcIOQ</td>\n",
       "      <td>2134</td>\n",
       "      <td>13159</td>\n",
       "      <td>CalculaPAC 2023 es una aplicación a modo de he...</td>\n",
       "      <td>b'[]'</td>\n",
       "      <td>False</td>\n",
       "      <td>UPA - Unión de Pequeños Agricultores y Ganaderos</td>\n",
       "      <td>2022-10-07</td>\n",
       "      <td>None</td>\n",
       "      <td>UPA_Federal</td>\n",
       "      <td>youtube.com/watch?v=gAnD56tcIOQ</td>\n",
       "    </tr>\n",
       "    <tr>\n",
       "      <th>...</th>\n",
       "      <td>...</td>\n",
       "      <td>...</td>\n",
       "      <td>...</td>\n",
       "      <td>...</td>\n",
       "      <td>...</td>\n",
       "      <td>...</td>\n",
       "      <td>...</td>\n",
       "      <td>...</td>\n",
       "      <td>...</td>\n",
       "      <td>...</td>\n",
       "      <td>...</td>\n",
       "      <td>...</td>\n",
       "    </tr>\n",
       "    <tr>\n",
       "      <th>45566</th>\n",
       "      <td>Tema Vårdförbundet  från Vårdförbundets Kongre...</td>\n",
       "      <td>aR-IItCgDlE</td>\n",
       "      <td>166</td>\n",
       "      <td>120</td>\n",
       "      <td>Introduktionsfilm till tema Vårdförbundet. Med...</td>\n",
       "      <td>b'[\"V\\\\u00e5rdf\\\\u00f6rbundet\", \"tema\", \"facke...</td>\n",
       "      <td>False</td>\n",
       "      <td>Vårdförbundet</td>\n",
       "      <td>2010-04-27</td>\n",
       "      <td>None</td>\n",
       "      <td>vardforbundet</td>\n",
       "      <td>youtube.com/watch?v=aR-IItCgDlE</td>\n",
       "    </tr>\n",
       "    <tr>\n",
       "      <th>45567</th>\n",
       "      <td>Tema Arbetstid från Vårdförbundets Kongress 2008</td>\n",
       "      <td>xM4XS1nxn7E</td>\n",
       "      <td>256</td>\n",
       "      <td>209</td>\n",
       "      <td>Introduktionsfilm till tema arbetstid. \\nMedve...</td>\n",
       "      <td>b'[\"biomedicinsk analytiker\", \"r\\\\u00f6ntgensj...</td>\n",
       "      <td>False</td>\n",
       "      <td>Vårdförbundet</td>\n",
       "      <td>2010-04-27</td>\n",
       "      <td>None</td>\n",
       "      <td>vardforbundet</td>\n",
       "      <td>youtube.com/watch?v=xM4XS1nxn7E</td>\n",
       "    </tr>\n",
       "    <tr>\n",
       "      <th>45568</th>\n",
       "      <td>Tema Lön från Vårdförbundets Kongress 2008</td>\n",
       "      <td>IrYtugEYc3A</td>\n",
       "      <td>45</td>\n",
       "      <td>74</td>\n",
       "      <td>Introduktionsfilm till tema lön. \\r\\nMedverkan...</td>\n",
       "      <td>b'[\"biomedicinsk analytiker\", \"r\\\\u00f6ntgensj...</td>\n",
       "      <td>False</td>\n",
       "      <td>Vårdförbundet</td>\n",
       "      <td>2010-04-27</td>\n",
       "      <td>None</td>\n",
       "      <td>vardforbundet</td>\n",
       "      <td>youtube.com/watch?v=IrYtugEYc3A</td>\n",
       "    </tr>\n",
       "    <tr>\n",
       "      <th>45569</th>\n",
       "      <td>Tema Etik &amp; Bemötande från Vårdförbundets Kong...</td>\n",
       "      <td>iSJRdOy1yKc</td>\n",
       "      <td>267</td>\n",
       "      <td>3017</td>\n",
       "      <td>Introduktionsfilm till tema etik &amp; bemötande. ...</td>\n",
       "      <td>b'[\"biomedicinsk analytiker\", \"r\\\\u00f6ntgensj...</td>\n",
       "      <td>False</td>\n",
       "      <td>Vårdförbundet</td>\n",
       "      <td>2010-04-27</td>\n",
       "      <td>None</td>\n",
       "      <td>vardforbundet</td>\n",
       "      <td>youtube.com/watch?v=iSJRdOy1yKc</td>\n",
       "    </tr>\n",
       "    <tr>\n",
       "      <th>45570</th>\n",
       "      <td>Vårdförbundets Vision 2018 för hälsa och helhet</td>\n",
       "      <td>CJtCrq6Gyvk</td>\n",
       "      <td>175</td>\n",
       "      <td>2902</td>\n",
       "      <td>Bildspel som illustrerar Vårdförbundets vision...</td>\n",
       "      <td>b'[\"v\\\\u00e5rdf\\\\u00f6rbundet\", \"bildspel\", \"v...</td>\n",
       "      <td>False</td>\n",
       "      <td>Vårdförbundet</td>\n",
       "      <td>2010-03-23</td>\n",
       "      <td>None</td>\n",
       "      <td>vardforbundet</td>\n",
       "      <td>youtube.com/watch?v=CJtCrq6Gyvk</td>\n",
       "    </tr>\n",
       "  </tbody>\n",
       "</table>\n",
       "<p>45571 rows × 12 columns</p>\n",
       "</div>"
      ],
      "text/plain": [
       "                                                   title           id  length  \\\n",
       "0      Drones en la agricultura: sensores voladores p...  grTRnHWDFeU      88   \n",
       "1      Conocemos cómo funciona una miniturbina que pr...  cyhdsw2kkiA     176   \n",
       "2      Analizamos un pivot de riego inteligente que o...  Gfe2IIHOe3g     148   \n",
       "3      Conocemos en Córdoba las últimas tecnologías d...  hOR8S5ZnhTM     370   \n",
       "4      Así funciona CalculaPAC: la herramienta de UPA...  gAnD56tcIOQ    2134   \n",
       "...                                                  ...          ...     ...   \n",
       "45566  Tema Vårdförbundet  från Vårdförbundets Kongre...  aR-IItCgDlE     166   \n",
       "45567   Tema Arbetstid från Vårdförbundets Kongress 2008  xM4XS1nxn7E     256   \n",
       "45568         Tema Lön från Vårdförbundets Kongress 2008  IrYtugEYc3A      45   \n",
       "45569  Tema Etik & Bemötande från Vårdförbundets Kong...  iSJRdOy1yKc     267   \n",
       "45570    Vårdförbundets Vision 2018 för hälsa och helhet  CJtCrq6Gyvk     175   \n",
       "\n",
       "       views                                        description  \\\n",
       "0        108  Los drones son sensores remotos muy útiles en ...   \n",
       "1        133  Gracias al programa de formación en digitaliza...   \n",
       "2        130  Sensores de humedad, cámaras que analizan el e...   \n",
       "3        177  Desde seleccionadores automáticos para aceitun...   \n",
       "4      13159  CalculaPAC 2023 es una aplicación a modo de he...   \n",
       "...      ...                                                ...   \n",
       "45566    120  Introduktionsfilm till tema Vårdförbundet. Med...   \n",
       "45567    209  Introduktionsfilm till tema arbetstid. \\nMedve...   \n",
       "45568     74  Introduktionsfilm till tema lön. \\r\\nMedverkan...   \n",
       "45569   3017  Introduktionsfilm till tema etik & bemötande. ...   \n",
       "45570   2902  Bildspel som illustrerar Vårdförbundets vision...   \n",
       "\n",
       "                                                keywords  age_restricted  \\\n",
       "0                                                  b'[]'           False   \n",
       "1                                                  b'[]'           False   \n",
       "2                                                  b'[]'           False   \n",
       "3                                                  b'[]'           False   \n",
       "4                                                  b'[]'           False   \n",
       "...                                                  ...             ...   \n",
       "45566  b'[\"V\\\\u00e5rdf\\\\u00f6rbundet\", \"tema\", \"facke...           False   \n",
       "45567  b'[\"biomedicinsk analytiker\", \"r\\\\u00f6ntgensj...           False   \n",
       "45568  b'[\"biomedicinsk analytiker\", \"r\\\\u00f6ntgensj...           False   \n",
       "45569  b'[\"biomedicinsk analytiker\", \"r\\\\u00f6ntgensj...           False   \n",
       "45570  b'[\"v\\\\u00e5rdf\\\\u00f6rbundet\", \"bildspel\", \"v...           False   \n",
       "\n",
       "                                                 author   pub_date raiting  \\\n",
       "0      UPA - Unión de Pequeños Agricultores y Ganaderos 2022-10-24    None   \n",
       "1      UPA - Unión de Pequeños Agricultores y Ganaderos 2022-10-24    None   \n",
       "2      UPA - Unión de Pequeños Agricultores y Ganaderos 2022-10-24    None   \n",
       "3      UPA - Unión de Pequeños Agricultores y Ganaderos 2022-10-24    None   \n",
       "4      UPA - Unión de Pequeños Agricultores y Ganaderos 2022-10-07    None   \n",
       "...                                                 ...        ...     ...   \n",
       "45566                                     Vårdförbundet 2010-04-27    None   \n",
       "45567                                     Vårdförbundet 2010-04-27    None   \n",
       "45568                                     Vårdförbundet 2010-04-27    None   \n",
       "45569                                     Vårdförbundet 2010-04-27    None   \n",
       "45570                                     Vårdförbundet 2010-03-23    None   \n",
       "\n",
       "             channel                              url  \n",
       "0        UPA_Federal  youtube.com/watch?v=grTRnHWDFeU  \n",
       "1        UPA_Federal  youtube.com/watch?v=cyhdsw2kkiA  \n",
       "2        UPA_Federal  youtube.com/watch?v=Gfe2IIHOe3g  \n",
       "3        UPA_Federal  youtube.com/watch?v=hOR8S5ZnhTM  \n",
       "4        UPA_Federal  youtube.com/watch?v=gAnD56tcIOQ  \n",
       "...              ...                              ...  \n",
       "45566  vardforbundet  youtube.com/watch?v=aR-IItCgDlE  \n",
       "45567  vardforbundet  youtube.com/watch?v=xM4XS1nxn7E  \n",
       "45568  vardforbundet  youtube.com/watch?v=IrYtugEYc3A  \n",
       "45569  vardforbundet  youtube.com/watch?v=iSJRdOy1yKc  \n",
       "45570  vardforbundet  youtube.com/watch?v=CJtCrq6Gyvk  \n",
       "\n",
       "[45571 rows x 12 columns]"
      ]
     },
     "execution_count": 5,
     "metadata": {},
     "output_type": "execute_result"
    }
   ],
   "source": [
    "videos_mtdta"
   ]
  },
  {
   "cell_type": "code",
   "execution_count": null,
   "metadata": {},
   "outputs": [],
   "source": []
  }
 ],
 "metadata": {
  "kernelspec": {
   "display_name": "tensorflow_m1",
   "language": "python",
   "name": "python3"
  },
  "language_info": {
   "codemirror_mode": {
    "name": "ipython",
    "version": 3
   },
   "file_extension": ".py",
   "mimetype": "text/x-python",
   "name": "python",
   "nbconvert_exporter": "python",
   "pygments_lexer": "ipython3",
   "version": "3.9.13"
  },
  "orig_nbformat": 4,
  "vscode": {
   "interpreter": {
    "hash": "e8fd7f81d704f7e8486f20ea3bbff14b5db78c7b6c53c5bab1d61bc90f011f82"
   }
  }
 },
 "nbformat": 4,
 "nbformat_minor": 2
}
