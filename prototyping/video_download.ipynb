{
 "cells": [
  {
   "cell_type": "code",
   "execution_count": 2,
   "metadata": {},
   "outputs": [],
   "source": [
    "from pytube import YouTube\n",
    "from pytube import Channel\n",
    "import pandas as pd\n",
    "import youtube_dl\n",
    "import os\n",
    "from pytube import extract\n",
    "from yt_dlp import YoutubeDL\n"
   ]
  },
  {
   "cell_type": "code",
   "execution_count": 4,
   "metadata": {},
   "outputs": [],
   "source": [
    "file_test = '../Data_collection/data/videos_metadata.csv'\n",
    "df = pd.read_csv(file_test,lineterminator='\\n')\n",
    "df = df.sample(n=5, random_state=495)"
   ]
  },
  {
   "cell_type": "code",
   "execution_count": 5,
   "metadata": {},
   "outputs": [
    {
     "data": {
      "text/plain": [
       "(5, 12)"
      ]
     },
     "execution_count": 5,
     "metadata": {},
     "output_type": "execute_result"
    }
   ],
   "source": [
    "df.shape"
   ]
  },
  {
   "cell_type": "code",
   "execution_count": 8,
   "metadata": {},
   "outputs": [],
   "source": [
    "import logging\n",
    "from http.client import IncompleteRead\n",
    "from youtube_dl.utils import ExtractorError \n",
    "\n",
    "logging.basicConfig(level=logging.DEBUG, filename='video_download.log', \n",
    "                    format='%(asctime)s : %(levelname)s : %(message)s',\n",
    "                    datefmt='%d-%b-%y %H:%M:%S')\n",
    "\n",
    "def create_folder(folder):\n",
    "    try: # if it is possible to create the folder\n",
    "        os.mkdir(folder)\n",
    "    except: # if the folder was not created successfuly, raise a warning\n",
    "        logging.info('There is an error with the folder')\n",
    "\n",
    "def video_download(url:str, target_path:str):\n",
    "    ydl_opts = {'outtmpl': 'Videos/' + '%(id)s-%(format_id)s.%(ext)s','format': 'mp4',\n",
    "    'concurrent-fragments':8}\n",
    "    with YoutubeDL(ydl_opts) as ydl:\n",
    "        ydl.download([str(url)]) # Downloads the best format by default \n",
    "\n",
    "\n",
    "def video_download(df, root_folder:str): \n",
    "    # df: metadata. df must contain a column called url where the urls to the videos are stored\n",
    "    # root_folder: folder where videos are stored\n",
    "\n",
    "    for idx in range(0,df.shape[0]):\n",
    "\n",
    "        # Access the video url from data frame\n",
    "        video_url = 'https://www.' + df['url'].iloc[idx]\n",
    "        channel_name = df['channel'].iloc[idx].replace(\" \", \"_\")\n",
    "        len = df['length'].iloc[idx]\n",
    "\n",
    "        # Create a folder for that channel\n",
    "        channel_folder = 'Videos/' + channel_name + '/'\n",
    "        \n",
    "        # Create a new folder for the channel\n",
    "        if not os.path.exists(channel_folder):\n",
    "            create_folder(channel_folder)\n",
    "\n",
    "        ydl_opts = {'outtmpl': channel_folder + '%(id)s-%(format_id)s.%(ext)s',\n",
    "                    'format': 'mp4',\n",
    "                    'concurrent-fragments':8}\n",
    "        #'format': 'bestvideo[ext=mp4]',\n",
    "        if len <= 600:\n",
    "            try:\n",
    "                with YoutubeDL(ydl_opts) as ydl:\n",
    "                    ydl.download([video_url]) # Downloads the best format by default \n",
    "            except:\n",
    "                logging.info(f'Error when downloading video {video_url}')\n",
    "        else:\n",
    "            logging.info(f'The video {video_url} exceeded the time constrain. Length {len} seconds.')\n",
    "    \n"
   ]
  },
  {
   "cell_type": "code",
   "execution_count": 9,
   "metadata": {},
   "outputs": [
    {
     "name": "stdout",
     "output_type": "stream",
     "text": [
      "[youtube] Extracting URL: https://www.youtube.com/watch?v=v9yxfkxq94I\n",
      "[youtube] v9yxfkxq94I: Downloading webpage\n",
      "[youtube] v9yxfkxq94I: Downloading android player API JSON\n",
      "[youtube] v9yxfkxq94I: Downloading MPD manifest\n",
      "[youtube] v9yxfkxq94I: Downloading MPD manifest\n",
      "[info] v9yxfkxq94I: Downloading 1 format(s): 18\n",
      "[download] Destination: Videos/CCOOMadrid/v9yxfkxq94I-18.mp4\n",
      "[download] 100% of    5.13MiB in 00:00:00 at 19.50MiB/s  \n",
      "[youtube] Extracting URL: https://www.youtube.com/watch?v=L1JKqZacq9Y\n",
      "[youtube] L1JKqZacq9Y: Downloading webpage\n",
      "[youtube] L1JKqZacq9Y: Downloading android player API JSON\n",
      "[youtube] L1JKqZacq9Y: Downloading MPD manifest\n",
      "[youtube] L1JKqZacq9Y: Downloading MPD manifest\n",
      "[info] L1JKqZacq9Y: Downloading 1 format(s): 22\n",
      "[download] Destination: Videos/FILCTEMCGIL/L1JKqZacq9Y-22.mp4\n",
      "[download] 100% of  124.27MiB in 00:00:03 at 31.42MiB/s    \n",
      "[youtube] Extracting URL: https://www.youtube.com/watch?v=nwKMWIwokGY\n",
      "[youtube] nwKMWIwokGY: Downloading webpage\n",
      "[youtube] nwKMWIwokGY: Downloading android player API JSON\n",
      "[youtube] nwKMWIwokGY: Downloading MPD manifest\n",
      "[youtube] nwKMWIwokGY: Downloading MPD manifest\n",
      "[info] nwKMWIwokGY: Downloading 1 format(s): 22\n",
      "[download] Destination: Videos/Legeforeningen/nwKMWIwokGY-22.mp4\n",
      "[download] 100% of   22.14MiB in 00:00:00 at 42.48MiB/s  \n",
      "[youtube] Extracting URL: https://www.youtube.com/watch?v=98tInE5hiT8\n",
      "[youtube] 98tInE5hiT8: Downloading webpage\n",
      "[youtube] 98tInE5hiT8: Downloading android player API JSON\n",
      "[youtube] 98tInE5hiT8: Downloading MPD manifest\n",
      "[youtube] 98tInE5hiT8: Downloading MPD manifest\n",
      "[info] 98tInE5hiT8: Downloading 1 format(s): 22\n",
      "[download] Destination: Videos/1UGT/98tInE5hiT8-22.mp4\n",
      "[download] 100% of    9.85MiB in 00:00:00 at 44.44MiB/s    \n",
      "[youtube] Extracting URL: https://www.youtube.com/watch?v=gYzW9-O0FO8\n",
      "[youtube] gYzW9-O0FO8: Downloading webpage\n",
      "[youtube] gYzW9-O0FO8: Downloading android player API JSON\n",
      "[info] gYzW9-O0FO8: Downloading 1 format(s): 22\n",
      "[download] Destination: Videos/TidningenArbetet/gYzW9-O0FO8-22.mp4\n",
      "[download] 100% of   16.50MiB in 00:00:00 at 35.01MiB/s    \n"
     ]
    }
   ],
   "source": [
    "video_download(df, 'Videos/') "
   ]
  },
  {
   "cell_type": "code",
   "execution_count": 7,
   "metadata": {},
   "outputs": [
    {
     "name": "stdout",
     "output_type": "stream",
     "text": [
      "[youtube] Extracting URL: https://www.youtube.com/watch?v=v9yxfkxq94I\n",
      "[youtube] v9yxfkxq94I: Downloading webpage\n",
      "[youtube] v9yxfkxq94I: Downloading android player API JSON\n",
      "[youtube] v9yxfkxq94I: Downloading MPD manifest\n",
      "[youtube] v9yxfkxq94I: Downloading MPD manifest\n",
      "[info] v9yxfkxq94I: Downloading 1 format(s): 135\n",
      "[dashsegments] Total fragments: 14\n",
      "[download] Destination: Videos/CCOOMadrid/v9yxfkxq94I-135.mp4\n",
      "[download] 100% of   10.42MiB in 00:00:04 at 2.20MiB/s                 \n",
      "[youtube] Extracting URL: https://www.youtube.com/watch?v=L1JKqZacq9Y\n",
      "[youtube] L1JKqZacq9Y: Downloading webpage\n",
      "[youtube] L1JKqZacq9Y: Downloading android player API JSON\n",
      "[youtube] L1JKqZacq9Y: Downloading MPD manifest\n",
      "[youtube] L1JKqZacq9Y: Downloading MPD manifest\n",
      "[info] L1JKqZacq9Y: Downloading 1 format(s): 136\n",
      "[dashsegments] Total fragments: 99\n",
      "[download] Destination: Videos/FILCTEMCGIL/L1JKqZacq9Y-136.mp4\n",
      "[download] 100% of   98.54MiB in 00:01:25 at 1.15MiB/s                 \n",
      "[youtube] Extracting URL: https://www.youtube.com/watch?v=nwKMWIwokGY\n",
      "[youtube] nwKMWIwokGY: Downloading webpage\n",
      "[youtube] nwKMWIwokGY: Downloading android player API JSON\n",
      "[youtube] nwKMWIwokGY: Downloading MPD manifest\n",
      "[youtube] nwKMWIwokGY: Downloading MPD manifest\n",
      "[info] nwKMWIwokGY: Downloading 1 format(s): 299\n",
      "[download] Destination: Videos/Legeforeningen/nwKMWIwokGY-299.mp4\n",
      "[download] 100% of   46.19MiB in 00:00:02 at 17.97MiB/s    \n",
      "[youtube] Extracting URL: https://www.youtube.com/watch?v=98tInE5hiT8\n",
      "[youtube] 98tInE5hiT8: Downloading webpage\n",
      "[youtube] 98tInE5hiT8: Downloading android player API JSON\n",
      "[youtube] 98tInE5hiT8: Downloading MPD manifest\n",
      "[youtube] 98tInE5hiT8: Downloading MPD manifest\n",
      "[info] 98tInE5hiT8: Downloading 1 format(s): 137\n",
      "[download] Destination: Videos/1UGT/98tInE5hiT8-137.mp4\n",
      "[download] 100% of   13.94MiB in 00:00:01 at 9.20MiB/s     \n",
      "[youtube] Extracting URL: https://www.youtube.com/watch?v=gYzW9-O0FO8\n",
      "[youtube] gYzW9-O0FO8: Downloading webpage\n",
      "[youtube] gYzW9-O0FO8: Downloading android player API JSON\n",
      "[info] gYzW9-O0FO8: Downloading 1 format(s): 136\n",
      "[download] Destination: Videos/TidningenArbetet/gYzW9-O0FO8-136.mp4\n",
      "[download] 100% of   15.34MiB in 00:00:01 at 11.65MiB/s  \n"
     ]
    }
   ],
   "source": [
    "video_download(df, 'Videos/') "
   ]
  },
  {
   "cell_type": "code",
   "execution_count": 12,
   "metadata": {},
   "outputs": [
    {
     "name": "stdout",
     "output_type": "stream",
     "text": [
      "[generic] Extracting URL: youtube.com/watch?v=v9yxfkxq94I\n"
     ]
    },
    {
     "name": "stderr",
     "output_type": "stream",
     "text": [
      "WARNING: [generic] The url doesn't specify the protocol, trying with http\n"
     ]
    },
    {
     "name": "stdout",
     "output_type": "stream",
     "text": [
      "[youtube] Extracting URL: http://youtube.com/watch?v=v9yxfkxq94I\n",
      "[youtube] v9yxfkxq94I: Downloading webpage\n",
      "[youtube] v9yxfkxq94I: Downloading android player API JSON\n",
      "[youtube] v9yxfkxq94I: Downloading MPD manifest\n",
      "[youtube] v9yxfkxq94I: Downloading MPD manifest\n",
      "[info] v9yxfkxq94I: Downloading 1 format(s): 18\n",
      "[download] Destination: Videos/CCOOMadrid/v9yxfkxq94I-18.mp4\n",
      "[download] 100% of    5.13MiB in 00:00:00 at 14.96MiB/s    \n",
      "[generic] Extracting URL: youtube.com/watch?v=L1JKqZacq9Y\n"
     ]
    },
    {
     "name": "stderr",
     "output_type": "stream",
     "text": [
      "WARNING: [generic] The url doesn't specify the protocol, trying with http\n"
     ]
    },
    {
     "name": "stdout",
     "output_type": "stream",
     "text": [
      "[youtube] Extracting URL: http://youtube.com/watch?v=L1JKqZacq9Y\n",
      "[youtube] L1JKqZacq9Y: Downloading webpage\n",
      "[youtube] L1JKqZacq9Y: Downloading android player API JSON\n",
      "[youtube] L1JKqZacq9Y: Downloading MPD manifest\n",
      "[youtube] L1JKqZacq9Y: Downloading MPD manifest\n",
      "[info] L1JKqZacq9Y: Downloading 1 format(s): 22\n",
      "[download] Destination: Videos/FILCTEMCGIL/L1JKqZacq9Y-22.mp4\n",
      "[download] 100% of  124.27MiB in 00:00:04 at 27.76MiB/s  \n",
      "[generic] Extracting URL: youtube.com/watch?v=nwKMWIwokGY\n"
     ]
    },
    {
     "name": "stderr",
     "output_type": "stream",
     "text": [
      "WARNING: [generic] The url doesn't specify the protocol, trying with http\n"
     ]
    },
    {
     "name": "stdout",
     "output_type": "stream",
     "text": [
      "[youtube] Extracting URL: http://youtube.com/watch?v=nwKMWIwokGY\n",
      "[youtube] nwKMWIwokGY: Downloading webpage\n",
      "[youtube] nwKMWIwokGY: Downloading android player API JSON\n",
      "[youtube] nwKMWIwokGY: Downloading MPD manifest\n",
      "[youtube] nwKMWIwokGY: Downloading MPD manifest\n",
      "[info] nwKMWIwokGY: Downloading 1 format(s): 22\n",
      "[download] Destination: Videos/Legeforeningen/nwKMWIwokGY-22.mp4\n",
      "[download] 100% of   22.14MiB in 00:00:00 at 25.47MiB/s    \n",
      "[generic] Extracting URL: youtube.com/watch?v=98tInE5hiT8\n"
     ]
    },
    {
     "name": "stderr",
     "output_type": "stream",
     "text": [
      "WARNING: [generic] The url doesn't specify the protocol, trying with http\n"
     ]
    },
    {
     "name": "stdout",
     "output_type": "stream",
     "text": [
      "[youtube] Extracting URL: http://youtube.com/watch?v=98tInE5hiT8\n",
      "[youtube] 98tInE5hiT8: Downloading webpage\n",
      "[youtube] 98tInE5hiT8: Downloading android player API JSON\n",
      "[youtube] 98tInE5hiT8: Downloading MPD manifest\n",
      "[youtube] 98tInE5hiT8: Downloading MPD manifest\n",
      "[info] 98tInE5hiT8: Downloading 1 format(s): 22\n",
      "[download] Destination: Videos/1UGT/98tInE5hiT8-22.mp4\n",
      "[download] 100% of    9.85MiB in 00:00:00 at 26.06MiB/s    \n",
      "[generic] Extracting URL: youtube.com/watch?v=gYzW9-O0FO8\n"
     ]
    },
    {
     "name": "stderr",
     "output_type": "stream",
     "text": [
      "WARNING: [generic] The url doesn't specify the protocol, trying with http\n"
     ]
    },
    {
     "name": "stdout",
     "output_type": "stream",
     "text": [
      "[youtube] Extracting URL: http://youtube.com/watch?v=gYzW9-O0FO8\n",
      "[youtube] gYzW9-O0FO8: Downloading webpage\n",
      "[youtube] gYzW9-O0FO8: Downloading android player API JSON\n",
      "[info] gYzW9-O0FO8: Downloading 1 format(s): 22\n",
      "[download] Destination: Videos/TidningenArbetet/gYzW9-O0FO8-22.mp4\n",
      "[download] 100% of   16.50MiB in 00:00:00 at 25.96MiB/s    \n",
      "[generic] Extracting URL: youtube.com/watch?v=s-EgBmRApik\n"
     ]
    },
    {
     "name": "stderr",
     "output_type": "stream",
     "text": [
      "WARNING: [generic] The url doesn't specify the protocol, trying with http\n"
     ]
    },
    {
     "name": "stdout",
     "output_type": "stream",
     "text": [
      "[youtube] Extracting URL: http://youtube.com/watch?v=s-EgBmRApik\n",
      "[youtube] s-EgBmRApik: Downloading webpage\n",
      "[youtube] s-EgBmRApik: Downloading android player API JSON\n",
      "[info] s-EgBmRApik: Downloading 1 format(s): 22\n",
      "[download] Destination: Videos/norskpsykologforening6994/s-EgBmRApik-22.mp4\n",
      "[download] 100% of   31.69MiB in 00:00:01 at 27.54MiB/s    \n",
      "[generic] Extracting URL: youtube.com/watch?v=ar0iK2KZXhc\n"
     ]
    },
    {
     "name": "stderr",
     "output_type": "stream",
     "text": [
      "WARNING: [generic] The url doesn't specify the protocol, trying with http\n"
     ]
    },
    {
     "name": "stdout",
     "output_type": "stream",
     "text": [
      "[youtube] Extracting URL: http://youtube.com/watch?v=ar0iK2KZXhc\n",
      "[youtube] ar0iK2KZXhc: Downloading webpage\n",
      "[youtube] ar0iK2KZXhc: Downloading android player API JSON\n",
      "[youtube] ar0iK2KZXhc: Downloading MPD manifest\n",
      "[youtube] ar0iK2KZXhc: Downloading MPD manifest\n",
      "[info] ar0iK2KZXhc: Downloading 1 format(s): 18\n",
      "[download] Destination: Videos/ccoocyl/ar0iK2KZXhc-18.mp4\n",
      "[download] 100% of   36.20MiB in 00:00:01 at 22.37MiB/s  \n",
      "[generic] Extracting URL: youtube.com/watch?v=OaAaohBkbfI\n"
     ]
    },
    {
     "name": "stderr",
     "output_type": "stream",
     "text": [
      "WARNING: [generic] The url doesn't specify the protocol, trying with http\n"
     ]
    },
    {
     "name": "stdout",
     "output_type": "stream",
     "text": [
      "[youtube] Extracting URL: http://youtube.com/watch?v=OaAaohBkbfI\n",
      "[youtube] OaAaohBkbfI: Downloading webpage\n",
      "[youtube] OaAaohBkbfI: Downloading android player API JSON\n",
      "[youtube] OaAaohBkbfI: Downloading MPD manifest\n",
      "[youtube] OaAaohBkbfI: Downloading MPD manifest\n",
      "[info] OaAaohBkbfI: Downloading 1 format(s): 22\n",
      "[download] Destination: Videos/comisionesobrerasar/OaAaohBkbfI-22.mp4\n",
      "[download] 100% of   21.90MiB in 00:00:00 at 26.61MiB/s  \n",
      "[generic] Extracting URL: youtube.com/watch?v=FwtCoAEjQ7Q\n"
     ]
    },
    {
     "name": "stderr",
     "output_type": "stream",
     "text": [
      "WARNING: [generic] The url doesn't specify the protocol, trying with http\n"
     ]
    },
    {
     "name": "stdout",
     "output_type": "stream",
     "text": [
      "[youtube] Extracting URL: http://youtube.com/watch?v=FwtCoAEjQ7Q\n",
      "[youtube] FwtCoAEjQ7Q: Downloading webpage\n",
      "[youtube] FwtCoAEjQ7Q: Downloading android player API JSON\n",
      "[youtube] FwtCoAEjQ7Q: Downloading MPD manifest\n",
      "[youtube] FwtCoAEjQ7Q: Downloading MPD manifest\n",
      "[info] FwtCoAEjQ7Q: Downloading 1 format(s): 18\n",
      "[download] Destination: Videos/SacoPlay/FwtCoAEjQ7Q-18.mp4\n",
      "[download] 100% of   11.61MiB in 00:00:00 at 24.40MiB/s    \n",
      "[generic] Extracting URL: youtube.com/watch?v=loMxbEYrK7o\n"
     ]
    },
    {
     "name": "stderr",
     "output_type": "stream",
     "text": [
      "WARNING: [generic] The url doesn't specify the protocol, trying with http\n"
     ]
    },
    {
     "name": "stdout",
     "output_type": "stream",
     "text": [
      "[youtube] Extracting URL: http://youtube.com/watch?v=loMxbEYrK7o\n",
      "[youtube] loMxbEYrK7o: Downloading webpage\n",
      "[youtube] loMxbEYrK7o: Downloading android player API JSON\n",
      "[youtube] loMxbEYrK7o: Downloading MPD manifest\n",
      "[youtube] loMxbEYrK7o: Downloading MPD manifest\n",
      "[info] loMxbEYrK7o: Downloading 1 format(s): 22\n",
      "[download] Destination: Videos/CCOODELHABITAT/loMxbEYrK7o-22.mp4\n",
      "[download] 100% of    9.37MiB in 00:00:00 at 23.86MiB/s  \n",
      "[generic] Extracting URL: youtube.com/watch?v=WB0g0UDZB9k\n"
     ]
    },
    {
     "name": "stderr",
     "output_type": "stream",
     "text": [
      "WARNING: [generic] The url doesn't specify the protocol, trying with http\n"
     ]
    },
    {
     "name": "stdout",
     "output_type": "stream",
     "text": [
      "[youtube] Extracting URL: http://youtube.com/watch?v=WB0g0UDZB9k\n",
      "[youtube] WB0g0UDZB9k: Downloading webpage\n",
      "[youtube] WB0g0UDZB9k: Downloading android player API JSON\n",
      "[youtube] WB0g0UDZB9k: Downloading MPD manifest\n",
      "[youtube] WB0g0UDZB9k: Downloading MPD manifest\n",
      "[info] WB0g0UDZB9k: Downloading 1 format(s): 22\n",
      "[download] Destination: Videos/EconaTV/WB0g0UDZB9k-22.mp4\n",
      "[download] 100% of    6.38MiB in 00:00:00 at 18.97MiB/s  \n",
      "[generic] Extracting URL: youtube.com/watch?v=k-pCf5ajcQw\n"
     ]
    },
    {
     "name": "stderr",
     "output_type": "stream",
     "text": [
      "WARNING: [generic] The url doesn't specify the protocol, trying with http\n"
     ]
    },
    {
     "name": "stdout",
     "output_type": "stream",
     "text": [
      "[youtube] Extracting URL: http://youtube.com/watch?v=k-pCf5ajcQw\n",
      "[youtube] k-pCf5ajcQw: Downloading webpage\n",
      "[youtube] k-pCf5ajcQw: Downloading android player API JSON\n",
      "[youtube] k-pCf5ajcQw: Downloading MPD manifest\n",
      "[youtube] k-pCf5ajcQw: Downloading MPD manifest\n",
      "[info] k-pCf5ajcQw: Downloading 1 format(s): 22\n",
      "[download] Destination: Videos/UGTPV/k-pCf5ajcQw-22.mp4\n",
      "[download] 100% of   27.83MiB in 00:00:01 at 22.69MiB/s    \n",
      "[generic] Extracting URL: youtube.com/watch?v=VOk3laawytI\n"
     ]
    },
    {
     "name": "stderr",
     "output_type": "stream",
     "text": [
      "WARNING: [generic] The url doesn't specify the protocol, trying with http\n"
     ]
    },
    {
     "name": "stdout",
     "output_type": "stream",
     "text": [
      "[youtube] Extracting URL: http://youtube.com/watch?v=VOk3laawytI\n",
      "[youtube] VOk3laawytI: Downloading webpage\n",
      "[youtube] VOk3laawytI: Downloading android player API JSON\n",
      "[youtube] VOk3laawytI: Downloading MPD manifest\n",
      "[youtube] VOk3laawytI: Downloading MPD manifest\n",
      "[info] VOk3laawytI: Downloading 1 format(s): 18\n",
      "[download] Destination: Videos/Uilcanetwork/VOk3laawytI-18.mp4\n",
      "[download] 100% of   12.99MiB in 00:00:02 at 6.02MiB/s   \n",
      "[generic] Extracting URL: youtube.com/watch?v=DCOjtrvbptQ\n"
     ]
    },
    {
     "name": "stderr",
     "output_type": "stream",
     "text": [
      "WARNING: [generic] The url doesn't specify the protocol, trying with http\n"
     ]
    },
    {
     "name": "stdout",
     "output_type": "stream",
     "text": [
      "[youtube] Extracting URL: http://youtube.com/watch?v=DCOjtrvbptQ\n",
      "[youtube] DCOjtrvbptQ: Downloading webpage\n",
      "[youtube] DCOjtrvbptQ: Downloading android player API JSON\n",
      "[youtube] DCOjtrvbptQ: Downloading MPD manifest\n",
      "[youtube] DCOjtrvbptQ: Downloading MPD manifest\n",
      "[info] DCOjtrvbptQ: Downloading 1 format(s): 22\n",
      "[download] Destination: Videos/ccooandalucia/DCOjtrvbptQ-22.mp4\n",
      "[download] 100% of    4.97MiB in 00:00:01 at 3.87MiB/s   \n",
      "[generic] Extracting URL: youtube.com/watch?v=GPcK3oGW9pY\n"
     ]
    },
    {
     "name": "stderr",
     "output_type": "stream",
     "text": [
      "WARNING: [generic] The url doesn't specify the protocol, trying with http\n"
     ]
    },
    {
     "name": "stdout",
     "output_type": "stream",
     "text": [
      "[youtube] Extracting URL: http://youtube.com/watch?v=GPcK3oGW9pY\n",
      "[youtube] GPcK3oGW9pY: Downloading webpage\n",
      "[youtube] GPcK3oGW9pY: Downloading android player API JSON\n",
      "[youtube] GPcK3oGW9pY: Downloading MPD manifest\n",
      "[youtube] GPcK3oGW9pY: Downloading MPD manifest\n",
      "[info] GPcK3oGW9pY: Downloading 1 format(s): 18\n",
      "[download] Destination: Videos/AUGuardiasCiviles/GPcK3oGW9pY-18.mp4\n",
      "[download] 100% of    2.38MiB in 00:00:00 at 2.85MiB/s   \n",
      "[generic] Extracting URL: youtube.com/watch?v=2yDm1XaLk1I\n"
     ]
    },
    {
     "name": "stderr",
     "output_type": "stream",
     "text": [
      "WARNING: [generic] The url doesn't specify the protocol, trying with http\n"
     ]
    },
    {
     "name": "stdout",
     "output_type": "stream",
     "text": [
      "[youtube] Extracting URL: http://youtube.com/watch?v=2yDm1XaLk1I\n",
      "[youtube] 2yDm1XaLk1I: Downloading webpage\n",
      "[youtube] 2yDm1XaLk1I: Downloading android player API JSON\n",
      "[youtube] 2yDm1XaLk1I: Downloading MPD manifest\n",
      "[youtube] 2yDm1XaLk1I: Downloading MPD manifest\n",
      "[info] 2yDm1XaLk1I: Downloading 1 format(s): 22\n",
      "[download] Destination: Videos/SATSESindicato/2yDm1XaLk1I-22.mp4\n",
      "[download] 100% of   27.82MiB in 00:00:02 at 11.90MiB/s  \n",
      "[generic] Extracting URL: youtube.com/watch?v=s3dpuJVHFsA\n"
     ]
    },
    {
     "name": "stderr",
     "output_type": "stream",
     "text": [
      "WARNING: [generic] The url doesn't specify the protocol, trying with http\n"
     ]
    },
    {
     "name": "stdout",
     "output_type": "stream",
     "text": [
      "[youtube] Extracting URL: http://youtube.com/watch?v=s3dpuJVHFsA\n",
      "[youtube] s3dpuJVHFsA: Downloading webpage\n",
      "[youtube] s3dpuJVHFsA: Downloading android player API JSON\n",
      "[youtube] s3dpuJVHFsA: Downloading MPD manifest\n",
      "[youtube] s3dpuJVHFsA: Downloading MPD manifest\n",
      "[info] s3dpuJVHFsA: Downloading 1 format(s): 18\n",
      "[download] Destination: Videos/FitCislNaz/s3dpuJVHFsA-18.mp4\n",
      "[download] 100% of   10.22MiB in 00:00:01 at 5.30MiB/s   \n",
      "[generic] Extracting URL: youtube.com/watch?v=WAJGe9TJ_i8\n"
     ]
    },
    {
     "name": "stderr",
     "output_type": "stream",
     "text": [
      "WARNING: [generic] The url doesn't specify the protocol, trying with http\n"
     ]
    },
    {
     "name": "stdout",
     "output_type": "stream",
     "text": [
      "[youtube] Extracting URL: http://youtube.com/watch?v=WAJGe9TJ_i8\n",
      "[youtube] WAJGe9TJ_i8: Downloading webpage\n",
      "[youtube] WAJGe9TJ_i8: Downloading android player API JSON\n",
      "[youtube] WAJGe9TJ_i8: Downloading MPD manifest\n",
      "[youtube] WAJGe9TJ_i8: Downloading MPD manifest\n",
      "[info] WAJGe9TJ_i8: Downloading 1 format(s): 18\n",
      "[download] Destination: Videos/anpesedenacional7838/WAJGe9TJ_i8-18.mp4\n",
      "[download] 100% of    1.72MiB in 00:00:00 at 3.67MiB/s   \n",
      "[generic] Extracting URL: youtube.com/watch?v=iGFnjlLXnsw\n"
     ]
    },
    {
     "name": "stderr",
     "output_type": "stream",
     "text": [
      "WARNING: [generic] The url doesn't specify the protocol, trying with http\n"
     ]
    },
    {
     "name": "stdout",
     "output_type": "stream",
     "text": [
      "[youtube] Extracting URL: http://youtube.com/watch?v=iGFnjlLXnsw\n",
      "[youtube] iGFnjlLXnsw: Downloading webpage\n",
      "[youtube] iGFnjlLXnsw: Downloading android player API JSON\n",
      "[youtube] iGFnjlLXnsw: Downloading MPD manifest\n",
      "[youtube] iGFnjlLXnsw: Downloading MPD manifest\n",
      "[info] iGFnjlLXnsw: Downloading 1 format(s): 22\n",
      "[download] Destination: Videos/AUGuardiasCiviles/iGFnjlLXnsw-22.mp4\n",
      "[download] 100% of    8.22MiB in 00:00:01 at 6.07MiB/s   \n",
      "[generic] Extracting URL: youtube.com/watch?v=ZdZ6iMb4WYg\n"
     ]
    },
    {
     "name": "stderr",
     "output_type": "stream",
     "text": [
      "WARNING: [generic] The url doesn't specify the protocol, trying with http\n"
     ]
    },
    {
     "name": "stdout",
     "output_type": "stream",
     "text": [
      "[youtube] Extracting URL: http://youtube.com/watch?v=ZdZ6iMb4WYg\n",
      "[youtube] ZdZ6iMb4WYg: Downloading webpage\n",
      "[youtube] ZdZ6iMb4WYg: Downloading android player API JSON\n",
      "[youtube] ZdZ6iMb4WYg: Downloading MPD manifest\n",
      "[youtube] ZdZ6iMb4WYg: Downloading MPD manifest\n",
      "[info] ZdZ6iMb4WYg: Downloading 1 format(s): 18\n",
      "[download] Destination: Videos/Industrifacketmetall/ZdZ6iMb4WYg-18.mp4\n",
      "[download] 100% of    7.00MiB in 00:00:01 at 4.79MiB/s   \n"
     ]
    }
   ],
   "source": [
    "for idx in range(0,df.shape[0]):\n",
    "\n",
    "    # Access the video url from data frame\n",
    "    video_url = df['url'].iloc[idx]\n",
    "    channel_name = df['channel'].iloc[idx].replace(\" \", \"_\")\n",
    "    len = df['length'].iloc[idx]\n",
    "\n",
    "    # Create a folder for that channel\n",
    "    channel_folder = 'Videos/' + channel_name + '/'\n",
    "    \n",
    "    # Create a new folder for the channel\n",
    "    if not os.path.exists(channel_folder):\n",
    "        create_folder(channel_folder)\n",
    "\n",
    "    ydl_opts = {'outtmpl': channel_folder + '%(id)s-%(format_id)s.%(ext)s','format': 'mp4',\n",
    "                'concurrent-fragments':8}\n",
    "    \n",
    "    if len <= 600:\n",
    "        try:\n",
    "            with YoutubeDL(ydl_opts) as ydl:\n",
    "                ydl.download([video_url]) # Downloads the best format by default \n",
    "        except:\n",
    "            logging.info(f'Error when downloading video {video_url} in channel {channel_name}.')\n",
    "    else:\n",
    "            logging.info(f'The video {video_url} in channel {channel_name} exceeded the time constrain. Length {len} seconds.')\n",
    "       "
   ]
  },
  {
   "cell_type": "code",
   "execution_count": null,
   "metadata": {},
   "outputs": [],
   "source": [
    "video_download(df, 'Videos/') "
   ]
  },
  {
   "cell_type": "code",
   "execution_count": 13,
   "metadata": {},
   "outputs": [
    {
     "name": "stdout",
     "output_type": "stream",
     "text": [
      "[youtube] Extracting URL: https://www.youtube.com/watch?v=L1JKqZacq9Y\n",
      "[youtube] L1JKqZacq9Y: Downloading webpage\n",
      "[youtube] L1JKqZacq9Y: Downloading android player API JSON\n",
      "[youtube] L1JKqZacq9Y: Downloading MPD manifest\n",
      "[youtube] L1JKqZacq9Y: Downloading MPD manifest\n",
      "[info] L1JKqZacq9Y: Downloading 1 format(s): 22\n",
      "[download] Destination: Videos/L1JKqZacq9Y-22.mp4\n",
      "[download] 100% of  124.27MiB in 00:00:02 at 44.36MiB/s    \n"
     ]
    }
   ],
   "source": [
    "url = 'https://www.youtube.com/watch?v=L1JKqZacq9Y'\n",
    "ydl_opts = {'outtmpl': 'Videos/' + '%(id)s-%(format_id)s.%(ext)s','format': 'mp4/bestvideo[ext=mp4]',\n",
    "'concurrent-fragments':8}\n",
    "with YoutubeDL(ydl_opts) as ydl:\n",
    "    ydl.download([url]) # Downloads the best format by default \n"
   ]
  },
  {
   "cell_type": "code",
   "execution_count": null,
   "metadata": {},
   "outputs": [],
   "source": []
  }
 ],
 "metadata": {
  "kernelspec": {
   "display_name": "tensorflow_m1",
   "language": "python",
   "name": "python3"
  },
  "language_info": {
   "codemirror_mode": {
    "name": "ipython",
    "version": 3
   },
   "file_extension": ".py",
   "mimetype": "text/x-python",
   "name": "python",
   "nbconvert_exporter": "python",
   "pygments_lexer": "ipython3",
   "version": "3.9.13"
  },
  "orig_nbformat": 4,
  "vscode": {
   "interpreter": {
    "hash": "e8fd7f81d704f7e8486f20ea3bbff14b5db78c7b6c53c5bab1d61bc90f011f82"
   }
  }
 },
 "nbformat": 4,
 "nbformat_minor": 2
}
