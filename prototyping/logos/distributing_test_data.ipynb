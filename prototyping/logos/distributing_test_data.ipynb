{
 "cells": [
  {
   "cell_type": "code",
   "execution_count": 11,
   "id": "ab9a9361",
   "metadata": {},
   "outputs": [],
   "source": [
    "import os\n",
    "import csv\n",
    "import shutil\n",
    "\n",
    "\n",
    "def separate_frames_p_country(main_folder,csv_file):\n",
    "\n",
    "    # Create folders for each country\n",
    "    countries = [\"sweden\", \"norway\", \"spain\", \"italy\"]\n",
    "    for country in countries:\n",
    "        country_folder = os.path.join(main_folder, country)\n",
    "        os.makedirs(country_folder, exist_ok=True)\n",
    "\n",
    "    # Read the CSV file and redistribute the subfolders\n",
    "    with open(csv_file, 'r') as file:\n",
    "        reader = csv.DictReader(file)\n",
    "        for row in reader:\n",
    "            folder_name = row[\"channel\"]\n",
    "            country = row[\"country\"]\n",
    "            if country in countries:\n",
    "                source_folder = os.path.join(main_folder, folder_name)\n",
    "                destination_folder = os.path.join(main_folder, country, folder_name)\n",
    "                if os.path.exists(source_folder):\n",
    "                    shutil.move(source_folder, destination_folder)"
   ]
  },
  {
   "cell_type": "code",
   "execution_count": 12,
   "id": "9f59f22c",
   "metadata": {},
   "outputs": [],
   "source": [
    "main_folder = \"/zpool/beast-mirror/labour-movements-mobilisation-via-visual-means/youtube_video_frames/\"\n",
    "main_folder2 = \"/zpool/beast-mirror/labour-movements-mobilisation-via-visual-means/swedish_test_data/sweden/\"\n",
    "csv_file = \"/zpool/beast-mirror/labour-movements-mobilisation-via-visual-means/CDHU-katrin_youtube_dalia/CDHU-katrin_youtube/data_collection/data/channel_metadata.csv\""
   ]
  },
  {
   "cell_type": "code",
   "execution_count": 14,
   "id": "c10b1e1a",
   "metadata": {},
   "outputs": [],
   "source": [
    "separate_frames_p_country(main_folder,csv_file)"
   ]
  },
  {
   "cell_type": "code",
   "execution_count": null,
   "id": "cfdc68d8",
   "metadata": {},
   "outputs": [],
   "source": []
  }
 ],
 "metadata": {
  "kernelspec": {
   "display_name": "yolo5_transf_learn_env",
   "language": "python",
   "name": "yolo5_transf_learn_env"
  },
  "language_info": {
   "codemirror_mode": {
    "name": "ipython",
    "version": 3
   },
   "file_extension": ".py",
   "mimetype": "text/x-python",
   "name": "python",
   "nbconvert_exporter": "python",
   "pygments_lexer": "ipython3",
   "version": "3.9.16"
  }
 },
 "nbformat": 4,
 "nbformat_minor": 5
}
