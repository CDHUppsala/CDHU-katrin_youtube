{
 "cells": [
  {
   "cell_type": "code",
   "execution_count": 1,
   "metadata": {},
   "outputs": [],
   "source": [
    "\n",
    "import requests, lxml, re, urllib.parse, base64\n",
    "from bs4 import BeautifulSoup\n",
    "from PIL import Image\n",
    "from io import BytesIO\n",
    "\n",
    "headers = {\n",
    "    \"User-Agent\":\n",
    "    \"Mozilla/5.0 (Windows NT 10.0; Win64; x64) AppleWebKit/537.36 (KHTML, like Gecko) Chrome/70.0.3538.102 Safari/537.36 Edge/18.19582\"\n",
    "}\n",
    "\n",
    "params = {\n",
    "    \"q\": \"minecraft shareds photo\",\n",
    "    \"sourceid\": \"chrome\",\n",
    "}\n",
    "\n",
    "html = requests.get(\"https://www.google.com/search\", params=params, headers=headers)\n",
    "soup = BeautifulSoup(html.text, 'lxml')"
   ]
  },
  {
   "cell_type": "code",
   "execution_count": 2,
   "metadata": {},
   "outputs": [],
   "source": [
    "for result in soup.select('div[jsname=dTDiAc]'):\n",
    "    link = f\"https://www.google.com{result.a['href']}\"\n",
    "    being_used_on = result['data-lpage']\n",
    "    print(f'Link: {link}\\nBeing used on: {being_used_on}\\n')\n",
    "\n",
    "# finding all script (<script>) tags\n",
    "script_img_tags = soup.find_all('script')\n",
    "\n",
    "# https://regex101.com/r/L3IZXe/4\n",
    "img_matches = re.findall(r\"s='data:image/jpeg;base64,(.*?)';\", str(script_img_tags))\n",
    "\n",
    "for index, image in enumerate(img_matches):\n",
    "    try:\n",
    "        # https://stackoverflow.com/a/6966225/15164646\n",
    "        final_image = Image.open(BytesIO(base64.b64decode(str(image))))\n",
    "\n",
    "        # https://www.educative.io/edpresso/absolute-vs-relative-path\n",
    "        # https://stackoverflow.com/a/31434485/15164646\n",
    "        final_image.save(f'prototyping/logos/Images_logos/inline_image_{index}.jpg', 'JPEG')\n",
    "    except:\n",
    "        pass"
   ]
  },
  {
   "cell_type": "markdown",
   "metadata": {},
   "source": []
  },
  {
   "cell_type": "code",
   "execution_count": null,
   "metadata": {},
   "outputs": [],
   "source": []
  }
 ],
 "metadata": {
  "kernelspec": {
   "display_name": "tensorflow_m1",
   "language": "python",
   "name": "python3"
  },
  "language_info": {
   "codemirror_mode": {
    "name": "ipython",
    "version": 3
   },
   "file_extension": ".py",
   "mimetype": "text/x-python",
   "name": "python",
   "nbconvert_exporter": "python",
   "pygments_lexer": "ipython3",
   "version": "3.9.13 | packaged by conda-forge | (main, May 27 2022, 17:00:33) \n[Clang 13.0.1 ]"
  },
  "orig_nbformat": 4,
  "vscode": {
   "interpreter": {
    "hash": "e8fd7f81d704f7e8486f20ea3bbff14b5db78c7b6c53c5bab1d61bc90f011f82"
   }
  }
 },
 "nbformat": 4,
 "nbformat_minor": 2
}
