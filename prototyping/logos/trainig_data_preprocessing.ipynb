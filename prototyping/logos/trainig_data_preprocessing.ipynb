{
 "cells": [
  {
   "cell_type": "code",
   "execution_count": 1,
   "metadata": {},
   "outputs": [],
   "source": [
    "import pandas as pd\n",
    "import os"
   ]
  },
  {
   "cell_type": "code",
   "execution_count": 2,
   "metadata": {},
   "outputs": [],
   "source": [
    "def change_names(root_folder:str):\n",
    "    for dir in os.listdir(root_folder):\n",
    "        if not dir.startswith('.'):\n",
    "            party_folder = root_folder + dir + '/'\n",
    "            print(party_folder)\n",
    "            for im_folder in os.listdir(party_folder):\n",
    "                if not im_folder.startswith('.') and im_folder.startswith('im'):\n",
    "                    im_folder = party_folder + im_folder + '/'\n",
    "                    counter = 0\n",
    "                    for image_name in os.listdir(im_folder):\n",
    "                        old_name = im_folder + image_name\n",
    "                        _, extension = os.path.splitext(image_name)\n",
    "                        new_name = im_folder + dir + str(counter)+ extension\n",
    "                        os.rename(old_name, new_name)\n",
    "                        counter += 1"
   ]
  },
  {
   "cell_type": "code",
   "execution_count": 37,
   "metadata": {},
   "outputs": [
    {
     "name": "stdout",
     "output_type": "stream",
     "text": [
      "/Users/pauor506/Documents/CDHU/June2022:Dec2022/Pilots/Youtube_Katrin/logos_imgs/Sverige_socialdemokraterna/\n",
      "/Users/pauor506/Documents/CDHU/June2022:Dec2022/Pilots/Youtube_Katrin/logos_imgs/Sverige_Sverigedemokraterna/\n",
      "/Users/pauor506/Documents/CDHU/June2022:Dec2022/Pilots/Youtube_Katrin/logos_imgs/España_Partido_Popular/\n",
      "/Users/pauor506/Documents/CDHU/June2022:Dec2022/Pilots/Youtube_Katrin/logos_imgs/Italia_Forza_Italia_Partito/\n",
      "/Users/pauor506/Documents/CDHU/June2022:Dec2022/Pilots/Youtube_Katrin/logos_imgs/Italia_Partito_del_comunisti_italiani/\n",
      "/Users/pauor506/Documents/CDHU/June2022:Dec2022/Pilots/Youtube_Katrin/logos_imgs/Norge_Høyre/\n",
      "/Users/pauor506/Documents/CDHU/June2022:Dec2022/Pilots/Youtube_Katrin/logos_imgs/Norge_Arbeiderpartiet/\n"
     ]
    }
   ],
   "source": [
    "# Change format from many to only jpeg\n",
    "\n",
    "root_folder = '/Users/pauor506/Documents/CDHU/June2022:Dec2022/Pilots/Youtube_Katrin/Data_party_logos/'\n",
    "\n",
    "\n",
    "for dir in os.listdir(root_folder):\n",
    "    if not dir.startswith('.'):\n",
    "        party_folder = root_folder + dir + '/'\n",
    "        print(party_folder)\n",
    "        for image in os.listdir(party_folder+'images'):\n",
    "            if not image.startswith('.') and not image.endswith('.jpeg'):\n",
    "                os.replace(party_folder+'images/'+image, party_folder+'images/'+image.split('.')[0]+'.jpeg')\n",
    "                #print(party_folder+'images/'+image)\n",
    "                #print(party_folder+'images/'+image.split('.')[0]+'.jpeg')\n"
   ]
  },
  {
   "cell_type": "code",
   "execution_count": 4,
   "metadata": {},
   "outputs": [
    {
     "name": "stdout",
     "output_type": "stream",
     "text": [
      "lenghts are: 117 for labels and 196 for images\n",
      "Match lenght: 116\n"
     ]
    }
   ],
   "source": [
    "root_folder = '/Users/pauor506/Documents/CDHU/June2022:Dec2022/Pilots/Youtube_Katrin/Data_party_logos'\n",
    "party = 'España_Izquierda_unida_partido'\n",
    "party_folder = root_folder + '/' + party\n",
    "\n",
    "labels_list = [label.split('.')[0] for label in os.listdir(party_folder+'/'+'labels')]\n",
    "imas_list = [label.split('.')[0] for label in os.listdir(party_folder+'/'+'images')]\n",
    "print(f'lenghts are: {len(labels_list)} for labels and {len(imas_list)} for images')\n",
    "match_list = set(labels_list) & set(imas_list)\n",
    "print(f'Match lenght: {len(match_list)}')\n"
   ]
  },
  {
   "cell_type": "code",
   "execution_count": 5,
   "metadata": {},
   "outputs": [],
   "source": [
    "for im_name in match_list:\n",
    "    os.replace(party_folder+'/'+'images'+'/'+im_name+'.jpeg', party_folder+'/'+'images_with_label'+'/'+im_name+'.jpeg')"
   ]
  },
  {
   "cell_type": "code",
   "execution_count": null,
   "metadata": {},
   "outputs": [],
   "source": []
  },
  {
   "cell_type": "code",
   "execution_count": null,
   "metadata": {},
   "outputs": [],
   "source": []
  },
  {
   "cell_type": "code",
   "execution_count": null,
   "metadata": {},
   "outputs": [],
   "source": []
  },
  {
   "cell_type": "code",
   "execution_count": 60,
   "metadata": {},
   "outputs": [],
   "source": [
    "folder = '/Users/pauor506/Documents/CDHU/June2022:Dec2022/Pilots/Youtube_Katrin/logos_imgs/España_Partido_Popular/images_with_label'\n",
    "for immm in os.listdir(folder):\n",
    "    os.replace(folder+'/'+immm, folder+'/'+immm.split('jpeg')[0]+'.jpeg')\n",
    "    #print(immm.split('jpeg')[0])"
   ]
  },
  {
   "cell_type": "code",
   "execution_count": null,
   "metadata": {},
   "outputs": [],
   "source": []
  },
  {
   "cell_type": "code",
   "execution_count": 3,
   "metadata": {},
   "outputs": [],
   "source": []
  },
  {
   "cell_type": "code",
   "execution_count": null,
   "metadata": {},
   "outputs": [],
   "source": []
  }
 ],
 "metadata": {
  "kernelspec": {
   "display_name": "tensorflow_m1",
   "language": "python",
   "name": "python3"
  },
  "language_info": {
   "codemirror_mode": {
    "name": "ipython",
    "version": 3
   },
   "file_extension": ".py",
   "mimetype": "text/x-python",
   "name": "python",
   "nbconvert_exporter": "python",
   "pygments_lexer": "ipython3",
   "version": "3.9.13"
  },
  "orig_nbformat": 4,
  "vscode": {
   "interpreter": {
    "hash": "e8fd7f81d704f7e8486f20ea3bbff14b5db78c7b6c53c5bab1d61bc90f011f82"
   }
  }
 },
 "nbformat": 4,
 "nbformat_minor": 2
}
