{
 "cells": [
  {
   "cell_type": "code",
   "execution_count": 2,
   "metadata": {},
   "outputs": [],
   "source": [
    "import os\n",
    "import io\n",
    "import numpy as np\n",
    "from PIL import Image\n",
    "import math\n",
    "import sys"
   ]
  },
  {
   "cell_type": "code",
   "execution_count": 34,
   "metadata": {},
   "outputs": [],
   "source": [
    "def change_names(root_folder:str):\n",
    "    for dir in os.listdir(root_folder):\n",
    "        if not dir.startswith('.'):\n",
    "            party_folder = root_folder + dir + '/'\n",
    "            print(party_folder)\n",
    "            for im_folder in os.listdir(party_folder):\n",
    "                if not im_folder.startswith('.') and im_folder.startswith('im'):\n",
    "                    im_folder = party_folder + im_folder + '/'\n",
    "                    counter = 0\n",
    "                    for image_name in os.listdir(im_folder):\n",
    "                        old_name = im_folder + image_name\n",
    "                        _, extension = os.path.splitext(image_name)\n",
    "                        new_name = im_folder + dir + str(counter)+ extension\n",
    "                        os.rename(old_name, new_name)\n",
    "                        counter += 1\n"
   ]
  },
  {
   "cell_type": "code",
   "execution_count": 35,
   "metadata": {},
   "outputs": [
    {
     "name": "stdout",
     "output_type": "stream",
     "text": [
      "../../data_collection/data/logos_imgs/Sverige_socialdemokraterna/\n",
      "../../data_collection/data/logos_imgs/Sverige_Sverigedemokraterna/\n",
      "../../data_collection/data/logos_imgs/España_Partido_Popular/\n",
      "../../data_collection/data/logos_imgs/Italia_Forza_Italia_Partito /\n",
      "../../data_collection/data/logos_imgs/Italia_Partito_del_comunisti_italiani/\n",
      "../../data_collection/data/logos_imgs/Norge_Høyre/\n",
      "../../data_collection/data/logos_imgs/Norge_Arbeiderpartiet/\n",
      "../../data_collection/data/logos_imgs/España_Izquierda_unida_partido/\n"
     ]
    }
   ],
   "source": [
    "change_names('../../data_collection/data/logos_imgs/')"
   ]
  },
  {
   "cell_type": "code",
   "execution_count": 3,
   "metadata": {},
   "outputs": [
    {
     "name": "stdout",
     "output_type": "stream",
     "text": [
      "../../data_collection/data/logos_imgs/Italia_Forza_Italia_Partito/\n"
     ]
    }
   ],
   "source": [
    "root_folder = '../../data_collection/data/logos_imgs/'\n",
    "dir = 'Italia_Forza_Italia_Partito'\n",
    "party_folder = root_folder + dir + '/'\n",
    "print(party_folder)\n",
    "for im_folder in os.listdir(party_folder):\n",
    "    if not im_folder.startswith('.') and im_folder.startswith('im'):\n",
    "        im_folder = party_folder + im_folder + '/'\n",
    "        counter = 0\n",
    "        for image_name in os.listdir(im_folder):\n",
    "            old_name = im_folder + image_name\n",
    "            _, extension = os.path.splitext(image_name)\n",
    "            new_name = im_folder + dir + str(counter)+ extension\n",
    "            os.rename(old_name, new_name)\n",
    "            counter += 1"
   ]
  },
  {
   "cell_type": "code",
   "execution_count": null,
   "metadata": {},
   "outputs": [],
   "source": []
  }
 ],
 "metadata": {
  "kernelspec": {
   "display_name": "tensorflow_m1",
   "language": "python",
   "name": "python3"
  },
  "language_info": {
   "codemirror_mode": {
    "name": "ipython",
    "version": 3
   },
   "file_extension": ".py",
   "mimetype": "text/x-python",
   "name": "python",
   "nbconvert_exporter": "python",
   "pygments_lexer": "ipython3",
   "version": "3.9.13"
  },
  "orig_nbformat": 4,
  "vscode": {
   "interpreter": {
    "hash": "e8fd7f81d704f7e8486f20ea3bbff14b5db78c7b6c53c5bab1d61bc90f011f82"
   }
  }
 },
 "nbformat": 4,
 "nbformat_minor": 2
}
